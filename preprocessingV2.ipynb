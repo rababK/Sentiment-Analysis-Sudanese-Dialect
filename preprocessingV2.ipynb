{
 "cells": [
  {
   "cell_type": "code",
   "execution_count": 6,
   "id": "35d77c91",
   "metadata": {},
   "outputs": [
    {
     "name": "stderr",
     "output_type": "stream",
     "text": [
      "[nltk_data] Downloading package stopwords to\n",
      "[nltk_data]     C:\\Users\\Athar\\AppData\\Roaming\\nltk_data...\n",
      "[nltk_data]   Unzipping corpora\\stopwords.zip.\n"
     ]
    }
   ],
   "source": [
    "from aranorm import normalize_arabic_text\n",
    "import nltk\n",
    "from nltk.corpus import stopwords\n",
    "from nltk import word_tokenize\n",
    "import pandas as pd\n",
    "\n",
    "nltk.download('stopwords')\n",
    "def normlizeComment(file1,file2):\n",
    "\n",
    "    with open(file1, 'r') as file1:\n",
    "        with open(file2, 'w',newline='') as file2:\n",
    "            for row in file1:\n",
    "       \n",
    "       \n",
    "                file2.write(normalize_arabic_text(row))\n",
    "                file2.write('\\n')\n",
    "\n",
    "\n",
    "\n",
    "def removeStopWords(file1,file2):\n",
    "\n",
    "    arabicStopWords= stopwords.words(\"arabic\")\n",
    "\n",
    "    with open(file1, 'r') as file1:\n",
    "        with open(file2, 'w',newline='') as file2:\n",
    "\n",
    "            for row in file1:\n",
    "                tokenizedRow = word_tokenize(row)\n",
    "                commentWithNoStopWords= ' '.join([i for i in tokenizedRow if i not in arabicStopWords])\n",
    "                file2.write(commentWithNoStopWords)\n",
    "                file2.write('\\n')\n",
    "\n",
    "normlizeComment('ALLComments.txt','normlizedComments2')\n",
    "removeStopWords('normlizedComments2','commentsWithNoStopWords2')\n",
    "       \n",
    "read_file = pd.read_csv (r'commentsWithNoStopWords')\n",
    "read_file.to_csv (r'cleanComments.csv', index=None)"
   ]
  },
  {
   "cell_type": "code",
   "execution_count": null,
   "id": "7d66590c",
   "metadata": {},
   "outputs": [],
   "source": []
  }
 ],
 "metadata": {
  "kernelspec": {
   "display_name": "Python 3 (ipykernel)",
   "language": "python",
   "name": "python3"
  },
  "language_info": {
   "codemirror_mode": {
    "name": "ipython",
    "version": 3
   },
   "file_extension": ".py",
   "mimetype": "text/x-python",
   "name": "python",
   "nbconvert_exporter": "python",
   "pygments_lexer": "ipython3",
   "version": "3.9.12"
  }
 },
 "nbformat": 4,
 "nbformat_minor": 5
}
