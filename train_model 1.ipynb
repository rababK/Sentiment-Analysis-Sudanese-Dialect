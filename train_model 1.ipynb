{
 "cells": [
  {
   "cell_type": "code",
   "execution_count": 1,
   "id": "e1f50f03",
   "metadata": {},
   "outputs": [],
   "source": [
    "import pandas as pd\n",
    "import numpy as np\n",
    "import json\n",
    "import re\n",
    "import string\n",
    "from sklearn.model_selection import train_test_split\n",
    "from sklearn.utils import resample\n",
    "from sklearn.feature_extraction.text import TfidfVectorizer, CountVectorizer\n",
    "from sklearn.metrics import accuracy_score, f1_score\n",
    "from sklearn.svm import SVC\n",
    "from sklearn.ensemble import RandomForestClassifier, AdaBoostClassifier, GradientBoostingClassifier\n",
    "from sklearn.neural_network import MLPClassifier\n",
    "from sklearn.ensemble import VotingClassifier\n",
    "from sklearn.linear_model import LogisticRegression\n",
    "from sklearn.naive_bayes import MultinomialNB, GaussianNB\n",
    "from sklearn.model_selection import GridSearchCV\n",
    "from sklearn.model_selection import StratifiedShuffleSplit\n",
    "from tqdm.notebook import tqdm\n",
    "import matplotlib.pyplot as plt\n",
    "import sys\n",
    "\n",
    "import pickle\n",
    "\n",
    "\n",
    "%matplotlib inline"
   ]
  },
  {
   "cell_type": "code",
   "execution_count": 2,
   "id": "75cf2238",
   "metadata": {},
   "outputs": [],
   "source": [
    "rand_seed = 0  # random state for reproducibility"
   ]
  },
  {
   "cell_type": "code",
   "execution_count": 4,
   "id": "7456d79c",
   "metadata": {},
   "outputs": [],
   "source": [
    "np.random.seed(rand_seed)"
   ]
  },
  {
   "cell_type": "code",
   "execution_count": 10,
   "id": "92296525",
   "metadata": {},
   "outputs": [
    {
     "data": {
      "text/html": [
       "<div>\n",
       "<style scoped>\n",
       "    .dataframe tbody tr th:only-of-type {\n",
       "        vertical-align: middle;\n",
       "    }\n",
       "\n",
       "    .dataframe tbody tr th {\n",
       "        vertical-align: top;\n",
       "    }\n",
       "\n",
       "    .dataframe thead th {\n",
       "        text-align: right;\n",
       "    }\n",
       "</style>\n",
       "<table border=\"1\" class=\"dataframe\">\n",
       "  <thead>\n",
       "    <tr style=\"text-align: right;\">\n",
       "      <th></th>\n",
       "      <th>comment</th>\n",
       "      <th>label</th>\n",
       "    </tr>\n",
       "  </thead>\n",
       "  <tbody>\n",
       "    <tr>\n",
       "      <th>0</th>\n",
       "      <td>نفسي يوم تكتبو السعر بدون مانسال</td>\n",
       "      <td>سلبي</td>\n",
       "    </tr>\n",
       "    <tr>\n",
       "      <th>1</th>\n",
       "      <td>طيب ما تشرحو طريقه الاشتراك في الباقه دي</td>\n",
       "      <td>محايد</td>\n",
       "    </tr>\n",
       "    <tr>\n",
       "      <th>2</th>\n",
       "      <td>لو قللتو الرسائل دي واديتونا ليها ميقات يكون ...</td>\n",
       "      <td>سلبي</td>\n",
       "    </tr>\n",
       "    <tr>\n",
       "      <th>3</th>\n",
       "      <td>رمز الاشتراك شنو</td>\n",
       "      <td>محايد</td>\n",
       "    </tr>\n",
       "    <tr>\n",
       "      <th>4</th>\n",
       "      <td>واو</td>\n",
       "      <td>ايجابي</td>\n",
       "    </tr>\n",
       "  </tbody>\n",
       "</table>\n",
       "</div>"
      ],
      "text/plain": [
       "                                             comment   label\n",
       "0                   نفسي يوم تكتبو السعر بدون مانسال    سلبي\n",
       "1           طيب ما تشرحو طريقه الاشتراك في الباقه دي   محايد\n",
       "2   لو قللتو الرسائل دي واديتونا ليها ميقات يكون ...    سلبي\n",
       "3                                   رمز الاشتراك شنو   محايد\n",
       "4                                                واو  ايجابي"
      ]
     },
     "execution_count": 10,
     "metadata": {},
     "output_type": "execute_result"
    }
   ],
   "source": [
    "# reading our prepared data\n",
    "data = pd.read_excel('file/ALL_data.xlsx')\n",
    "data = data.dropna()\n",
    "data.head()"
   ]
  },
  {
   "cell_type": "code",
   "execution_count": 12,
   "id": "f46782de",
   "metadata": {},
   "outputs": [
    {
     "data": {
      "text/html": [
       "<div>\n",
       "<style scoped>\n",
       "    .dataframe tbody tr th:only-of-type {\n",
       "        vertical-align: middle;\n",
       "    }\n",
       "\n",
       "    .dataframe tbody tr th {\n",
       "        vertical-align: top;\n",
       "    }\n",
       "\n",
       "    .dataframe thead th {\n",
       "        text-align: right;\n",
       "    }\n",
       "</style>\n",
       "<table border=\"1\" class=\"dataframe\">\n",
       "  <thead>\n",
       "    <tr style=\"text-align: right;\">\n",
       "      <th></th>\n",
       "      <th>comment</th>\n",
       "      <th>label</th>\n",
       "    </tr>\n",
       "  </thead>\n",
       "  <tbody>\n",
       "    <tr>\n",
       "      <th>0</th>\n",
       "      <td>نفسي يوم تكتبو السعر بدون مانسال</td>\n",
       "      <td>سلبي</td>\n",
       "    </tr>\n",
       "    <tr>\n",
       "      <th>2</th>\n",
       "      <td>لو قللتو الرسائل دي واديتونا ليها ميقات يكون ...</td>\n",
       "      <td>سلبي</td>\n",
       "    </tr>\n",
       "    <tr>\n",
       "      <th>4</th>\n",
       "      <td>واو</td>\n",
       "      <td>ايجابي</td>\n",
       "    </tr>\n",
       "    <tr>\n",
       "      <th>8</th>\n",
       "      <td>شكرا التوضيح مفيد اكرر الشكر سوداني الابداع وا...</td>\n",
       "      <td>ايجابي</td>\n",
       "    </tr>\n",
       "    <tr>\n",
       "      <th>14</th>\n",
       "      <td>سوداني جميل</td>\n",
       "      <td>ايجابي</td>\n",
       "    </tr>\n",
       "    <tr>\n",
       "      <th>...</th>\n",
       "      <td>...</td>\n",
       "      <td>...</td>\n",
       "    </tr>\n",
       "    <tr>\n",
       "      <th>2483</th>\n",
       "      <td>انا بيع شريحتي دي في زول بشتري</td>\n",
       "      <td>سلبي</td>\n",
       "    </tr>\n",
       "    <tr>\n",
       "      <th>2484</th>\n",
       "      <td>اغلي من كده</td>\n",
       "      <td>سلبي</td>\n",
       "    </tr>\n",
       "    <tr>\n",
       "      <th>2485</th>\n",
       "      <td>نقلب بس</td>\n",
       "      <td>سلبي</td>\n",
       "    </tr>\n",
       "    <tr>\n",
       "      <th>2486</th>\n",
       "      <td>يوم واحد م نشطت سوداني م عارفه بتستغلو بيها كي...</td>\n",
       "      <td>سلبي</td>\n",
       "    </tr>\n",
       "    <tr>\n",
       "      <th>2488</th>\n",
       "      <td>اعملو الدايرنو اللهم اني بريء</td>\n",
       "      <td>سلبي</td>\n",
       "    </tr>\n",
       "  </tbody>\n",
       "</table>\n",
       "<p>1909 rows × 2 columns</p>\n",
       "</div>"
      ],
      "text/plain": [
       "                                                comment   label\n",
       "0                      نفسي يوم تكتبو السعر بدون مانسال    سلبي\n",
       "2      لو قللتو الرسائل دي واديتونا ليها ميقات يكون ...    سلبي\n",
       "4                                                   واو  ايجابي\n",
       "8     شكرا التوضيح مفيد اكرر الشكر سوداني الابداع وا...  ايجابي\n",
       "14                                          سوداني جميل  ايجابي\n",
       "...                                                 ...     ...\n",
       "2483                     انا بيع شريحتي دي في زول بشتري    سلبي\n",
       "2484                                        اغلي من كده    سلبي\n",
       "2485                                            نقلب بس    سلبي\n",
       "2486  يوم واحد م نشطت سوداني م عارفه بتستغلو بيها كي...    سلبي\n",
       "2488                      اعملو الدايرنو اللهم اني بريء    سلبي\n",
       "\n",
       "[1909 rows x 2 columns]"
      ]
     },
     "execution_count": 12,
     "metadata": {},
     "output_type": "execute_result"
    }
   ],
   "source": [
    "data = data[data['label'] != 'محايد']\n",
    "data"
   ]
  },
  {
   "cell_type": "code",
   "execution_count": 13,
   "id": "cb4361f1",
   "metadata": {},
   "outputs": [],
   "source": [
    "def random_split(data, features, output, fraction, seed=0):\n",
    "    X_train, X_test, y_train, y_test = train_test_split(data[features],\n",
    "                                                        data[output],\n",
    "                                                        stratify = data[output],\n",
    "                                                        random_state=seed,\n",
    "                                                        train_size=fraction\n",
    "                                                       )\n",
    "    train_data = pd.DataFrame(data=X_train, columns=features)\n",
    "    train_data[output] = y_train\n",
    "    test_data = pd.DataFrame(data=X_test, columns=features)\n",
    "    test_data[output] = y_test\n",
    "    \n",
    "    return train_data, test_data"
   ]
  },
  {
   "cell_type": "code",
   "execution_count": 14,
   "id": "80c06bc4",
   "metadata": {},
   "outputs": [
    {
     "name": "stdout",
     "output_type": "stream",
     "text": [
      "output: label\n",
      "features: ['comment']\n",
      "1527\n",
      "191\n",
      "191\n",
      "1909\n",
      "1909\n"
     ]
    }
   ],
   "source": [
    "train_fraction = .80 # use this to split data into training (80%), and tmp (20%)\n",
    "val_fraction = .50   # use this to split the tmp data into validation (50%), and \n",
    "                     # testing (50%) which means that the validation will be 10% of the original data as well as the\n",
    "\n",
    "output = 'label' # output label column\n",
    "features = data.columns.tolist() # the features columns\n",
    "features.remove(output)\n",
    "print('output:', output)\n",
    "print('features:', features)\n",
    "\n",
    "train_data, tmp = random_split(data, features, output, train_fraction, rand_seed)\n",
    "val_data, test_data = random_split(tmp, features, output, val_fraction, rand_seed)\n",
    "\n",
    "print(len(train_data))\n",
    "print(len(val_data))\n",
    "print(len(test_data))\n",
    "print(len(train_data)+len(val_data)+len(test_data))\n",
    "print(len(data))"
   ]
  },
  {
   "cell_type": "code",
   "execution_count": 17,
   "id": "5314afa5",
   "metadata": {},
   "outputs": [],
   "source": [
    "vectorizer = TfidfVectorizer(ngram_range=(1, 2), sublinear_tf=True, max_df=0.5, stop_words=None, use_idf=True)\n",
    "# vectorizer = CountVectorizer(ngram_range=(1, 2))\n",
    "\n",
    "train_data_features = vectorizer.fit_transform(train_data['comment'].values.astype('U'))\n",
    "val_data_features = vectorizer.transform(val_data['comment'].values.astype('U'))\n",
    "test_data_features = vectorizer.transform(test_data['comment'].values.astype('U'))\n"
   ]
  },
  {
   "cell_type": "code",
   "execution_count": 18,
   "id": "aee8805e",
   "metadata": {},
   "outputs": [
    {
     "data": {
      "text/plain": [
       "((1527, 12363), (191, 12363), (191, 12363))"
      ]
     },
     "execution_count": 18,
     "metadata": {},
     "output_type": "execute_result"
    }
   ],
   "source": [
    "train_data_features.shape, val_data_features.shape, test_data_features.shape"
   ]
  },
  {
   "cell_type": "code",
   "execution_count": 19,
   "id": "d71fee81",
   "metadata": {},
   "outputs": [],
   "source": [
    "def train_n_test_classifier(clf, train_features, train_labels, test_features, test_labels):\n",
    "    clf.fit(train_features, train_labels) # please learn patterns from the data\n",
    "\n",
    "    print(\"score on training data:\")\n",
    "    print(clf.score(train_features, train_labels))\n",
    "    print('_'*100)\n",
    "\n",
    "    print(\"score on testing data:\")\n",
    "    \n",
    "    pred_y = clf.predict(test_features)\n",
    "    print('accuracy_score: ')\n",
    "    print(accuracy_score(test_labels, pred_y))\n",
    "    \n",
    "    print('f1_score: ')\n",
    "    print(f1_score(test_labels, pred_y, average='macro'))"
   ]
  },
  {
   "cell_type": "code",
   "execution_count": 20,
   "id": "121e0e1d",
   "metadata": {},
   "outputs": [
    {
     "name": "stdout",
     "output_type": "stream",
     "text": [
      "score on training data:\n",
      "0.8781925343811395\n",
      "____________________________________________________________________________________________________\n",
      "score on testing data:\n",
      "accuracy_score: \n",
      "0.8900523560209425\n",
      "f1_score: \n",
      "0.8604238438250339\n"
     ]
    }
   ],
   "source": [
    "logistic_reg = LogisticRegression(random_state=rand_seed)\n",
    "\n",
    "train_n_test_classifier(logistic_reg, train_data_features, train_data[output],\n",
    "                        val_data_features, val_data[output])"
   ]
  },
  {
   "cell_type": "code",
   "execution_count": 21,
   "id": "0b71c2a8",
   "metadata": {},
   "outputs": [
    {
     "name": "stdout",
     "output_type": "stream",
     "text": [
      "score on training data:\n",
      "0.9731499672560576\n",
      "____________________________________________________________________________________________________\n",
      "score on testing data:\n",
      "accuracy_score: \n",
      "0.900523560209424\n",
      "f1_score: \n",
      "0.8737168110797926\n"
     ]
    }
   ],
   "source": [
    "mnb = MultinomialNB()\n",
    "\n",
    "train_n_test_classifier(mnb, train_data_features, train_data[output],\n",
    "                        val_data_features, val_data[output])"
   ]
  },
  {
   "cell_type": "code",
   "execution_count": 22,
   "id": "cf149889",
   "metadata": {},
   "outputs": [
    {
     "name": "stdout",
     "output_type": "stream",
     "text": [
      "score on training data:\n",
      "0.9973804846103471\n",
      "____________________________________________________________________________________________________\n",
      "score on testing data:\n",
      "accuracy_score: \n",
      "0.9214659685863874\n",
      "f1_score: \n",
      "0.904757155679665\n"
     ]
    }
   ],
   "source": [
    "svm = SVC(kernel='linear', probability=True, random_state=rand_seed)\n",
    "\n",
    "train_n_test_classifier(svm, train_data_features, train_data[output],\n",
    "                        val_data_features, val_data[output])"
   ]
  },
  {
   "cell_type": "code",
   "execution_count": 23,
   "id": "c870ab17",
   "metadata": {},
   "outputs": [
    {
     "name": "stdout",
     "output_type": "stream",
     "text": [
      "score on training data:\n",
      "1.0\n",
      "____________________________________________________________________________________________________\n",
      "score on testing data:\n",
      "accuracy_score: \n",
      "0.8900523560209425\n",
      "f1_score: \n",
      "0.8718407515097295\n"
     ]
    }
   ],
   "source": [
    "rf = RandomForestClassifier(n_estimators=100, random_state=rand_seed)\n",
    "\n",
    "train_n_test_classifier(rf, train_data_features, train_data[output],\n",
    "                        val_data_features, val_data[output])"
   ]
  },
  {
   "cell_type": "code",
   "execution_count": 24,
   "id": "df7c041a",
   "metadata": {},
   "outputs": [
    {
     "name": "stdout",
     "output_type": "stream",
     "text": [
      "Iteration 1, loss = 0.72876904\n",
      "Iteration 2, loss = 0.70050097\n",
      "Iteration 3, loss = 0.67728836\n",
      "Iteration 4, loss = 0.65562782\n",
      "Iteration 5, loss = 0.62985583\n",
      "Iteration 6, loss = 0.59836234\n",
      "Iteration 7, loss = 0.56004019\n",
      "Iteration 8, loss = 0.51118655\n",
      "Iteration 9, loss = 0.45090170\n",
      "Iteration 10, loss = 0.38149434\n",
      "Iteration 11, loss = 0.31377240\n",
      "Iteration 12, loss = 0.25778517\n",
      "Iteration 13, loss = 0.21467158\n",
      "Iteration 14, loss = 0.18140836\n",
      "Iteration 15, loss = 0.15622048\n",
      "Iteration 16, loss = 0.13618057\n",
      "Iteration 17, loss = 0.11924556\n",
      "Iteration 18, loss = 0.10458006\n",
      "Iteration 19, loss = 0.09256662\n",
      "Iteration 20, loss = 0.08235123\n",
      "Iteration 21, loss = 0.07190770\n",
      "Iteration 22, loss = 0.06178783\n",
      "Iteration 23, loss = 0.05109523\n",
      "Iteration 24, loss = 0.04097320\n",
      "Iteration 25, loss = 0.03192033\n",
      "Iteration 26, loss = 0.02409166\n",
      "Iteration 27, loss = 0.01808993\n",
      "Iteration 28, loss = 0.01338670\n",
      "Iteration 29, loss = 0.01003177\n",
      "Iteration 30, loss = 0.00762824\n",
      "Iteration 31, loss = 0.00586055\n",
      "Iteration 32, loss = 0.00460668\n",
      "Iteration 33, loss = 0.00366429\n",
      "Iteration 34, loss = 0.00298060\n",
      "Iteration 35, loss = 0.00245134\n",
      "Iteration 36, loss = 0.00205244\n",
      "Iteration 37, loss = 0.00174868\n",
      "Iteration 38, loss = 0.00150601\n",
      "Iteration 39, loss = 0.00130920\n",
      "Iteration 40, loss = 0.00115528\n",
      "Iteration 41, loss = 0.00102816\n",
      "Iteration 42, loss = 0.00092245\n",
      "Iteration 43, loss = 0.00083817\n",
      "Training loss did not improve more than tol=0.001000 for 10 consecutive epochs. Stopping.\n",
      "score on training data:\n",
      "1.0\n",
      "____________________________________________________________________________________________________\n",
      "score on testing data:\n",
      "accuracy_score: \n",
      "0.9109947643979057\n",
      "f1_score: \n",
      "0.8962520369364476\n"
     ]
    }
   ],
   "source": [
    "mlp = MLPClassifier(hidden_layer_sizes=(20,20,20,20), verbose=True, tol=0.001, random_state=rand_seed)\n",
    "train_n_test_classifier(mlp, train_data_features, train_data[output],\n",
    "                        val_data_features, val_data[output])"
   ]
  },
  {
   "cell_type": "code",
   "execution_count": 25,
   "id": "a3daf51f",
   "metadata": {},
   "outputs": [
    {
     "data": {
      "text/html": [
       "<div>\n",
       "<style scoped>\n",
       "    .dataframe tbody tr th:only-of-type {\n",
       "        vertical-align: middle;\n",
       "    }\n",
       "\n",
       "    .dataframe tbody tr th {\n",
       "        vertical-align: top;\n",
       "    }\n",
       "\n",
       "    .dataframe thead th {\n",
       "        text-align: right;\n",
       "    }\n",
       "</style>\n",
       "<table border=\"1\" class=\"dataframe\">\n",
       "  <thead>\n",
       "    <tr style=\"text-align: right;\">\n",
       "      <th></th>\n",
       "      <th>comment</th>\n",
       "      <th>label</th>\n",
       "    </tr>\n",
       "  </thead>\n",
       "  <tbody>\n",
       "    <tr>\n",
       "      <th>0</th>\n",
       "      <td>نفسي يوم تكتبو السعر بدون مانسال</td>\n",
       "      <td>سلبي</td>\n",
       "    </tr>\n",
       "    <tr>\n",
       "      <th>1</th>\n",
       "      <td>طيب ما تشرحو طريقه الاشتراك في الباقه دي</td>\n",
       "      <td>محايد</td>\n",
       "    </tr>\n",
       "    <tr>\n",
       "      <th>2</th>\n",
       "      <td>لو قللتو الرسائل دي واديتونا ليها ميقات يكون ...</td>\n",
       "      <td>سلبي</td>\n",
       "    </tr>\n",
       "    <tr>\n",
       "      <th>3</th>\n",
       "      <td>رمز الاشتراك شنو</td>\n",
       "      <td>محايد</td>\n",
       "    </tr>\n",
       "    <tr>\n",
       "      <th>4</th>\n",
       "      <td>واو</td>\n",
       "      <td>ايجابي</td>\n",
       "    </tr>\n",
       "  </tbody>\n",
       "</table>\n",
       "</div>"
      ],
      "text/plain": [
       "                                             comment   label\n",
       "0                   نفسي يوم تكتبو السعر بدون مانسال    سلبي\n",
       "1           طيب ما تشرحو طريقه الاشتراك في الباقه دي   محايد\n",
       "2   لو قللتو الرسائل دي واديتونا ليها ميقات يكون ...    سلبي\n",
       "3                                   رمز الاشتراك شنو   محايد\n",
       "4                                                واو  ايجابي"
      ]
     },
     "execution_count": 25,
     "metadata": {},
     "output_type": "execute_result"
    }
   ],
   "source": [
    "# reading our prepared data\n",
    "data = pd.read_excel('file/ALL_data.xlsx')\n",
    "data = data.dropna()\n",
    "data.head()"
   ]
  },
  {
   "cell_type": "code",
   "execution_count": 26,
   "id": "2b64a648",
   "metadata": {},
   "outputs": [
    {
     "data": {
      "text/html": [
       "<div>\n",
       "<style scoped>\n",
       "    .dataframe tbody tr th:only-of-type {\n",
       "        vertical-align: middle;\n",
       "    }\n",
       "\n",
       "    .dataframe tbody tr th {\n",
       "        vertical-align: top;\n",
       "    }\n",
       "\n",
       "    .dataframe thead th {\n",
       "        text-align: right;\n",
       "    }\n",
       "</style>\n",
       "<table border=\"1\" class=\"dataframe\">\n",
       "  <thead>\n",
       "    <tr style=\"text-align: right;\">\n",
       "      <th></th>\n",
       "      <th>comment</th>\n",
       "    </tr>\n",
       "    <tr>\n",
       "      <th>label</th>\n",
       "      <th></th>\n",
       "    </tr>\n",
       "  </thead>\n",
       "  <tbody>\n",
       "    <tr>\n",
       "      <th>ايجابي</th>\n",
       "      <td>609</td>\n",
       "    </tr>\n",
       "    <tr>\n",
       "      <th>سلبي</th>\n",
       "      <td>1300</td>\n",
       "    </tr>\n",
       "    <tr>\n",
       "      <th>محايد</th>\n",
       "      <td>580</td>\n",
       "    </tr>\n",
       "  </tbody>\n",
       "</table>\n",
       "</div>"
      ],
      "text/plain": [
       "        comment\n",
       "label          \n",
       "ايجابي      609\n",
       "سلبي       1300\n",
       "محايد       580"
      ]
     },
     "execution_count": 26,
     "metadata": {},
     "output_type": "execute_result"
    }
   ],
   "source": [
    "data.groupby('label').count()"
   ]
  },
  {
   "cell_type": "code",
   "execution_count": 27,
   "id": "af991019",
   "metadata": {},
   "outputs": [
    {
     "data": {
      "text/plain": [
       "(609, 1300, 580)"
      ]
     },
     "execution_count": 27,
     "metadata": {},
     "output_type": "execute_result"
    }
   ],
   "source": [
    "positive_data = data[data['label'] == 'ايجابي'].dropna()\n",
    "negative_data = data[data['label'] == 'سلبي'].dropna()\n",
    "neutral_data = data[data['label'] == 'محايد'].dropna()\n",
    "len(positive_data), len(negative_data), len(neutral_data)"
   ]
  },
  {
   "cell_type": "code",
   "execution_count": 30,
   "id": "f61be501",
   "metadata": {},
   "outputs": [
    {
     "name": "stderr",
     "output_type": "stream",
     "text": [
      "C:\\Users\\Administrator\\AppData\\Local\\Temp\\1\\ipykernel_5068\\1779321054.py:1: FutureWarning: The frame.append method is deprecated and will be removed from pandas in a future version. Use pandas.concat instead.\n",
      "  non_neutral_data = positive_data.append(negative_data).sample(frac=1).reset_index(drop=True)\n"
     ]
    }
   ],
   "source": [
    "non_neutral_data = positive_data.append(negative_data).sample(frac=1).reset_index(drop=True)\n",
    "non_neutral_data['label'] = 'غير محايد'"
   ]
  },
  {
   "cell_type": "code",
   "execution_count": 31,
   "id": "637f7086",
   "metadata": {},
   "outputs": [
    {
     "name": "stderr",
     "output_type": "stream",
     "text": [
      "C:\\Users\\Administrator\\AppData\\Local\\Temp\\1\\ipykernel_5068\\300981967.py:1: FutureWarning: The frame.append method is deprecated and will be removed from pandas in a future version. Use pandas.concat instead.\n",
      "  neu_data = neutral_data.append(non_neutral_data).dropna().sample(frac=1).reset_index(drop=True)\n"
     ]
    },
    {
     "data": {
      "text/html": [
       "<div>\n",
       "<style scoped>\n",
       "    .dataframe tbody tr th:only-of-type {\n",
       "        vertical-align: middle;\n",
       "    }\n",
       "\n",
       "    .dataframe tbody tr th {\n",
       "        vertical-align: top;\n",
       "    }\n",
       "\n",
       "    .dataframe thead th {\n",
       "        text-align: right;\n",
       "    }\n",
       "</style>\n",
       "<table border=\"1\" class=\"dataframe\">\n",
       "  <thead>\n",
       "    <tr style=\"text-align: right;\">\n",
       "      <th></th>\n",
       "      <th>comment</th>\n",
       "      <th>label</th>\n",
       "    </tr>\n",
       "  </thead>\n",
       "  <tbody>\n",
       "    <tr>\n",
       "      <th>0</th>\n",
       "      <td>بس حاول اتطور اكتر لانو العالم متقدم وان شاء ا...</td>\n",
       "      <td>غير محايد</td>\n",
       "    </tr>\n",
       "    <tr>\n",
       "      <th>1</th>\n",
       "      <td>موفقين ان شاء الله</td>\n",
       "      <td>غير محايد</td>\n",
       "    </tr>\n",
       "    <tr>\n",
       "      <th>2</th>\n",
       "      <td>عاد بااااالغتووو</td>\n",
       "      <td>غير محايد</td>\n",
       "    </tr>\n",
       "    <tr>\n",
       "      <th>3</th>\n",
       "      <td>الباقات حقت النت مالها غالية كدا تقول باقات بنزين</td>\n",
       "      <td>غير محايد</td>\n",
       "    </tr>\n",
       "    <tr>\n",
       "      <th>4</th>\n",
       "      <td>تسلموو</td>\n",
       "      <td>غير محايد</td>\n",
       "    </tr>\n",
       "    <tr>\n",
       "      <th>...</th>\n",
       "      <td>...</td>\n",
       "      <td>...</td>\n",
       "    </tr>\n",
       "    <tr>\n",
       "      <th>2484</th>\n",
       "      <td>ياخ النت بتاعكم كعب شديد و يجيب الجلطه</td>\n",
       "      <td>غير محايد</td>\n",
       "    </tr>\n",
       "    <tr>\n",
       "      <th>2485</th>\n",
       "      <td>الشبكة زي الزفت الاشتراك زاتو كل مرة بتغيرو ال...</td>\n",
       "      <td>غير محايد</td>\n",
       "    </tr>\n",
       "    <tr>\n",
       "      <th>2486</th>\n",
       "      <td>نت اليوم زي الزفت الله ينعلكم</td>\n",
       "      <td>غير محايد</td>\n",
       "    </tr>\n",
       "    <tr>\n",
       "      <th>2487</th>\n",
       "      <td>النت كعب خساره قروش بس بلد ما فيها شئ شغال كويس</td>\n",
       "      <td>غير محايد</td>\n",
       "    </tr>\n",
       "    <tr>\n",
       "      <th>2488</th>\n",
       "      <td>بتبالق لكن نشطة قيقا و نزلت ملف و م ديرها تنت...</td>\n",
       "      <td>غير محايد</td>\n",
       "    </tr>\n",
       "  </tbody>\n",
       "</table>\n",
       "<p>2489 rows × 2 columns</p>\n",
       "</div>"
      ],
      "text/plain": [
       "                                                comment      label\n",
       "0     بس حاول اتطور اكتر لانو العالم متقدم وان شاء ا...  غير محايد\n",
       "1                                    موفقين ان شاء الله  غير محايد\n",
       "2                                      عاد بااااالغتووو  غير محايد\n",
       "3     الباقات حقت النت مالها غالية كدا تقول باقات بنزين  غير محايد\n",
       "4                                                تسلموو  غير محايد\n",
       "...                                                 ...        ...\n",
       "2484             ياخ النت بتاعكم كعب شديد و يجيب الجلطه  غير محايد\n",
       "2485  الشبكة زي الزفت الاشتراك زاتو كل مرة بتغيرو ال...  غير محايد\n",
       "2486                      نت اليوم زي الزفت الله ينعلكم  غير محايد\n",
       "2487    النت كعب خساره قروش بس بلد ما فيها شئ شغال كويس  غير محايد\n",
       "2488   بتبالق لكن نشطة قيقا و نزلت ملف و م ديرها تنت...  غير محايد\n",
       "\n",
       "[2489 rows x 2 columns]"
      ]
     },
     "execution_count": 31,
     "metadata": {},
     "output_type": "execute_result"
    }
   ],
   "source": [
    "neu_data = neutral_data.append(non_neutral_data).dropna().sample(frac=1).reset_index(drop=True)\n",
    "neu_data"
   ]
  },
  {
   "cell_type": "code",
   "execution_count": 32,
   "id": "894930c6",
   "metadata": {},
   "outputs": [
    {
     "name": "stdout",
     "output_type": "stream",
     "text": [
      "output: label\n",
      "features: ['comment']\n",
      "1991\n",
      "249\n",
      "249\n",
      "2489\n",
      "2489\n"
     ]
    }
   ],
   "source": [
    "train_fraction = .80 # use this to split data into training (80%), and tmp (20%)\n",
    "val_fraction = .50   # use this to split the tmp data into validation (50%), and \n",
    "                     # testing (50%) which means that the validation will be 10% of the original data as well as the\n",
    "\n",
    "# seed = 0  # random state for reproducibility\n",
    "output = 'label' # output label column\n",
    "features = neu_data.columns.tolist() # the features columns\n",
    "features.remove(output)\n",
    "print('output:', output)\n",
    "print('features:', features)\n",
    "\n",
    "neu_train_data, neu_tmp = random_split(neu_data, features, output, train_fraction, rand_seed)\n",
    "neu_val_data, neu_test_data = random_split(neu_tmp, features, output, val_fraction, rand_seed)\n",
    "\n",
    "print(len(neu_train_data))\n",
    "print(len(neu_val_data))\n",
    "print(len(neu_test_data))\n",
    "print(len(neu_train_data)+len(neu_val_data)+len(neu_test_data))\n",
    "print(len(neu_data))"
   ]
  },
  {
   "cell_type": "code",
   "execution_count": 33,
   "id": "502889c8",
   "metadata": {},
   "outputs": [],
   "source": [
    "neu_vectorizer = TfidfVectorizer(ngram_range=(1, 2), sublinear_tf=True, max_df=0.5, stop_words=None, use_idf=True)\n",
    "# neu_vectorizer = CountVectorizer(ngram_range=(1, 2))\n",
    "neu_train_data_features = neu_vectorizer.fit_transform(neu_train_data['comment'].values.astype('U'))\n",
    "neu_val_data_features = neu_vectorizer.transform(neu_val_data['comment'].values.astype('U'))\n",
    "neu_test_data_features = neu_vectorizer.transform(neu_test_data['comment'].values.astype('U'))\n"
   ]
  },
  {
   "cell_type": "code",
   "execution_count": 34,
   "id": "8612102f",
   "metadata": {},
   "outputs": [
    {
     "name": "stdout",
     "output_type": "stream",
     "text": [
      "score on training data:\n",
      "0.7995981918633852\n",
      "____________________________________________________________________________________________________\n",
      "score on testing data:\n",
      "accuracy_score: \n",
      "0.7911646586345381\n",
      "f1_score: \n",
      "0.5458754208754208\n"
     ]
    }
   ],
   "source": [
    "neu_logistic_reg = LogisticRegression(random_state=rand_seed)\n",
    "\n",
    "train_n_test_classifier(neu_logistic_reg, neu_train_data_features, neu_train_data[output],\n",
    "                        neu_val_data_features, neu_val_data[output])"
   ]
  },
  {
   "cell_type": "code",
   "execution_count": 35,
   "id": "02d1cfeb",
   "metadata": {},
   "outputs": [
    {
     "name": "stdout",
     "output_type": "stream",
     "text": [
      "Iteration 1, loss = 0.76431680\n",
      "Iteration 2, loss = 0.67594404\n",
      "Iteration 3, loss = 0.56817987\n",
      "Iteration 4, loss = 0.46405916\n",
      "Iteration 5, loss = 0.36479671\n",
      "Iteration 6, loss = 0.26897376\n",
      "Iteration 7, loss = 0.17940872\n",
      "Iteration 8, loss = 0.10812300\n",
      "Iteration 9, loss = 0.06223096\n",
      "Iteration 10, loss = 0.03651689\n",
      "Iteration 11, loss = 0.02382360\n",
      "Iteration 12, loss = 0.01789159\n",
      "Iteration 13, loss = 0.01461815\n",
      "Iteration 14, loss = 0.01282045\n",
      "Iteration 15, loss = 0.01179202\n",
      "Iteration 16, loss = 0.01070044\n",
      "Iteration 17, loss = 0.01059728\n",
      "Iteration 18, loss = 0.01003944\n",
      "Iteration 19, loss = 0.00980005\n",
      "Iteration 20, loss = 0.00909180\n",
      "Iteration 21, loss = 0.00922396\n",
      "Iteration 22, loss = 0.00905796\n",
      "Iteration 23, loss = 0.00872916\n",
      "Iteration 24, loss = 0.00851724\n",
      "Iteration 25, loss = 0.00846515\n",
      "Iteration 26, loss = 0.00821178\n",
      "Iteration 27, loss = 0.00840891\n",
      "Training loss did not improve more than tol=0.001000 for 10 consecutive epochs. Stopping.\n",
      "score on training data:\n",
      "0.9959819186338523\n",
      "____________________________________________________________________________________________________\n",
      "score on testing data:\n",
      "accuracy_score: \n",
      "0.8273092369477911\n",
      "f1_score: \n",
      "0.7625994989024634\n"
     ]
    }
   ],
   "source": [
    "neu_mlp = MLPClassifier(hidden_layer_sizes=(100,100), verbose=True, tol=0.001, random_state=rand_seed)\n",
    "train_n_test_classifier(neu_mlp, neu_train_data_features, neu_train_data[output],\n",
    "                        neu_val_data_features, neu_val_data[output])"
   ]
  },
  {
   "cell_type": "code",
   "execution_count": 36,
   "id": "334835bb",
   "metadata": {},
   "outputs": [
    {
     "name": "stdout",
     "output_type": "stream",
     "text": [
      "score on training data:\n",
      "0.8538422903063787\n",
      "____________________________________________________________________________________________________\n",
      "score on testing data:\n",
      "accuracy_score: \n",
      "0.7991967871485943\n",
      "f1_score: \n",
      "0.5633417508417509\n"
     ]
    }
   ],
   "source": [
    "neu_mnb = MultinomialNB()\n",
    "train_n_test_classifier(neu_mnb, neu_train_data_features, neu_train_data[output],\n",
    "                        neu_val_data_features, neu_val_data[output])"
   ]
  },
  {
   "cell_type": "code",
   "execution_count": 37,
   "id": "4e0cca44",
   "metadata": {},
   "outputs": [
    {
     "name": "stdout",
     "output_type": "stream",
     "text": [
      "score on training data:\n",
      "0.9834254143646409\n",
      "____________________________________________________________________________________________________\n",
      "score on testing data:\n",
      "accuracy_score: \n",
      "0.8192771084337349\n",
      "f1_score: \n",
      "0.6543480272696425\n"
     ]
    }
   ],
   "source": [
    "neu_svm = SVC(kernel='linear', probability=True, random_state=rand_seed)\n",
    "\n",
    "train_n_test_classifier(neu_svm, neu_train_data_features, neu_train_data[output],\n",
    "                        neu_val_data_features, neu_val_data[output])"
   ]
  },
  {
   "cell_type": "code",
   "execution_count": 73,
   "id": "1dc2afae",
   "metadata": {},
   "outputs": [
    {
     "name": "stdout",
     "output_type": "stream",
     "text": [
      "score on training data:\n",
      "0.9959819186338523\n",
      "____________________________________________________________________________________________________\n",
      "score on testing data:\n",
      "accuracy_score: \n",
      "0.7269076305220884\n",
      "f1_score: \n",
      "0.6267195767195767\n"
     ]
    }
   ],
   "source": [
    "neu_rf = RandomForestClassifier(n_estimators=100, random_state=rand_seed)\n",
    "\n",
    "train_n_test_classifier(neu_rf, neu_train_data_features, neu_train_data[output],\n",
    "                        neu_val_data_features, neu_val_data[output])"
   ]
  },
  {
   "cell_type": "code",
   "execution_count": 74,
   "id": "90983c63",
   "metadata": {},
   "outputs": [],
   "source": [
    "pickle.dump(vectorizer, open(f'file/vectorizer.pkl', 'wb'))\n",
    "pickle.dump(logistic_reg, open(f'file/logistic_reg.pkl', 'wb'))\n",
    "pickle.dump(mnb, open(f'file/mnb.pkl', 'wb'))\n",
    "pickle.dump(svm, open(f'file/svm.pkl', 'wb'))\n",
    "pickle.dump(rf, open(f'file/rf.pkl', 'wb'))\n",
    "pickle.dump(mlp, open(f'file/mlp.pkl', 'wb'))\n",
    "pickle.dump(neu_vectorizer, open(f'file/neu_vectorizer.pkl', 'wb'))\n",
    "pickle.dump(neu_logistic_reg, open(f'file/neu_logistic_reg.pkl', 'wb'))\n",
    "pickle.dump(neu_mnb, open(f'file/neu_mnb.pkl', 'wb'))\n",
    "pickle.dump(neu_svm, open(f'file/neu_svm.pkl', 'wb'))\n",
    "pickle.dump(neu_rf, open(f'file/neu_rf.pkl', 'wb'))\n",
    "pickle.dump(neu_mlp, open(f'file/neu_mlp.pkl', 'wb'))"
   ]
  },
  {
   "cell_type": "code",
   "execution_count": 75,
   "id": "dbbefdd3",
   "metadata": {},
   "outputs": [],
   "source": [
    "vectorizer = pickle.load(open(f'file/vectorizer.pkl', 'rb'))\n",
    "logistic_reg = pickle.load(open(f'file/logistic_reg.pkl', 'rb'))\n",
    "mnb = pickle.load(open(f'file/mnb.pkl', 'rb'))\n",
    "svm = pickle.load(open(f'file/svm.pkl', 'rb'))\n",
    "rf = pickle.load(open(f'file/rf.pkl', 'rb'))\n",
    "mlp = pickle.load(open(f'file/mlp.pkl', 'rb'))\n",
    "\n",
    "neu_vectorizer = pickle.load(open(f'file/neu_vectorizer.pkl', 'rb'))\n",
    "neu_logistic_reg = pickle.load(open(f'file/neu_logistic_reg.pkl', 'rb'))\n",
    "neu_mnb = pickle.load(open(f'file/neu_mnb.pkl', 'rb'))\n",
    "neu_svm = pickle.load(open(f'file/neu_svm.pkl', 'rb'))\n",
    "neu_rf = pickle.load(open(f'file/neu_rf.pkl', 'rb'))\n",
    "neu_mlp = pickle.load(open(f'file/neu_mlp.pkl', 'rb'))"
   ]
  },
  {
   "cell_type": "code",
   "execution_count": 89,
   "id": "3f46a373",
   "metadata": {},
   "outputs": [
    {
     "ename": "IndentationError",
     "evalue": "unindent does not match any outer indentation level (<tokenize>, line 3)",
     "output_type": "error",
     "traceback": [
      "\u001b[1;36m  File \u001b[1;32m\"<tokenize>\"\u001b[1;36m, line \u001b[1;32m3\u001b[0m\n\u001b[1;33m    if len(X[neu_y_pred == 'عير محايد']) > 0:\u001b[0m\n\u001b[1;37m    ^\u001b[0m\n\u001b[1;31mIndentationError\u001b[0m\u001b[1;31m:\u001b[0m unindent does not match any outer indentation level\n"
     ]
    }
   ],
   "source": [
    "def predict_multi_level(X, neu_vectorizer, neu_clf, vectorizer, clf):\n",
    "       neu_y_pred = neu_clf.predict(neu_vectorizer.transform(X))\n",
    "    if len(X[neu_y_pred == 'عير محايد']) > 0:\n",
    "        y_pred = clf.predict(vectorizer.transform(X[neu_y_pred == 'عير محايد'])) # classify non neutral into positive or negative\n",
    "        neu_y_pred[neu_y_pred == 'عير محايد'] = y_pred\n",
    "    \n",
    "    final_y_pred = neu_y_pred\n",
    "    return final_y_pred\n",
    "\n",
    "\n",
    "X = test_data.dropna()['comment'].values\n",
    "y = test_data.dropna()['label'].values\n",
    "pred_y = predict_multi_level(X, neu_vectorizer, neu_mlp, vectorizer, mnb)"
   ]
  },
  {
   "cell_type": "code",
   "execution_count": 83,
   "id": "0fe5959a",
   "metadata": {},
   "outputs": [
    {
     "name": "stderr",
     "output_type": "stream",
     "text": [
      "C:\\Users\\Administrator\\AppData\\Local\\Temp\\1\\ipykernel_5068\\300981967.py:1: FutureWarning: The frame.append method is deprecated and will be removed from pandas in a future version. Use pandas.concat instead.\n",
      "  neu_data = neutral_data.append(non_neutral_data).dropna().sample(frac=1).reset_index(drop=True)\n"
     ]
    },
    {
     "data": {
      "text/html": [
       "<div>\n",
       "<style scoped>\n",
       "    .dataframe tbody tr th:only-of-type {\n",
       "        vertical-align: middle;\n",
       "    }\n",
       "\n",
       "    .dataframe tbody tr th {\n",
       "        vertical-align: top;\n",
       "    }\n",
       "\n",
       "    .dataframe thead th {\n",
       "        text-align: right;\n",
       "    }\n",
       "</style>\n",
       "<table border=\"1\" class=\"dataframe\">\n",
       "  <thead>\n",
       "    <tr style=\"text-align: right;\">\n",
       "      <th></th>\n",
       "      <th>comment</th>\n",
       "      <th>label</th>\n",
       "    </tr>\n",
       "  </thead>\n",
       "  <tbody>\n",
       "    <tr>\n",
       "      <th>0</th>\n",
       "      <td>انشاء الله يكون بالجد اصلي ماعندي شريحه سوداني</td>\n",
       "      <td>محايد</td>\n",
       "    </tr>\n",
       "    <tr>\n",
       "      <th>1</th>\n",
       "      <td>مقاطعه بس</td>\n",
       "      <td>غير محايد</td>\n",
       "    </tr>\n",
       "    <tr>\n",
       "      <th>2</th>\n",
       "      <td>الحمدلله اي حد شقال علي كيفو</td>\n",
       "      <td>غير محايد</td>\n",
       "    </tr>\n",
       "    <tr>\n",
       "      <th>3</th>\n",
       "      <td>بالتوفيق</td>\n",
       "      <td>غير محايد</td>\n",
       "    </tr>\n",
       "    <tr>\n",
       "      <th>4</th>\n",
       "      <td>بدايه الالفينات</td>\n",
       "      <td>محايد</td>\n",
       "    </tr>\n",
       "    <tr>\n",
       "      <th>...</th>\n",
       "      <td>...</td>\n",
       "      <td>...</td>\n",
       "    </tr>\n",
       "    <tr>\n",
       "      <th>2484</th>\n",
       "      <td>موفقين</td>\n",
       "      <td>غير محايد</td>\n",
       "    </tr>\n",
       "    <tr>\n",
       "      <th>2485</th>\n",
       "      <td>فشله</td>\n",
       "      <td>غير محايد</td>\n",
       "    </tr>\n",
       "    <tr>\n",
       "      <th>2486</th>\n",
       "      <td>ربنا يوفقكم يارب</td>\n",
       "      <td>غير محايد</td>\n",
       "    </tr>\n",
       "    <tr>\n",
       "      <th>2487</th>\n",
       "      <td>سوداني لكل سوداني</td>\n",
       "      <td>غير محايد</td>\n",
       "    </tr>\n",
       "    <tr>\n",
       "      <th>2488</th>\n",
       "      <td>ياناس سوداني حرام عليكم بتسحبو النت سريع</td>\n",
       "      <td>غير محايد</td>\n",
       "    </tr>\n",
       "  </tbody>\n",
       "</table>\n",
       "<p>2489 rows × 2 columns</p>\n",
       "</div>"
      ],
      "text/plain": [
       "                                             comment      label\n",
       "0     انشاء الله يكون بالجد اصلي ماعندي شريحه سوداني      محايد\n",
       "1                                          مقاطعه بس  غير محايد\n",
       "2                       الحمدلله اي حد شقال علي كيفو  غير محايد\n",
       "3                                           بالتوفيق  غير محايد\n",
       "4                                    بدايه الالفينات      محايد\n",
       "...                                              ...        ...\n",
       "2484                                          موفقين  غير محايد\n",
       "2485                                            فشله  غير محايد\n",
       "2486                                ربنا يوفقكم يارب  غير محايد\n",
       "2487                               سوداني لكل سوداني  غير محايد\n",
       "2488        ياناس سوداني حرام عليكم بتسحبو النت سريع  غير محايد\n",
       "\n",
       "[2489 rows x 2 columns]"
      ]
     },
     "execution_count": 83,
     "metadata": {},
     "output_type": "execute_result"
    }
   ],
   "source": [
    "neu_data = neutral_data.append(non_neutral_data).dropna().sample(frac=1).reset_index(drop=True)\n",
    "neu_data"
   ]
  },
  {
   "cell_type": "code",
   "execution_count": 90,
   "id": "5c8e6965",
   "metadata": {},
   "outputs": [
    {
     "name": "stdout",
     "output_type": "stream",
     "text": [
      "accuracy_score: \n"
     ]
    },
    {
     "ename": "NameError",
     "evalue": "name 'pred_y' is not defined",
     "output_type": "error",
     "traceback": [
      "\u001b[1;31m---------------------------------------------------------------------------\u001b[0m",
      "\u001b[1;31mNameError\u001b[0m                                 Traceback (most recent call last)",
      "\u001b[1;32m~\\AppData\\Local\\Temp\\1\\ipykernel_5068\\1688814856.py\u001b[0m in \u001b[0;36m<module>\u001b[1;34m\u001b[0m\n\u001b[0;32m      1\u001b[0m \u001b[0mprint\u001b[0m\u001b[1;33m(\u001b[0m\u001b[1;34m'accuracy_score: '\u001b[0m\u001b[1;33m)\u001b[0m\u001b[1;33m\u001b[0m\u001b[1;33m\u001b[0m\u001b[0m\n\u001b[1;32m----> 2\u001b[1;33m \u001b[0mprint\u001b[0m\u001b[1;33m(\u001b[0m\u001b[0maccuracy_score\u001b[0m\u001b[1;33m(\u001b[0m\u001b[0my\u001b[0m\u001b[1;33m,\u001b[0m \u001b[0mpred_y\u001b[0m\u001b[1;33m)\u001b[0m\u001b[1;33m)\u001b[0m\u001b[1;33m\u001b[0m\u001b[1;33m\u001b[0m\u001b[0m\n\u001b[0m\u001b[0;32m      3\u001b[0m \u001b[1;33m\u001b[0m\u001b[0m\n\u001b[0;32m      4\u001b[0m \u001b[0mprint\u001b[0m\u001b[1;33m(\u001b[0m\u001b[1;34m'f1_score: '\u001b[0m\u001b[1;33m)\u001b[0m\u001b[1;33m\u001b[0m\u001b[1;33m\u001b[0m\u001b[0m\n\u001b[0;32m      5\u001b[0m \u001b[0mprint\u001b[0m\u001b[1;33m(\u001b[0m\u001b[0mf1_score\u001b[0m\u001b[1;33m(\u001b[0m\u001b[0my\u001b[0m\u001b[1;33m,\u001b[0m \u001b[0mpred_y\u001b[0m\u001b[1;33m,\u001b[0m \u001b[0maverage\u001b[0m\u001b[1;33m=\u001b[0m\u001b[1;34m'macro'\u001b[0m\u001b[1;33m)\u001b[0m\u001b[1;33m)\u001b[0m\u001b[1;33m\u001b[0m\u001b[1;33m\u001b[0m\u001b[0m\n",
      "\u001b[1;31mNameError\u001b[0m: name 'pred_y' is not defined"
     ]
    }
   ],
   "source": [
    "print('accuracy_score: ')\n",
    "print(accuracy_score(y, pred_y))\n",
    "\n",
    "print('f1_score: ')\n",
    "print(f1_score(y, pred_y, average='macro'))"
   ]
  },
  {
   "cell_type": "code",
   "execution_count": null,
   "id": "5996294d",
   "metadata": {},
   "outputs": [],
   "source": []
  }
 ],
 "metadata": {
  "kernelspec": {
   "display_name": "Python 3 (ipykernel)",
   "language": "python",
   "name": "python3"
  },
  "language_info": {
   "codemirror_mode": {
    "name": "ipython",
    "version": 3
   },
   "file_extension": ".py",
   "mimetype": "text/x-python",
   "name": "python",
   "nbconvert_exporter": "python",
   "pygments_lexer": "ipython3",
   "version": "3.9.13"
  }
 },
 "nbformat": 4,
 "nbformat_minor": 5
}
