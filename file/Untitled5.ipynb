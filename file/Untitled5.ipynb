{
 "cells": [
  {
   "cell_type": "code",
   "execution_count": 2,
   "id": "96ed014f",
   "metadata": {},
   "outputs": [
    {
     "name": "stdout",
     "output_type": "stream",
     "text": [
      "Collecting kerasNote: you may need to restart the kernel to use updated packages.\n",
      "  Downloading keras-2.11.0-py2.py3-none-any.whl (1.7 MB)\n",
      "Installing collected packages: keras\n",
      "Successfully installed keras-2.11.0\n",
      "\n"
     ]
    }
   ],
   "source": [
    "pip install keras"
   ]
  },
  {
   "cell_type": "code",
   "execution_count": 4,
   "id": "ed532325",
   "metadata": {},
   "outputs": [
    {
     "name": "stdout",
     "output_type": "stream",
     "text": [
      "Collecting tensorflowNote: you may need to restart the kernel to use updated packages.\n",
      "\n",
      "  Downloading tensorflow-2.11.0-cp39-cp39-win_amd64.whl (1.9 kB)\n",
      "Collecting tensorflow-intel==2.11.0\n",
      "  Downloading tensorflow_intel-2.11.0-cp39-cp39-win_amd64.whl (266.3 MB)\n",
      "Collecting absl-py>=1.0.0\n",
      "  Downloading absl_py-1.3.0-py3-none-any.whl (124 kB)\n",
      "Collecting tensorflow-io-gcs-filesystem>=0.23.1\n",
      "  Downloading tensorflow_io_gcs_filesystem-0.29.0-cp39-cp39-win_amd64.whl (1.5 MB)\n",
      "Collecting google-pasta>=0.1.1\n",
      "  Downloading google_pasta-0.2.0-py3-none-any.whl (57 kB)\n",
      "Requirement already satisfied: h5py>=2.9.0 in c:\\users\\rabab\\anaconda3\\lib\\site-packages (from tensorflow-intel==2.11.0->tensorflow) (3.6.0)\n",
      "Collecting tensorflow-estimator<2.12,>=2.11.0\n",
      "  Downloading tensorflow_estimator-2.11.0-py2.py3-none-any.whl (439 kB)\n",
      "Requirement already satisfied: wrapt>=1.11.0 in c:\\users\\rabab\\anaconda3\\lib\\site-packages (from tensorflow-intel==2.11.0->tensorflow) (1.12.1)\n",
      "Collecting libclang>=13.0.0\n",
      "  Downloading libclang-14.0.6-py2.py3-none-win_amd64.whl (14.2 MB)\n",
      "Requirement already satisfied: packaging in c:\\users\\rabab\\anaconda3\\lib\\site-packages (from tensorflow-intel==2.11.0->tensorflow) (21.3)\n",
      "Collecting astunparse>=1.6.0\n",
      "  Downloading astunparse-1.6.3-py2.py3-none-any.whl (12 kB)\n",
      "Collecting gast<=0.4.0,>=0.2.1\n",
      "  Downloading gast-0.4.0-py3-none-any.whl (9.8 kB)\n",
      "Collecting termcolor>=1.1.0\n",
      "  Downloading termcolor-2.2.0-py3-none-any.whl (6.6 kB)\n",
      "Collecting tensorboard<2.12,>=2.11\n",
      "  Downloading tensorboard-2.11.0-py3-none-any.whl (6.0 MB)\n",
      "Requirement already satisfied: grpcio<2.0,>=1.24.3 in c:\\users\\rabab\\anaconda3\\lib\\site-packages (from tensorflow-intel==2.11.0->tensorflow) (1.42.0)\n",
      "Requirement already satisfied: protobuf<3.20,>=3.9.2 in c:\\users\\rabab\\anaconda3\\lib\\site-packages (from tensorflow-intel==2.11.0->tensorflow) (3.19.1)\n",
      "Requirement already satisfied: numpy>=1.20 in c:\\users\\rabab\\anaconda3\\lib\\site-packages (from tensorflow-intel==2.11.0->tensorflow) (1.21.5)\n",
      "Requirement already satisfied: six>=1.12.0 in c:\\users\\rabab\\anaconda3\\lib\\site-packages (from tensorflow-intel==2.11.0->tensorflow) (1.16.0)\n",
      "Requirement already satisfied: setuptools in c:\\users\\rabab\\anaconda3\\lib\\site-packages (from tensorflow-intel==2.11.0->tensorflow) (61.2.0)\n",
      "Collecting opt-einsum>=2.3.2\n",
      "  Downloading opt_einsum-3.3.0-py3-none-any.whl (65 kB)\n",
      "Requirement already satisfied: keras<2.12,>=2.11.0 in c:\\users\\rabab\\anaconda3\\lib\\site-packages (from tensorflow-intel==2.11.0->tensorflow) (2.11.0)\n",
      "Requirement already satisfied: typing-extensions>=3.6.6 in c:\\users\\rabab\\anaconda3\\lib\\site-packages (from tensorflow-intel==2.11.0->tensorflow) (4.1.1)\n",
      "Collecting flatbuffers>=2.0\n",
      "  Downloading flatbuffers-23.1.4-py2.py3-none-any.whl (26 kB)\n",
      "Requirement already satisfied: wheel<1.0,>=0.23.0 in c:\\users\\rabab\\anaconda3\\lib\\site-packages (from astunparse>=1.6.0->tensorflow-intel==2.11.0->tensorflow) (0.37.1)\n",
      "Requirement already satisfied: google-auth<3,>=1.6.3 in c:\\users\\rabab\\anaconda3\\lib\\site-packages (from tensorboard<2.12,>=2.11->tensorflow-intel==2.11.0->tensorflow) (1.33.0)\n",
      "Collecting tensorboard-plugin-wit>=1.6.0\n",
      "  Downloading tensorboard_plugin_wit-1.8.1-py3-none-any.whl (781 kB)\n",
      "Requirement already satisfied: requests<3,>=2.21.0 in c:\\users\\rabab\\anaconda3\\lib\\site-packages (from tensorboard<2.12,>=2.11->tensorflow-intel==2.11.0->tensorflow) (2.27.1)\n",
      "Requirement already satisfied: markdown>=2.6.8 in c:\\users\\rabab\\anaconda3\\lib\\site-packages (from tensorboard<2.12,>=2.11->tensorflow-intel==2.11.0->tensorflow) (3.3.4)\n",
      "Collecting tensorboard-data-server<0.7.0,>=0.6.0\n",
      "  Downloading tensorboard_data_server-0.6.1-py3-none-any.whl (2.4 kB)\n",
      "Requirement already satisfied: werkzeug>=1.0.1 in c:\\users\\rabab\\anaconda3\\lib\\site-packages (from tensorboard<2.12,>=2.11->tensorflow-intel==2.11.0->tensorflow) (2.0.3)\n",
      "Collecting google-auth-oauthlib<0.5,>=0.4.1\n",
      "  Downloading google_auth_oauthlib-0.4.6-py2.py3-none-any.whl (18 kB)\n",
      "Requirement already satisfied: rsa<5,>=3.1.4 in c:\\users\\rabab\\anaconda3\\lib\\site-packages (from google-auth<3,>=1.6.3->tensorboard<2.12,>=2.11->tensorflow-intel==2.11.0->tensorflow) (4.7.2)\n",
      "Requirement already satisfied: cachetools<5.0,>=2.0.0 in c:\\users\\rabab\\anaconda3\\lib\\site-packages (from google-auth<3,>=1.6.3->tensorboard<2.12,>=2.11->tensorflow-intel==2.11.0->tensorflow) (4.2.2)\n",
      "Requirement already satisfied: pyasn1-modules>=0.2.1 in c:\\users\\rabab\\anaconda3\\lib\\site-packages (from google-auth<3,>=1.6.3->tensorboard<2.12,>=2.11->tensorflow-intel==2.11.0->tensorflow) (0.2.8)\n",
      "Collecting requests-oauthlib>=0.7.0\n",
      "  Downloading requests_oauthlib-1.3.1-py2.py3-none-any.whl (23 kB)\n",
      "Requirement already satisfied: pyasn1<0.5.0,>=0.4.6 in c:\\users\\rabab\\anaconda3\\lib\\site-packages (from pyasn1-modules>=0.2.1->google-auth<3,>=1.6.3->tensorboard<2.12,>=2.11->tensorflow-intel==2.11.0->tensorflow) (0.4.8)\n",
      "Requirement already satisfied: charset-normalizer~=2.0.0 in c:\\users\\rabab\\anaconda3\\lib\\site-packages (from requests<3,>=2.21.0->tensorboard<2.12,>=2.11->tensorflow-intel==2.11.0->tensorflow) (2.0.4)\n",
      "Requirement already satisfied: urllib3<1.27,>=1.21.1 in c:\\users\\rabab\\anaconda3\\lib\\site-packages (from requests<3,>=2.21.0->tensorboard<2.12,>=2.11->tensorflow-intel==2.11.0->tensorflow) (1.26.9)\n",
      "Requirement already satisfied: idna<4,>=2.5 in c:\\users\\rabab\\anaconda3\\lib\\site-packages (from requests<3,>=2.21.0->tensorboard<2.12,>=2.11->tensorflow-intel==2.11.0->tensorflow) (3.3)\n",
      "Requirement already satisfied: certifi>=2017.4.17 in c:\\users\\rabab\\anaconda3\\lib\\site-packages (from requests<3,>=2.21.0->tensorboard<2.12,>=2.11->tensorflow-intel==2.11.0->tensorflow) (2021.10.8)\n",
      "Collecting oauthlib>=3.0.0\n",
      "  Downloading oauthlib-3.2.2-py3-none-any.whl (151 kB)\n",
      "Requirement already satisfied: pyparsing!=3.0.5,>=2.0.2 in c:\\users\\rabab\\anaconda3\\lib\\site-packages (from packaging->tensorflow-intel==2.11.0->tensorflow) (3.0.4)\n",
      "Installing collected packages: oauthlib, requests-oauthlib, tensorboard-plugin-wit, tensorboard-data-server, google-auth-oauthlib, absl-py, termcolor, tensorflow-io-gcs-filesystem, tensorflow-estimator, tensorboard, opt-einsum, libclang, google-pasta, gast, flatbuffers, astunparse, tensorflow-intel, tensorflow\n",
      "Successfully installed absl-py-1.3.0 astunparse-1.6.3 flatbuffers-23.1.4 gast-0.4.0 google-auth-oauthlib-0.4.6 google-pasta-0.2.0 libclang-14.0.6 oauthlib-3.2.2 opt-einsum-3.3.0 requests-oauthlib-1.3.1 tensorboard-2.11.0 tensorboard-data-server-0.6.1 tensorboard-plugin-wit-1.8.1 tensorflow-2.11.0 tensorflow-estimator-2.11.0 tensorflow-intel-2.11.0 tensorflow-io-gcs-filesystem-0.29.0 termcolor-2.2.0\n"
     ]
    }
   ],
   "source": [
    "pip install tensorflow"
   ]
  },
  {
   "cell_type": "code",
   "execution_count": 1,
   "id": "7d63f27e",
   "metadata": {},
   "outputs": [],
   "source": [
    "from __future__ import division, print_function\n",
    "from gensim import models\n",
    "from keras.callbacks import ModelCheckpoint\n",
    "from keras.layers import Dense, Dropout, Reshape, Flatten, concatenate, Input, Conv1D, GlobalMaxPooling1D, Embedding,LSTM\n",
    "\n",
    "from keras.models import Sequential\n",
    "from keras.preprocessing.text import Tokenizer\n",
    "from tensorflow.keras.preprocessing.sequence import pad_sequences\n",
    "from keras.models import Model\n",
    "from sklearn.model_selection import train_test_split\n",
    "import numpy as np\n",
    "import pandas as pd\n",
    "import os\n",
    "import collections\n",
    "import re\n",
    "from aranorm import normalize_arabic_text\n",
    "from nltk.corpus import stopwords\n",
    "from nltk import word_tokenize\n",
    "\n",
    "import string"
   ]
  },
  {
   "cell_type": "code",
   "execution_count": 2,
   "id": "df165fc7",
   "metadata": {},
   "outputs": [],
   "source": [
    "data = pd.read_excel('ALL_data.xlsx')\n",
    "data = data.dropna()"
   ]
  },
  {
   "cell_type": "code",
   "execution_count": 3,
   "id": "d3c58e16",
   "metadata": {},
   "outputs": [],
   "source": [
    "data.columns = ['comment', 'Label']"
   ]
  },
  {
   "cell_type": "code",
   "execution_count": 4,
   "id": "20b9571e",
   "metadata": {},
   "outputs": [
    {
     "data": {
      "text/html": [
       "<div>\n",
       "<style scoped>\n",
       "    .dataframe tbody tr th:only-of-type {\n",
       "        vertical-align: middle;\n",
       "    }\n",
       "\n",
       "    .dataframe tbody tr th {\n",
       "        vertical-align: top;\n",
       "    }\n",
       "\n",
       "    .dataframe thead th {\n",
       "        text-align: right;\n",
       "    }\n",
       "</style>\n",
       "<table border=\"1\" class=\"dataframe\">\n",
       "  <thead>\n",
       "    <tr style=\"text-align: right;\">\n",
       "      <th></th>\n",
       "      <th>comment</th>\n",
       "      <th>Label</th>\n",
       "    </tr>\n",
       "  </thead>\n",
       "  <tbody>\n",
       "    <tr>\n",
       "      <th>0</th>\n",
       "      <td>نفسي يوم تكتبو السعر بدون مانسال</td>\n",
       "      <td>سلبي</td>\n",
       "    </tr>\n",
       "    <tr>\n",
       "      <th>1</th>\n",
       "      <td>طيب ما تشرحو طريقه الاشتراك في الباقه دي</td>\n",
       "      <td>محايد</td>\n",
       "    </tr>\n",
       "    <tr>\n",
       "      <th>2</th>\n",
       "      <td>لو قللتو الرسائل دي واديتونا ليها ميقات يكون ...</td>\n",
       "      <td>سلبي</td>\n",
       "    </tr>\n",
       "    <tr>\n",
       "      <th>3</th>\n",
       "      <td>رمز الاشتراك شنو</td>\n",
       "      <td>محايد</td>\n",
       "    </tr>\n",
       "    <tr>\n",
       "      <th>4</th>\n",
       "      <td>واو</td>\n",
       "      <td>ايجابي</td>\n",
       "    </tr>\n",
       "  </tbody>\n",
       "</table>\n",
       "</div>"
      ],
      "text/plain": [
       "                                             comment   Label\n",
       "0                   نفسي يوم تكتبو السعر بدون مانسال    سلبي\n",
       "1           طيب ما تشرحو طريقه الاشتراك في الباقه دي   محايد\n",
       "2   لو قللتو الرسائل دي واديتونا ليها ميقات يكون ...    سلبي\n",
       "3                                   رمز الاشتراك شنو   محايد\n",
       "4                                                واو  ايجابي"
      ]
     },
     "execution_count": 4,
     "metadata": {},
     "output_type": "execute_result"
    }
   ],
   "source": [
    "data.head()"
   ]
  },
  {
   "cell_type": "code",
   "execution_count": 5,
   "id": "f00147c1",
   "metadata": {},
   "outputs": [
    {
     "data": {
      "text/plain": [
       "array(['سلبي', 'محايد', 'ايجابي'], dtype=object)"
      ]
     },
     "execution_count": 5,
     "metadata": {},
     "output_type": "execute_result"
    }
   ],
   "source": [
    "data.Label.unique()"
   ]
  },
  {
   "cell_type": "code",
   "execution_count": 6,
   "id": "76419a09",
   "metadata": {},
   "outputs": [
    {
     "data": {
      "text/plain": [
       "(3073, 2)"
      ]
     },
     "execution_count": 6,
     "metadata": {},
     "output_type": "execute_result"
    }
   ],
   "source": [
    "data.shape"
   ]
  },
  {
   "cell_type": "code",
   "execution_count": 7,
   "id": "cf00a684",
   "metadata": {},
   "outputs": [
    {
     "data": {
      "text/html": [
       "<div>\n",
       "<style scoped>\n",
       "    .dataframe tbody tr th:only-of-type {\n",
       "        vertical-align: middle;\n",
       "    }\n",
       "\n",
       "    .dataframe tbody tr th {\n",
       "        vertical-align: top;\n",
       "    }\n",
       "\n",
       "    .dataframe thead th {\n",
       "        text-align: right;\n",
       "    }\n",
       "</style>\n",
       "<table border=\"1\" class=\"dataframe\">\n",
       "  <thead>\n",
       "    <tr style=\"text-align: right;\">\n",
       "      <th></th>\n",
       "      <th>comment</th>\n",
       "      <th>Label</th>\n",
       "      <th>Pos</th>\n",
       "      <th>Neg</th>\n",
       "      <th>Net</th>\n",
       "    </tr>\n",
       "  </thead>\n",
       "  <tbody>\n",
       "    <tr>\n",
       "      <th>0</th>\n",
       "      <td>نفسي يوم تكتبو السعر بدون مانسال</td>\n",
       "      <td>سلبي</td>\n",
       "      <td>0</td>\n",
       "      <td>1</td>\n",
       "      <td>0</td>\n",
       "    </tr>\n",
       "    <tr>\n",
       "      <th>1</th>\n",
       "      <td>طيب ما تشرحو طريقه الاشتراك في الباقه دي</td>\n",
       "      <td>محايد</td>\n",
       "      <td>0</td>\n",
       "      <td>0</td>\n",
       "      <td>1</td>\n",
       "    </tr>\n",
       "    <tr>\n",
       "      <th>2</th>\n",
       "      <td>لو قللتو الرسائل دي واديتونا ليها ميقات يكون ...</td>\n",
       "      <td>سلبي</td>\n",
       "      <td>0</td>\n",
       "      <td>1</td>\n",
       "      <td>0</td>\n",
       "    </tr>\n",
       "    <tr>\n",
       "      <th>3</th>\n",
       "      <td>رمز الاشتراك شنو</td>\n",
       "      <td>محايد</td>\n",
       "      <td>0</td>\n",
       "      <td>0</td>\n",
       "      <td>1</td>\n",
       "    </tr>\n",
       "    <tr>\n",
       "      <th>4</th>\n",
       "      <td>واو</td>\n",
       "      <td>ايجابي</td>\n",
       "      <td>1</td>\n",
       "      <td>0</td>\n",
       "      <td>0</td>\n",
       "    </tr>\n",
       "  </tbody>\n",
       "</table>\n",
       "</div>"
      ],
      "text/plain": [
       "                                             comment   Label  Pos  Neg  Net\n",
       "0                   نفسي يوم تكتبو السعر بدون مانسال    سلبي    0    1    0\n",
       "1           طيب ما تشرحو طريقه الاشتراك في الباقه دي   محايد    0    0    1\n",
       "2   لو قللتو الرسائل دي واديتونا ليها ميقات يكون ...    سلبي    0    1    0\n",
       "3                                   رمز الاشتراك شنو   محايد    0    0    1\n",
       "4                                                واو  ايجابي    1    0    0"
      ]
     },
     "execution_count": 7,
     "metadata": {},
     "output_type": "execute_result"
    }
   ],
   "source": [
    "pos = []\n",
    "neg = []\n",
    "net = []\n",
    "for l in data.Label:\n",
    "    if l == 'سلبي':\n",
    "        pos.append(0)\n",
    "        neg.append(1)\n",
    "        net.append(0)\n",
    "    elif l == 'ايجابي':\n",
    "        pos.append(1)\n",
    "        neg.append(0)\n",
    "        net.append(0)\n",
    "    elif l == 'محايد':\n",
    "        pos.append(0)\n",
    "        neg.append(0)\n",
    "        net.append(1)\n",
    "data['Pos']= pos\n",
    "data['Neg']= neg\n",
    "data['Net']= net\n",
    "data.head()"
   ]
  },
  {
   "cell_type": "code",
   "execution_count": 8,
   "id": "8f4c651a",
   "metadata": {},
   "outputs": [],
   "source": [
    "data['clean'] = data['comment']"
   ]
  },
  {
   "cell_type": "code",
   "execution_count": 9,
   "id": "e6f56764",
   "metadata": {},
   "outputs": [
    {
     "name": "stderr",
     "output_type": "stream",
     "text": [
      "2023-01-06 08:48:58 INFO: Checking for updates to resources.json in case models have been updated.  Note: this behavior can be turned off with download_method=None or download_method=DownloadMethod.REUSE_RESOURCES\n"
     ]
    },
    {
     "data": {
      "application/vnd.jupyter.widget-view+json": {
       "model_id": "4e1fb6d6a1314832ad86e3e819868f8e",
       "version_major": 2,
       "version_minor": 0
      },
      "text/plain": [
       "Downloading https://raw.githubusercontent.com/stanfordnlp/stanza-resources/main/resources_1.4.1.json:   0%|   …"
      ]
     },
     "metadata": {},
     "output_type": "display_data"
    },
    {
     "name": "stderr",
     "output_type": "stream",
     "text": [
      "2023-01-06 08:48:59 WARNING: Language ar package default expects mwt, which has been added\n",
      "2023-01-06 08:48:59 INFO: Loading these models for language: ar (Arabic):\n",
      "=======================\n",
      "| Processor | Package |\n",
      "-----------------------\n",
      "| tokenize  | padt    |\n",
      "| mwt       | padt    |\n",
      "| lemma     | padt    |\n",
      "=======================\n",
      "\n",
      "2023-01-06 08:48:59 INFO: Use device: cpu\n",
      "2023-01-06 08:48:59 INFO: Loading: tokenize\n",
      "2023-01-06 08:48:59 INFO: Loading: mwt\n",
      "2023-01-06 08:48:59 INFO: Loading: lemma\n",
      "2023-01-06 08:48:59 INFO: Done loading processors!\n"
     ]
    }
   ],
   "source": [
    "import stanza\n",
    "\n",
    "\n",
    "nlp = stanza.Pipeline(lang='ar', processors='tokenize,lemma')\n"
   ]
  },
  {
   "cell_type": "code",
   "execution_count": 10,
   "id": "0d9cad60",
   "metadata": {},
   "outputs": [
    {
     "name": "stderr",
     "output_type": "stream",
     "text": [
      "C:\\Users\\rabab\\AppData\\Local\\Temp\\ipykernel_5976\\115673917.py:8: SettingWithCopyWarning: \n",
      "A value is trying to be set on a copy of a slice from a DataFrame\n",
      "\n",
      "See the caveats in the documentation: https://pandas.pydata.org/pandas-docs/stable/user_guide/indexing.html#returning-a-view-versus-a-copy\n",
      "  data['clean'][i]=commentWithNoStopWords\n",
      "C:\\Users\\rabab\\AppData\\Local\\Temp\\ipykernel_5976\\115673917.py:13: SettingWithCopyWarning: \n",
      "A value is trying to be set on a copy of a slice from a DataFrame\n",
      "\n",
      "See the caveats in the documentation: https://pandas.pydata.org/pandas-docs/stable/user_guide/indexing.html#returning-a-view-versus-a-copy\n",
      "  data['clean'][i]=normalize_arabic_text(data['clean'][i])\n",
      "C:\\Users\\rabab\\AppData\\Local\\Temp\\ipykernel_5976\\115673917.py:19: SettingWithCopyWarning: \n",
      "A value is trying to be set on a copy of a slice from a DataFrame\n",
      "\n",
      "See the caveats in the documentation: https://pandas.pydata.org/pandas-docs/stable/user_guide/indexing.html#returning-a-view-versus-a-copy\n",
      "  data['clean'][i]=lema\n",
      "C:\\Users\\rabab\\AppData\\Local\\Temp\\ipykernel_5976\\115673917.py:22: SettingWithCopyWarning: \n",
      "A value is trying to be set on a copy of a slice from a DataFrame\n",
      "\n",
      "See the caveats in the documentation: https://pandas.pydata.org/pandas-docs/stable/user_guide/indexing.html#returning-a-view-versus-a-copy\n",
      "  data['clean'][i]=normalize_arabic_text(data['clean'][i])\n"
     ]
    }
   ],
   "source": [
    "arabicStopWords= stopwords.words(\"arabic\")\n",
    "\n",
    "for i in range(0,len(data)):\n",
    "    tokenizedRow = word_tokenize(data['clean'][i])\n",
    "    commentWithNoStopWords= ' '.join([i for i in tokenizedRow if i not in arabicStopWords])\n",
    "                \n",
    "\n",
    "    data['clean'][i]=commentWithNoStopWords\n",
    "    \n",
    "\n",
    "for i in range(0,len(data)):\n",
    "\n",
    "    data['clean'][i]=normalize_arabic_text(data['clean'][i])\n",
    "\n",
    "for i in range(0,len(data)):\n",
    "    doc = nlp(data['clean'][i])\n",
    "    lema=''.join(word.lemma+' ' for sent in doc.sentences for word in sent.words)\n",
    "\n",
    "    data['clean'][i]=lema\n",
    "\n",
    "for i in range(0,len(data)):  \n",
    "    data['clean'][i]=normalize_arabic_text(data['clean'][i])"
   ]
  },
  {
   "cell_type": "code",
   "execution_count": 11,
   "id": "0f515e74",
   "metadata": {},
   "outputs": [],
   "source": [
    "from nltk import word_tokenize, WordNetLemmatizer\n",
    "tokens = [word_tokenize(sen) for sen in data.clean] "
   ]
  },
  {
   "cell_type": "code",
   "execution_count": 12,
   "id": "ce3d3c97",
   "metadata": {},
   "outputs": [],
   "source": [
    "result = [' '.join(sen) for sen in tokens] "
   ]
  },
  {
   "cell_type": "code",
   "execution_count": 13,
   "id": "fd92c5ad",
   "metadata": {},
   "outputs": [],
   "source": [
    "data['Text_Final'] = result\n",
    "data['tokens'] = tokens\n",
    "data = data[['Text_Final', 'tokens', 'Label', 'Pos', 'Neg','Net']]"
   ]
  },
  {
   "cell_type": "code",
   "execution_count": 14,
   "id": "06bf5015",
   "metadata": {},
   "outputs": [
    {
     "data": {
      "text/html": [
       "<div>\n",
       "<style scoped>\n",
       "    .dataframe tbody tr th:only-of-type {\n",
       "        vertical-align: middle;\n",
       "    }\n",
       "\n",
       "    .dataframe tbody tr th {\n",
       "        vertical-align: top;\n",
       "    }\n",
       "\n",
       "    .dataframe thead th {\n",
       "        text-align: right;\n",
       "    }\n",
       "</style>\n",
       "<table border=\"1\" class=\"dataframe\">\n",
       "  <thead>\n",
       "    <tr style=\"text-align: right;\">\n",
       "      <th></th>\n",
       "      <th>Text_Final</th>\n",
       "      <th>tokens</th>\n",
       "      <th>Label</th>\n",
       "      <th>Pos</th>\n",
       "      <th>Neg</th>\n",
       "      <th>Net</th>\n",
       "    </tr>\n",
       "  </thead>\n",
       "  <tbody>\n",
       "    <tr>\n",
       "      <th>0</th>\n",
       "      <td>نفسي يوم تكتب سعر بدون مانسال</td>\n",
       "      <td>[نفسي, يوم, تكتب, سعر, بدون, مانسال]</td>\n",
       "      <td>سلبي</td>\n",
       "      <td>0</td>\n",
       "      <td>1</td>\n",
       "      <td>0</td>\n",
       "    </tr>\n",
       "    <tr>\n",
       "      <th>1</th>\n",
       "      <td>طيب تشرح طريق هو اشتراك باقه دي</td>\n",
       "      <td>[طيب, تشرح, طريق, هو, اشتراك, باقه, دي]</td>\n",
       "      <td>محايد</td>\n",
       "      <td>0</td>\n",
       "      <td>0</td>\n",
       "      <td>1</td>\n",
       "    </tr>\n",
       "    <tr>\n",
       "      <th>2</th>\n",
       "      <td>قلل رساءل دي وادي لي هو ميقات كان اجمل</td>\n",
       "      <td>[قلل, رساءل, دي, وادي, لي, هو, ميقات, كان, اجمل]</td>\n",
       "      <td>سلبي</td>\n",
       "      <td>0</td>\n",
       "      <td>1</td>\n",
       "      <td>0</td>\n",
       "    </tr>\n",
       "    <tr>\n",
       "      <th>3</th>\n",
       "      <td>رميز اشتراك شنا</td>\n",
       "      <td>[رميز, اشتراك, شنا]</td>\n",
       "      <td>محايد</td>\n",
       "      <td>0</td>\n",
       "      <td>0</td>\n",
       "      <td>1</td>\n",
       "    </tr>\n",
       "  </tbody>\n",
       "</table>\n",
       "</div>"
      ],
      "text/plain": [
       "                               Text_Final  \\\n",
       "0           نفسي يوم تكتب سعر بدون مانسال   \n",
       "1         طيب تشرح طريق هو اشتراك باقه دي   \n",
       "2  قلل رساءل دي وادي لي هو ميقات كان اجمل   \n",
       "3                         رميز اشتراك شنا   \n",
       "\n",
       "                                             tokens  Label  Pos  Neg  Net  \n",
       "0              [نفسي, يوم, تكتب, سعر, بدون, مانسال]   سلبي    0    1    0  \n",
       "1           [طيب, تشرح, طريق, هو, اشتراك, باقه, دي]  محايد    0    0    1  \n",
       "2  [قلل, رساءل, دي, وادي, لي, هو, ميقات, كان, اجمل]   سلبي    0    1    0  \n",
       "3                               [رميز, اشتراك, شنا]  محايد    0    0    1  "
      ]
     },
     "execution_count": 14,
     "metadata": {},
     "output_type": "execute_result"
    }
   ],
   "source": [
    "data[:4]"
   ]
  },
  {
   "cell_type": "code",
   "execution_count": 15,
   "id": "4abaf1c3",
   "metadata": {},
   "outputs": [
    {
     "name": "stdout",
     "output_type": "stream",
     "text": [
      "21186 words total, with a vocabulary size of 4197\n",
      "Max sentence length is 79\n"
     ]
    }
   ],
   "source": [
    "data_train, data_test = train_test_split(data, test_size=0.10, random_state=42)\n",
    "all_training_words = [word for tokens in data_train[\"tokens\"] for word in tokens]\n",
    "training_sentence_lengths = [len(tokens) for tokens in data_train[\"tokens\"]]\n",
    "TRAINING_VOCAB = sorted(list(set(all_training_words)))\n",
    "print(\"%s words total, with a vocabulary size of %s\" % (len(all_training_words), len(TRAINING_VOCAB)))\n",
    "print(\"Max sentence length is %s\" % max(training_sentence_lengths))"
   ]
  },
  {
   "cell_type": "code",
   "execution_count": 16,
   "id": "5e7487ce",
   "metadata": {},
   "outputs": [
    {
     "name": "stdout",
     "output_type": "stream",
     "text": [
      "2413 words total, with a vocabulary size of 957\n",
      "Max sentence length is 64\n"
     ]
    }
   ],
   "source": [
    "all_test_words = [word for tokens in data_test[\"tokens\"] for word in tokens]\n",
    "test_sentence_lengths = [len(tokens) for tokens in data_test[\"tokens\"]]\n",
    "TEST_VOCAB = sorted(list(set(all_test_words)))\n",
    "print(\"%s words total, with a vocabulary size of %s\" % (len(all_test_words), len(TEST_VOCAB)))\n",
    "print(\"Max sentence length is %s\" % max(test_sentence_lengths))"
   ]
  },
  {
   "cell_type": "code",
   "execution_count": 19,
   "id": "5bebdb7c",
   "metadata": {},
   "outputs": [],
   "source": [
    "def get_average_word2vec(tokens_list, vector, generate_missing=False, k=300):\n",
    "    if len(tokens_list)<1:\n",
    "        return np.zeros(k)\n",
    "    if generate_missing:\n",
    "        vectorized = [vector[word] if word in vector else np.random.rand(k) for word in tokens_list]\n",
    "    else:\n",
    "        vectorized = [vector[word] if word in vector else np.zeros(k) for word in tokens_list]\n",
    "    length = len(vectorized)\n",
    "    summed = np.sum(vectorized, axis=0)\n",
    "    averaged = np.divide(summed, length)\n",
    "    return averaged\n",
    "\n",
    "def get_word2vec_embeddings(vectors, clean_comments, generate_missing=False):\n",
    "    embeddings = clean_comments['tokens'].apply(lambda x: get_average_word2vec(x, vectors, \n",
    "                                                                                generate_missing=generate_missing))\n",
    "    return list(embeddings)"
   ]
  },
  {
   "cell_type": "code",
   "execution_count": 21,
   "id": "61baa20d",
   "metadata": {},
   "outputs": [],
   "source": [
    "# WORD2VEC"
   ]
  },
  {
   "cell_type": "code",
   "execution_count": 23,
   "id": "6d9f2fc0",
   "metadata": {},
   "outputs": [],
   "source": [
    "import tensorflow as tf\n",
    "\n",
    "\n",
    "from numpy import array\n",
    "import gensim\n",
    "from gensim.models import KeyedVectors\n",
    "from gensim.models import word2vec"
   ]
  },
  {
   "cell_type": "code",
   "execution_count": 30,
   "id": "3b420f1d",
   "metadata": {},
   "outputs": [
    {
     "name": "stdout",
     "output_type": "stream",
     "text": [
      "encoded_docs:\n",
      " [[455, 15, 546, 9, 203, 1879], [134, 1880, 129, 1, 135, 174, 7], [1184, 547, 7, 1185, 26, 1, 1881, 38, 395], [859, 135, 24], [], [135], [7, 136, 4, 350, 267, 36, 1882, 204], [220, 92, 860, 8, 25, 7, 221, 66, 161, 1, 350, 205, 292, 1, 25], [75, 1883, 1884, 1885, 75, 3, 456, 247], [9], [154], [91, 673, 142, 2, 183, 861, 2, 174, 674, 1886, 1887, 1888, 26, 1, 674, 174, 268], [36, 184, 1186], [3, 72], [9, 61, 12, 1, 136], [25, 1, 62, 1, 1889, 1, 23, 862, 1, 51, 675, 1, 1890, 318, 863, 1, 676, 677], [396, 548, 546, 9, 122, 351, 206], [6, 162, 1, 52, 220, 207, 208, 36, 319, 2, 135, 1, 352, 14, 549, 550, 864, 26, 1, 397, 1, 865, 1891, 678, 1892, 865, 1893, 1, 1894, 1187], [23, 118, 94, 61, 679, 398, 2, 1895, 1, 2, 1896, 26, 61, 40, 21], [551, 457, 195, 1188, 2, 1189, 2, 1, 9, 209, 4], [4, 1897, 91, 1, 61, 183, 861, 1898, 1, 210, 123], [1190, 860, 353, 196, 64, 174, 36, 84], [6, 105, 41, 1, 54, 248, 866, 13, 269, 10], [211, 267, 25, 1, 552, 19, 267, 4, 458, 1, 53, 1, 2, 249, 84, 25, 185, 59, 1191, 34, 155, 354, 267], [129, 1, 135, 134, 9], [1899, 111, 9, 38, 355], [32, 680, 1192, 4, 459, 23, 867, 25, 1900, 1, 1193, 59, 222, 38, 1901], [105, 16, 1, 30, 21, 112], [3, 162, 1, 2, 11, 10, 119, 25, 197], [137, 6, 40, 1902, 149], [15, 458, 1903, 1194, 1904, 553, 63, 67, 45, 1, 458, 1, 1905, 51], [9, 1906], [2, 11, 10, 40, 161, 1, 38, 55, 1, 868, 113, 12, 1, 71, 1, 2, 84, 1195, 673, 399, 554], [149, 293, 869, 195, 61, 98], [23, 12, 87, 68, 92, 25, 7], [1907, 28, 1, 400, 320, 1908, 4, 149, 870, 28, 1, 136, 1196, 4, 13, 12, 1, 198, 136, 681], [1197, 871, 871, 1909, 682], [2, 11, 10, 23, 98, 675, 1, 4, 1910, 56, 1911, 1912], [2, 1913, 37, 4, 101, 1, 2, 137, 6], [1914, 14, 872, 863, 1, 676, 677], [460, 1915, 1916, 1, 356], [61, 7, 67, 203, 55], [199, 223, 401, 175, 1198, 873, 1, 1917, 1918, 1199, 4, 1919, 1920, 22, 683, 24, 184, 461, 1921, 1922, 4, 1923, 1924, 874, 1925, 1200, 1926], [61, 1927, 21, 4, 875, 61, 4, 149, 293, 67, 1201], [156, 1, 56, 24, 19, 1202], [7, 4, 462, 134], [2, 11, 10, 1928, 23, 678, 1, 99, 6, 3], [463, 684, 3], [150, 1929, 1930, 1931], [48, 685, 352, 357, 6], [6, 4, 686, 402, 1, 402, 1, 138, 1932, 1933, 157, 1, 137, 1, 464, 1934], [1935, 4, 238, 45, 1, 2, 88, 687, 2, 62, 161, 1, 876, 112], [68, 1936, 151, 403, 404, 1, 688, 1, 405, 9], [406, 4, 149, 166, 1203, 2, 130, 167, 1, 49, 1, 8, 689, 7], [222, 555, 19, 3, 465, 1937, 690, 94, 1, 691], [1204, 692], [224, 19, 3, 21, 143, 398, 1938, 1939], [877, 21, 407, 1, 398, 1940, 270], [68, 353, 12, 131], [321, 3, 2, 408, 878, 65, 89, 45, 358, 1, 15, 693, 6, 2, 25, 210, 1941], [19, 3, 1942, 1, 879, 556], [1943, 1944, 2, 1945, 2, 1946, 207, 880, 694], [6, 163, 1947, 1, 4, 54, 75, 3], [881, 3, 2, 1948, 45], [31, 1949, 95, 21, 2, 4, 210, 318, 466, 695, 1, 15, 31, 2, 249, 113, 12, 1, 557, 696, 1, 38, 1205], [2, 11, 10, 176, 1, 61, 6, 162, 1, 19], [359, 2, 1950, 1951, 197], [1952, 1, 1206, 359, 14, 322], [6, 152, 151], [1953, 1, 1954, 558, 26, 1, 1955, 9, 168, 101, 1956, 467], [468, 9, 1207, 1957], [3, 559, 882, 360, 560], [1958, 1, 169, 239, 883], [1208, 6, 1, 294, 409, 1209], [6, 1, 884, 4, 1959, 1960], [295, 2, 1210, 55, 3], [410, 1211, 271, 142], [6, 41, 1, 52, 15, 7, 250, 1961], [6, 1, 73, 697], [1212, 4, 469, 1, 4, 561, 1962, 562, 1, 1212], [4, 9, 1, 1963, 7], [17, 251, 15, 157, 563], [124, 252], [1213, 296, 5, 2, 1214, 1215, 4, 1216, 17, 411, 698], [220, 207, 208, 36, 319, 2, 135, 1, 352, 14, 549, 550], [67, 3, 699, 2], [6, 1, 73, 697], [295, 2, 1210, 55, 3], [75, 28, 1, 270], [1204, 2, 1964, 885, 94, 57, 1965, 1217, 3, 1966, 700, 2, 1967, 1218, 1968], [3, 395], [271, 39], [253, 1, 323, 2], [169, 272, 1, 177, 152], [17, 251, 15, 157, 563], [25, 1, 225, 1, 1219, 30, 6], [76, 297, 273, 886, 114, 887, 1, 47, 5], [1220, 1221, 8, 46, 1, 186, 18], [3, 15, 1, 395], [888, 1, 24, 32, 144, 16, 1, 33, 106], [4, 47, 2, 114, 13, 35, 5], [3, 361, 412], [2, 11, 10, 99, 55, 3, 1222], [36, 139, 107, 9, 5, 1223, 1224], [178, 111, 1969, 1, 7, 23, 701, 1225, 2, 11, 10, 22, 413, 102, 1970, 53, 1, 18, 43], [6, 162, 1, 362, 23, 12, 136, 889, 17, 405, 54], [890, 25, 1, 1971, 324, 5, 274, 30, 1972, 7], [84, 1226, 3, 69, 564, 1, 2, 1227, 94, 1, 325], [23, 891, 692], [17, 77, 1973, 892], [298, 1228, 1229, 1230, 1974, 1231, 1228, 5, 470, 1, 2, 199, 273, 1232], [2, 11, 10, 50, 33, 106, 1975], [44, 1233, 31], [17, 471, 702, 1976, 414, 363, 364, 703, 472, 296, 299, 54], [1977, 1234, 139, 1, 1234, 16, 1, 3, 1978, 1, 54, 8, 704, 254, 1979], [6, 409], [363, 6, 326], [187, 1, 3, 2, 16, 1, 1980, 1, 275, 5, 158, 125, 2, 114, 2, 76, 43, 893, 705, 565, 1981], [18, 3, 1982, 1, 471, 20], [4, 469, 1, 706, 1, 2, 11, 10, 2, 18, 145], [25, 1, 188, 1983, 1, 1219, 30, 6], [1220, 1221, 8, 46, 1, 186, 18], [76, 297, 273, 886, 114, 887, 1, 47, 5], [3, 15, 1, 395], [3, 361, 412], [888, 1, 24, 32, 144, 16, 1, 33, 106], [300, 1, 16, 1, 1201, 415], [4, 47, 2, 114, 13, 35, 5], [327, 1984, 41, 6, 276, 73, 41, 1, 8, 53, 1985, 2, 212, 70, 146, 707, 1235, 32, 19, 566, 93], [1236, 24, 31, 6, 1, 2, 1986, 1, 567], [3, 1987, 55, 27, 106, 72, 1988, 1989], [32, 26, 1, 124, 67, 45], [693, 186, 2, 1237, 8, 11, 10, 1990], [4, 47, 2, 26, 147], [14, 1, 5, 4, 1991, 1, 1238, 894, 1239, 239, 6, 1, 7], [473], [35, 5, 76, 1992, 328, 1240, 1993, 199, 1, 1236, 2, 1994, 1, 277, 3, 3], [126], [2, 58, 80, 1995, 1241, 124, 63, 33, 708, 1, 365], [455, 255, 29, 1996, 1997, 151], [226, 1998, 1, 83, 16, 709, 710], [170, 20], [75, 3, 14, 25, 1999, 1, 47, 2, 114, 76, 43, 106], [74, 1, 255, 28, 1, 140, 55, 895, 896, 1], [301, 3, 2000, 1, 96, 1242, 711, 1, 9, 474, 151], [153, 137, 6, 44], [6, 42, 39, 135, 102, 161, 1, 4, 2001, 63, 366, 179, 4, 179, 366, 712, 32, 123, 1243], [6, 1, 2002, 1244], [20, 2003, 2, 1245, 1, 2004, 2005, 118], [16, 1, 713, 2, 139, 77, 52], [13, 35, 5, 1246, 120, 1, 475, 16, 1, 17, 152, 1, 7], [5, 1247, 6, 1, 568, 2006, 2, 897, 1, 714], [403, 898, 1, 5, 2007], [115, 5, 2, 108, 100], [1248, 1241, 569, 1, 103, 570], [137, 271, 40], [715, 21, 2, 416, 39, 159, 85], [5, 32, 97, 571, 2008], [2009, 180, 93, 256, 716, 2, 717, 1, 14, 180, 2010, 2011], [174, 7, 38, 21, 476, 130, 73, 1249, 226, 2012, 21, 2013, 367], [1250, 399, 1251, 14, 1, 160, 2, 11, 10, 2, 174, 4, 210, 2014], [122, 7, 2015, 899, 2016], [178, 25], [115, 5, 2, 108, 100, 94, 1, 2, 11, 10, 4, 132, 2017, 120, 1, 572, 1252, 65, 27], [19, 3, 224, 366, 183, 2, 9, 183, 2, 716, 74, 573, 200, 474, 7], [319, 81, 6, 1, 39, 7], [5, 574, 53, 1, 1253, 4, 887, 77, 1, 52, 27, 129, 1, 135], [32, 19, 718, 2], [213, 719, 90, 7], [1254, 1, 240, 1, 698, 2], [417, 77, 2, 16, 1, 477], [2018, 1, 1255, 2019, 21, 85, 37, 171, 8, 6, 575, 181, 14, 1, 5, 1256, 32, 366, 14], [2, 366, 465, 2, 9, 1, 27, 4, 573, 302, 1257, 2020], [900, 28, 1, 207, 576, 1, 901, 2], [1258, 1, 30, 124, 257, 112, 7], [2021, 4, 91, 1259, 2022, 2023, 418], [227, 80, 3, 16, 1, 226, 1, 198, 2024], [171, 8, 164, 22, 902, 99, 1260, 182], [31, 200, 77, 1, 2, 6, 1, 39], [478, 1, 27, 903, 9, 1, 904, 319, 34, 893, 176, 30, 1261], [2025, 419, 2026, 160, 2, 11, 10, 151, 28, 1, 140, 4, 2027], [2, 241, 905, 56, 420], [3, 254, 571, 1262, 2, 329, 700, 203, 906, 127], [2, 11, 10, 83, 19, 577, 1263, 96, 1264, 26, 1, 65, 213, 684, 1, 49, 1, 9, 7], [208, 174, 4, 479, 1265, 4, 578, 907], [2028, 250], [3, 419, 2029, 2, 9, 2030], [908, 4, 1266, 37, 156], [29, 220, 720, 65, 2, 11, 10, 6, 276, 721, 2, 9, 1, 480], [25, 1, 73, 157, 1, 97, 1, 3, 274, 109, 83, 4, 84, 1267], [368, 1268, 909, 198, 2, 910, 115, 5, 2, 108, 100, 138], [242, 32, 722, 1, 26, 1, 2, 579, 13, 35, 5, 99, 66, 242, 1269, 2, 580, 89, 2, 723, 1270, 1271, 1272], [302], [25, 581, 163], [111, 198, 77, 119, 19, 3, 179, 14, 2031], [4, 911, 56, 31, 2, 11, 10, 172, 1, 2, 172, 1, 5], [19, 3, 2, 11, 10, 4, 369, 160, 66, 465, 2032, 2033, 2034, 912, 463, 1, 6, 205, 2035, 2036, 2037, 2038], [208, 481, 41], [16, 1, 39, 913, 93], [3, 39], [242, 32, 722, 1, 26, 1, 2, 579, 13, 35, 5, 99, 66, 242, 1269, 2, 580, 89, 2, 723, 1270, 1271, 1272], [368, 1268, 909, 198, 2, 910, 115, 5, 2, 108, 100, 138], [208, 174, 4, 479, 1265, 4, 578, 907], [171, 8, 164, 22, 902, 99, 1260, 182], [31, 200, 77, 1, 2, 6, 1, 39], [27, 903, 9, 1, 904, 319, 34, 893, 176, 30, 1261], [32, 28, 1, 227, 2039, 2040, 318, 2041, 130, 914, 1, 482, 1, 914, 1, 2042, 74, 724, 1, 2, 11, 10, 725, 1, 2043, 2044, 483], [44, 20, 3], [2045, 2, 726, 2046, 1273], [124, 16, 1, 42, 915], [20, 3, 83, 26, 1, 196, 582, 278, 120, 1, 294, 15, 272, 558, 479, 484, 484, 2047, 17, 152, 7, 4, 172, 1, 2048, 1274, 1275, 143], [16, 1, 39, 2, 152, 1, 52, 2, 4, 916, 17], [2049, 1, 224, 25, 2050, 1184, 30, 2051], [2052, 8, 29, 220, 2053, 113, 12, 1, 87, 3, 113, 204, 37, 12, 1, 3], [2, 11, 10, 727, 917], [460, 24, 421, 32, 4, 420, 56, 1, 40, 40, 115, 5, 2, 108, 100], [156, 1, 149, 293, 4, 16, 1, 3], [2054, 101, 406, 279, 728, 8, 21, 918, 1, 2055, 2, 2056, 919, 33, 2, 10, 1276, 132, 2057, 8, 149, 293, 4, 3, 2, 2058, 4, 149, 293, 4, 16, 1, 920, 296, 422, 12, 1, 149, 297, 4, 16, 1, 3], [6, 1, 42, 915], [2, 256, 1277, 2059], [3, 110, 2060], [29, 220, 1278, 2061], [2, 11, 10, 1279, 921, 2062], [729, 921, 1, 922], [410, 1211, 271, 142], [6, 41, 1, 52, 15, 7], [6, 1, 15, 7, 73, 41, 1, 52, 2, 353, 4, 423, 2063, 93, 250, 1266, 208, 299], [14, 730, 1280, 56, 3], [67, 3, 699, 2], [13, 3], [3, 456, 731, 457, 9], [169, 272, 1, 177, 152], [1213, 296, 5, 2, 1214, 1215, 4, 1216, 17, 411, 698], [3, 361, 412, 732], [6, 1209, 2064], [3, 295], [2, 11, 10, 2065, 6], [3, 2066, 1281], [228, 733, 1189], [4, 469, 1, 63, 2067, 2068], [2069, 17, 152, 560, 703, 2070], [6, 1, 41, 1, 52, 41, 1, 41, 1, 138], [64, 2071, 2072], [171, 1282, 424, 1, 2], [170, 75, 1, 3, 88, 425, 4, 131, 2, 1196, 1, 4, 71, 53, 1, 145, 370, 1], [3, 8, 62, 2073, 3], [75, 2, 426, 20, 3], [3, 12, 2074], [3, 76, 297, 158, 125, 2, 583, 2075], [50], [3, 485, 1283, 55], [31, 2076, 88, 29, 147, 214, 398, 7, 142, 31, 2, 11, 10, 4, 369, 371], [2077, 2, 25, 1, 584, 1, 2, 467, 1, 2078], [258, 16, 1, 2079, 44], [2080], [23, 3, 2, 4, 2081, 145], [923, 53, 1, 26, 1, 6, 280], [32, 50], [3, 145, 2082], [163, 156, 1, 2, 486, 26, 1, 2083, 487], [25, 24, 5, 6, 1, 1284, 7, 2, 417, 356, 734, 2, 152, 2084, 17, 2085, 22, 330, 331, 585, 148, 29, 93], [32, 40], [208, 2086, 2087, 14, 259, 735], [63, 215, 17, 323, 1, 77, 1, 58, 80, 63, 488], [55, 303], [924, 427], [586, 1, 21, 1285, 2088], [3, 559], [69, 121, 1, 16, 1, 3, 2089, 225, 1, 2, 64, 1, 2090, 925, 273, 35, 5], [2, 11, 10, 99, 55, 3, 1222], [18, 35, 5], [72, 54], [736, 4, 64, 8, 118, 2091, 281], [71, 196, 1, 489, 147, 240, 1, 400, 4, 469, 1, 77, 7, 2, 1267, 331, 22, 2092, 2093, 587], [18, 189, 5], [2, 416, 890, 1286, 332, 1, 42, 2094, 2, 2095], [72], [2096, 72, 2, 105, 12, 71, 1, 81, 863, 1, 676, 677], [12, 71], [588, 12, 490, 201, 1, 43], [2, 11, 10, 128, 2097, 926, 67, 159], [153, 2098, 491, 30, 16, 1, 7, 196, 148, 1, 901, 7], [1287, 2099, 674, 1, 927, 737, 111], [61], [7, 462, 96, 2100, 1288, 294, 260, 1, 2101, 2102, 133, 1, 61, 61, 2, 2103, 738, 120, 8], [33, 739, 331, 94, 44], [566, 5, 589, 1289, 2104, 1, 928, 98, 32, 725, 1, 86, 492, 4, 63, 2105, 1, 1290, 1, 7], [548, 9, 135, 24], [167, 1, 73, 4, 154, 294, 260, 1, 2106, 182, 333], [868, 36, 113, 1, 2107, 2, 11, 10, 1291, 1, 399, 493, 1], [182, 333], [398], [158, 2108, 3], [], [457], [416, 2109, 1, 2, 417, 162], [18], [72, 54], [18, 145, 43], [2, 11, 10, 254, 418, 56, 493, 1, 5], [200, 372, 52], [63, 17], [2110, 590, 1, 13, 35, 5], [158, 125, 177], [373, 16, 1, 1292, 259], [178, 16, 1, 929, 494], [256, 77, 2], [181, 14, 1, 2], [6, 1, 42, 2, 579, 22, 2111, 216], [16, 1, 39, 81, 2112], [5, 229], [1293, 2, 11, 10, 2113, 428], [740, 1, 4, 930, 14, 159, 299], [2, 6, 1, 591, 41], [200, 2114], [429, 57, 1294, 30, 2115, 430], [17, 2116], [6, 3, 105, 85, 151, 15], [132, 334, 85, 931], [301, 3, 2117, 142], [932, 1208, 687, 95, 374, 2, 25, 1, 431, 39], [18], [129, 1, 135], [3, 110, 3], [9, 129], [18], [18, 19, 3], [28, 1, 332, 2], [75], [495, 125], [75, 1293], [147], [66, 933], [588, 12, 490, 201, 1, 43], [249, 1, 255, 429, 2118, 12, 1, 38, 2119, 1, 2120, 304, 1, 23, 66, 486, 14], [3, 1295, 412, 732], [23, 3], [147], [375, 2, 395, 934, 1, 8, 1296, 2121, 2, 456, 3], [110, 3], [2122, 3, 15, 4, 2123, 1, 98, 2124, 84, 178, 6, 44], [92, 320, 1, 249, 2125, 2126], [3, 106, 27], [92, 30, 89, 45], [209, 2, 432, 1297, 592], [20, 280, 44], [1298, 242, 1258, 26, 1, 2127, 2128, 56, 2129, 238, 56, 2130, 2131], [3, 25, 4, 414, 413], [2, 21, 305, 2132, 2133, 2, 2134, 223, 131, 217], [275, 5, 64, 935, 2135], [5, 1299, 1, 2136, 2137, 1, 2, 137, 16, 1, 7, 31, 40], [64, 128, 275, 5, 68, 255, 9, 12], [9, 12, 1, 2, 1300, 24], [3, 76, 1301], [327, 4, 11, 10, 32, 83, 19, 2, 11, 10, 4, 75, 1, 411, 2, 69, 121, 43], [188, 113, 1, 13, 35, 5], [29, 147, 133, 1, 64], [20, 3, 4, 1302, 9, 1303, 1304], [153, 40, 51, 491, 30, 6, 168, 2138, 585], [2139, 1, 936, 1305], [190, 6, 136, 6, 1, 402, 1, 54, 54], [64, 2140, 2141, 741, 2142], [22, 2143, 71, 24, 123], [327, 4, 11, 10, 230, 1, 4, 423, 1306, 2, 253, 1, 1307, 1308, 56, 593, 1, 85, 22, 2144, 24], [124, 2145, 433, 24], [2146, 2147, 22, 182], [21, 27, 2, 25, 742, 462], [1309, 594, 7, 23, 7, 547, 937], [2148, 36, 743, 61, 2149, 1, 14, 358, 1, 21], [92, 30, 89, 45, 196, 415, 1, 582, 7], [208, 4, 911, 56], [3, 3, 110, 3], [32, 137, 6, 1, 155, 4, 423, 2150, 80, 66, 113, 12, 1, 3], [496, 1, 23, 2151, 26, 68, 255, 129], [3, 559, 882, 360, 560], [2, 11, 10, 19, 3, 2152, 292, 154, 7, 430, 31, 155, 465, 56, 34, 2153], [118, 28, 1, 51], [64, 2154, 938, 113, 12, 1, 2155], [20, 3, 4, 1302, 9, 1303, 1304], [19, 46, 1, 3, 6, 1, 7, 41, 1, 52], [66, 133, 156, 1, 17, 127, 3], [9, 81, 1310], [25, 1, 471, 584, 1, 2, 77, 1, 52], [207, 2156], [32, 2157, 19, 1311, 595, 595, 546, 9, 134, 2, 97, 1, 460, 2158], [2159, 218, 89, 3, 3], [301, 3, 181, 14, 1, 4, 420, 17, 299], [74, 899, 434, 3], [20, 939, 1, 94, 44, 3], [68, 322, 279, 6, 98], [32, 1312, 271], [2160, 23, 74, 1, 2161, 497, 115, 5, 2, 108, 100, 335], [243, 17, 156, 1, 724], [152, 940, 1, 306, 1, 596, 744, 2162], [3, 2163, 72], [941, 2164, 2165, 17, 142], [597, 30, 141, 673, 2166, 101, 141, 268], [200, 372, 52, 2, 139, 498, 1, 253, 1, 336, 56, 2167, 207, 30], [1313, 6, 483, 1, 41, 1, 19, 3], [17, 41, 1, 1314, 137, 6, 7, 68, 585, 148, 93], [124, 51, 2168, 1315, 1316], [15, 733, 1317, 928], [4, 469, 1, 2, 942, 1, 7, 879, 2169], [2, 11, 10, 943, 13, 1, 2170, 1318, 41, 1, 163, 61, 352, 2171, 137, 6, 7], [6, 1, 2172, 7, 42, 39], [145, 2173, 19, 3], [3, 3, 110], [23, 74, 1, 255, 64, 215, 33, 2, 164], [435, 16, 1, 1319, 944, 24], [74, 899, 434, 3], [2174, 436, 20, 2175], [20, 3, 46, 1, 363, 1, 76, 2176, 8, 1320, 307, 46, 1, 28, 277, 1], [20, 3, 2177, 1, 568, 4, 60, 277, 1, 499, 54, 337], [99, 37, 2178, 2179, 1, 9], [28, 1, 2180, 163, 945, 2181], [8, 13, 1, 2182, 29, 139, 2183], [86, 1, 255, 28, 1, 97, 562, 57, 21, 55, 1321], [473, 183, 1, 36, 91, 742, 36, 492, 93, 2, 238, 171], [2184, 23, 376, 91, 2, 11, 10, 61, 229, 16, 1, 1195, 163, 594], [292, 1, 477, 1, 36, 191, 26, 1, 1322, 222, 38, 197], [271, 162], [61, 155, 2185], [66, 113, 141, 61, 34, 2186, 2187, 101, 192, 48, 36, 598], [2188, 2189, 4, 2190, 171, 15, 1323], [12, 87, 61, 59, 21, 15, 61], [2, 241, 9, 2, 1, 727, 296, 2191, 745, 1, 254, 2192, 437, 32], [6, 1, 42, 39, 2, 11, 10, 2, 27, 2193, 146, 65], [101, 111, 153, 40, 2194, 2195, 28, 1, 427, 484, 1324, 1, 2, 16, 1, 2196, 160], [300, 1, 1322, 15], [6, 1, 73, 2197], [6, 4, 243, 1325, 167, 19, 3], [3, 2, 1326, 1, 361, 2198, 946], [187, 1, 3, 16, 1, 207, 2, 1327, 1328], [2, 11, 10, 746, 1, 7, 1329, 308, 1, 429], [2, 11, 10, 64, 1, 207, 2199, 1328, 740, 1, 23, 6, 1, 41, 1, 52], [200, 95, 2200, 7, 319, 2201, 135, 198, 2202], [377, 46, 1, 2203, 1280, 28, 1, 500, 71], [17, 41, 1330, 1, 148, 90, 438, 70, 157], [3, 73, 4, 947, 599, 747, 152, 2204, 132, 2205], [200, 1331, 356, 27, 948, 65, 109], [19, 3, 2206, 2207, 2208, 2209, 318], [167, 1, 19, 3, 1332, 61, 93, 36, 2210, 418, 271, 152], [3, 573, 56, 274, 748, 27], [1333, 2211, 16, 1, 42, 39, 2, 2212, 77, 1, 378, 16, 5, 2213], [2, 11, 10, 15, 556, 318, 1317, 949], [182, 8, 11, 10, 2214], [107, 9, 2, 6, 1, 42, 2, 579, 282, 1, 2, 1334, 1, 2215, 2, 2216, 2217, 1335], [3, 295], [86, 238, 4, 743, 151, 45, 101, 2218, 167], [23, 749, 1, 21, 2219, 1336, 146], [4, 47, 1337, 3], [154, 353, 28, 1, 4, 439, 8, 63, 2220, 1, 149, 60, 279, 44], [256, 4, 2221, 193, 1, 4, 686, 4, 107, 1, 34, 294, 950, 240, 951], [231, 9, 165, 179], [134, 944, 37, 12, 1, 87, 141], [1338, 12, 2, 12, 136, 2222], [20, 3, 1, 1339, 2223, 2224], [1202, 15, 176, 49, 1, 33, 26, 1, 24, 112], [256, 369, 160, 9, 33, 19, 3], [2225, 200, 7, 1340, 501, 81, 750, 26, 1, 148, 1, 2, 11, 10, 751, 2, 171, 2226, 14, 1], [59, 600, 19, 2227, 61, 300, 1, 171], [1341, 2228, 15, 26, 1, 127, 2229, 90, 2230, 1, 2231, 2232, 107, 93, 1342], [5, 1343], [59, 403, 9, 2, 9, 227, 752, 171], [31, 213, 753, 1, 32, 167, 1, 952, 1, 2, 2233, 24, 417, 902, 41, 22, 2, 11, 10, 4, 2234, 1, 7, 61, 598], [70, 2235, 309, 244], [137, 30, 156, 1, 6, 327, 4, 11, 10, 379, 1, 750, 3], [124, 37, 257, 6, 1, 73, 41], [99, 37, 1344, 701, 184, 1345, 54], [2236, 9, 164, 2, 9, 25, 356], [338, 24, 6, 40, 283, 2237, 754, 438, 68, 2238, 755, 33], [3, 2239, 3], [3, 6, 228], [3, 937, 151, 2240, 58, 122, 7, 24, 2, 953, 330, 1, 32, 83, 19, 2241, 2242, 756], [954, 8, 339, 146, 175, 1, 167, 1346, 120, 1, 49, 1, 4, 439, 1, 284, 1347], [4, 955, 19, 3, 4, 955, 232, 2243, 109, 196, 417, 120, 1, 1348, 1, 1349], [74, 1, 255, 956, 1, 169, 4, 12, 1, 3, 169, 243, 6, 2244], [26, 1, 122, 1242, 7, 181, 14, 1, 2, 11, 10, 4, 129, 1, 58, 2245, 118, 2246, 68, 1277, 8, 689, 7], [29, 757, 1238], [2, 11, 10, 221, 2247, 676, 677, 2248, 146, 4, 91, 27], [5, 470, 30, 19, 65, 2, 89, 45], [2, 88, 2249, 146, 78, 587, 21, 21], [2, 11, 10, 181, 14, 1, 49, 1, 1350, 1, 957, 1, 2250, 4, 2251, 1, 1244, 1, 2252, 251], [31, 14, 1, 5, 2253, 1, 30, 31, 473, 32, 224], [99, 37, 1344, 701, 184, 1345, 54], [68, 930, 14, 1, 188, 1351, 4, 875, 2254, 6, 48], [157, 168, 15, 8, 64, 27], [14, 1, 5, 2255, 30, 89, 45], [88, 12, 958, 233, 31, 758, 25, 2256, 959, 1, 340, 1, 102, 1352, 81], [208, 1, 4, 179, 9, 2, 2257, 729], [37, 502, 759, 9, 4, 367, 6, 39], [4, 1353, 122, 2, 6, 41, 1, 52], [503, 2258, 956, 1, 6, 688, 1, 7, 2259], [249, 4, 101, 1, 601, 1, 504, 601, 1, 1321, 4, 60, 163, 12, 1, 87], [760, 131, 1, 249, 602, 1, 26, 1, 167, 1, 15, 4, 2260, 4, 150, 474], [49, 1, 9, 63, 33, 8, 24, 211, 1354, 2, 910, 697, 2, 960, 89, 2261], [505, 2262, 506, 234, 1, 164, 506, 17], [1341, 49, 1, 4, 961, 1, 156, 1, 161, 1, 112, 1, 4, 38, 405, 292, 1, 7, 440, 244], [32, 19, 3, 2263, 603, 7, 24, 122, 7, 167, 1, 28, 1, 761, 2264, 60], [49, 1, 226, 762, 2, 1355, 19, 65], [1356, 93, 27], [2265, 2266, 327, 2267, 294, 26, 1, 399, 6, 1, 721, 2268], [954, 8, 339, 146, 175, 1, 167, 1346, 120, 1, 49, 1, 4, 439, 1, 284, 1347], [396, 49, 1, 9, 474, 54], [26, 1, 905, 56, 4, 420, 1, 318, 763, 2269, 556], [168, 30, 34, 109, 1357, 1, 2, 2270, 1, 2271, 1, 2272, 1226, 27, 109, 2273, 216], [380, 29, 220, 764, 46, 1, 3, 274, 1358, 131], [103, 1, 20, 3], [65, 2, 89, 197, 2, 75, 276, 2274, 283, 2275, 604, 56, 2276], [2277, 2], [962, 2278, 4, 1359, 376, 232, 2279, 31, 407, 1, 599, 1, 52, 129, 1, 7, 441, 1, 1360, 2], [3, 906, 412, 732], [86, 255, 2280, 1, 353, 33, 12, 1, 557, 3, 1361], [17, 4, 459, 42, 39, 2281, 77], [29, 78, 211, 1, 765, 17, 15, 130, 1362, 1363, 163, 2282, 24], [183, 1, 56, 142, 8, 963, 19, 3, 338, 24], [6, 3, 422, 1, 152, 1, 2283, 551, 766, 199, 257, 2, 341, 1], [4, 101, 1, 24, 29, 17, 133, 1, 32, 964, 2, 17, 490, 684, 1, 28, 7, 2284, 151, 223], [2, 118, 131, 89], [6, 3, 105, 362, 2285, 766, 965], [27, 155, 34, 2286, 1364, 2287, 46, 1, 3, 242, 21, 95, 130, 95, 68], [966, 227, 2288, 2289, 300, 230, 1, 4, 366, 183, 1365], [26, 1, 9, 1, 7, 49, 1, 15, 2], [222, 191, 171, 8, 12, 131, 1, 1366, 17, 958, 74, 507], [242, 1314, 146, 12, 7, 470, 1, 8, 1367, 164, 342], [508, 767, 150, 2290, 182, 768], [6, 276, 39, 358, 1, 15, 243, 1325], [2291, 3, 2292, 239, 12, 1, 876, 26, 1, 148, 81, 21, 116], [130, 23, 2293, 272, 2, 163, 168, 2294, 2, 696, 1, 352, 14, 274, 17, 2295, 164], [213, 753, 1, 4, 9, 1, 7], [2296, 2297, 1368, 1368, 2], [19, 310, 62, 1, 334, 251, 21, 146, 97, 598, 2298, 958, 2, 16, 1, 73, 42, 915], [769, 68, 15, 2299], [137, 6, 1, 139, 202, 9, 877, 16, 1, 152, 1, 2, 165, 77, 5], [2300, 9, 17, 770, 1, 2, 1369, 65], [6, 2301, 81, 605, 2302, 7, 2, 2303, 148, 2304], [68, 242, 174, 1370], [2, 129, 1, 135, 374], [32, 109, 215, 48, 9, 63, 157, 1, 34, 215, 87], [64, 22, 1186, 725, 1, 68, 606, 771, 2, 267, 70, 1, 458], [18, 2, 158, 125, 177], [74, 1, 859, 353, 594, 504], [967, 607, 1371, 28, 1, 2305, 7, 2306], [2, 11, 10, 128, 233, 102, 15, 2307, 9, 2, 6, 1, 42, 39, 2, 39, 50, 1250, 161, 1, 2308, 760, 147, 249, 298, 150, 1, 2309, 7], [378, 16, 1, 4, 2310, 9, 772, 404, 176, 124, 25, 50], [31, 32, 213, 2311, 1, 31, 32, 1372, 88, 2312, 24], [49, 1, 226, 1, 9, 33, 2, 11, 10, 181, 216], [187, 1, 271, 1373], [29, 720, 65, 593, 3, 373], [2, 1374, 1375, 1, 29, 147], [509, 132, 968, 470, 1, 107, 9, 33, 748], [396, 122, 1376, 8, 969, 1, 20, 2, 55, 168, 510], [773, 19, 3, 78, 27, 49, 1, 226], [208, 4, 101, 1, 17, 4, 961, 1, 29, 1377, 1, 67], [2313, 20, 2314, 2315, 2316, 116, 9, 7, 58, 23, 2317], [221, 3, 7, 493, 1, 511, 1378, 120, 1, 1379, 2318], [20, 970, 2319], [26, 1, 58, 115, 5, 2, 108, 100], [49, 1, 2320, 1, 138, 327, 774, 775], [4, 1380, 1, 606, 109, 87], [26, 1, 59, 407, 7, 608, 2321], [99, 28, 1, 8, 270, 147, 122, 62, 21], [27, 321, 2322, 61], [29, 2323, 311, 53, 1, 27, 15, 82, 167, 1, 21, 407, 1, 284, 199, 1, 2, 16, 1, 42, 39, 971, 124, 51], [208, 4, 101, 1, 17, 4, 961, 1, 29, 1377, 1, 67], [773, 19, 3, 78, 27, 49, 1, 226], [396, 122, 1376, 8, 969, 1, 20, 2, 55, 168, 510], [509, 132, 968, 470, 1, 107, 9, 33, 748], [2, 1374, 1375, 1, 29, 147], [29, 720, 65, 593, 3, 373], [187, 1, 271, 1373], [49, 1, 226, 1, 9, 33, 2, 11, 10, 181, 216], [25, 67, 73, 77, 1, 83, 972, 2324, 152, 1, 73, 119, 567, 299, 1, 6, 4, 776, 1381, 1, 2325], [6, 105, 697, 15, 217, 321, 343, 137, 1, 40, 1379, 973, 1, 974], [188, 1382, 48, 211, 3, 199, 211, 65], [28, 1, 3, 73, 77, 1, 88, 2326, 1383, 9], [50, 16, 1, 55, 94, 9, 1193], [460, 24, 2, 9, 1, 21, 112], [15, 4, 107, 285, 1, 1384, 27, 3, 1385], [74, 547, 2327, 33, 225], [248, 2328, 609, 23, 19, 425, 1, 2329, 19, 2330, 2331], [19, 4, 468, 63, 572, 42, 40], [22, 284, 22], [32, 975, 1, 165, 140, 610, 611, 99], [107, 63, 57, 976, 32, 74, 1386, 1, 36, 1387, 2, 977, 51, 582, 7], [2332, 1, 1229, 2333, 1, 131, 2334], [3, 718, 256, 107, 17, 14, 1342], [31, 302], [577, 50, 12, 1, 17, 13, 378, 12, 1, 4, 612, 136, 2335, 442], [2336, 378, 27], [165, 27, 8, 53, 2337, 461, 2338], [2, 11, 10, 2339, 2340, 1388, 443, 22], [6, 70, 1, 978, 613, 5, 2341], [3, 2342, 20, 48, 4], [2, 241, 1, 6, 2343, 151], [137, 30, 6, 2, 27, 2, 694, 64, 2344], [410, 743, 594, 614, 1, 165, 1, 2345, 22, 777], [21, 2346, 2347], [3, 72, 1, 8, 778, 728, 2348, 1, 1389, 409], [105, 16, 1, 512, 779, 309, 755, 2349], [4, 107, 9, 17, 508, 504, 2350], [780, 572, 9, 2351, 615, 1, 59, 750, 12, 1, 3], [403, 1194, 359, 14, 1188, 45, 1, 1390, 486, 238, 56, 57, 979, 28, 1, 610, 611, 21, 151, 1, 181, 14, 1, 2], [249, 63, 614, 1, 165, 13, 35, 5, 138, 21], [85, 55, 16, 1, 72, 1, 54, 126, 244], [762, 227, 109, 6, 781], [107, 63, 57, 976, 32, 74, 1386, 1, 36, 1387, 2, 977, 51, 582, 7], [6, 280, 250, 38, 782, 1, 98, 8, 16, 4, 578, 2352, 783], [274, 168, 9, 88, 2353], [3, 295], [3, 892, 2354], [92, 1391, 1, 2355, 113, 12, 1, 3], [86, 235, 5, 2356], [57, 1294, 444, 2, 139, 22, 67, 299, 616, 252, 303], [31, 941, 372], [74, 1, 211, 784, 617, 19, 46, 1, 163, 156, 1, 2357, 9, 7, 27, 67, 980, 2358, 160, 2359], [2, 11, 10, 2360, 407, 1, 21, 7, 2361], [43, 106, 2362, 2363], [75, 26, 1, 733, 16, 1, 2364, 2365, 26, 1, 64, 1, 7], [43, 785, 1392, 513, 79, 43], [2366, 602, 2367, 4, 150, 1, 7], [86, 1, 92, 12, 1, 3], [17, 1393, 54, 250, 866, 417, 2, 724, 3, 2368, 227, 2, 4, 514, 1], [25, 1, 77, 238, 2369, 7], [343, 1394, 30, 2370, 2371, 36, 561, 460, 228, 63, 33], [15, 3, 1385], [226, 1, 49, 1, 9, 63, 17, 95, 2372, 120, 1, 2373, 54], [618, 619, 124, 340, 37, 111, 250, 191, 26, 1, 2374, 860, 620, 212, 2, 2375, 374, 142, 2376], [75, 8, 261, 2377, 46, 1, 44, 2378], [424, 286, 1395, 1, 981, 2379, 90, 7, 3, 50, 2380, 6], [6, 280, 44], [872, 482, 1, 61, 2381], [375, 111, 23, 726, 572, 9, 131], [2, 11, 10, 1396, 1, 3, 40, 573, 56, 57, 4, 982, 253, 1, 2382, 2383, 621, 133, 1, 2, 1397, 2, 1397, 1398], [2, 515, 1, 983, 2384, 6, 485, 109, 2385, 127, 66], [3, 46, 1, 984, 1, 2, 11, 10, 1399, 786, 98], [6, 1, 373, 985, 484], [2, 69, 287, 1, 1400, 288, 3], [5, 16, 1, 1401, 1, 2, 80, 204, 50, 20], [445, 516, 326, 1402, 381, 16, 1, 65, 236, 3, 1403, 105, 162], [4, 986, 1, 46, 1, 3, 50, 20, 517, 494, 1, 48, 2, 33], [286, 13, 1404, 3, 342, 159, 1405, 442, 50, 4, 987, 168, 20, 937, 248, 23, 1406, 171, 9, 2, 1407, 622, 1, 2, 988, 1, 1408], [989, 787], [609, 1409, 58, 36, 359, 58, 56, 45, 3, 8, 62, 3, 1410, 7, 2, 289, 1, 144, 2, 1411, 896, 1412, 1413, 206, 1414], [2, 11, 10, 2, 4, 788, 1415, 1416, 41, 1, 2, 990, 1, 1417, 1, 119, 33, 789, 300, 1, 446, 46, 1, 48, 106], [912, 59, 14, 29, 1418, 2, 70, 1, 88, 4, 1419, 20, 32], [1420, 945, 6, 3], [2, 11, 10, 206, 31, 83, 6], [623, 745, 1, 1421, 17, 260, 1, 2386, 2, 260, 1, 312], [262, 1, 1422, 183, 2, 1423, 4, 423, 4, 132, 313, 7, 268, 247], [139, 1, 1424, 923, 518, 5, 150, 150, 150, 2, 38, 991, 992, 93, 6, 776], [8, 53, 991, 992, 6, 2387], [397, 1, 993, 608, 1, 1425, 409, 218, 1, 2, 1426, 790, 92, 30, 192, 755], [994, 90, 24, 408, 90, 1, 6, 201, 1, 352, 221, 17], [2, 224, 519, 614, 1, 30, 4, 355, 1, 1427, 1428], [70, 513, 2388, 217], [263, 33, 708, 52, 123, 6, 225, 1, 995, 310, 1, 34, 311, 1429, 36, 1430, 1431, 996], [5], [3, 26, 1, 98, 21, 519, 791, 132, 169, 765, 744, 1432, 164, 57, 312, 1433, 13, 1, 21, 1434, 6, 312, 36, 511, 159, 1, 132, 138, 7, 169], [144, 16, 1, 33, 2, 159, 2, 25, 42, 39, 1435, 14, 1, 23, 211, 1, 70, 792, 624, 1436, 793, 997, 24, 794, 1, 22, 1437, 998, 235, 1, 446, 20, 48], [130, 70, 3, 2, 306, 1, 7, 102, 742, 229, 382], [446, 20, 44], [40, 253, 1, 56], [32, 548, 4, 2389, 999], [473, 1, 936, 1, 2, 11, 10, 1438], [80, 263, 67, 80], [50, 25, 24, 1439, 383], [105, 192, 384, 1, 42, 4, 1440, 1000, 1001, 99, 37, 6], [66, 357, 26, 1, 99, 795, 625, 385, 1, 25, 1, 39, 2, 77, 1, 2, 62, 15, 112], [23, 738, 1441, 1, 384, 1, 1002, 1442, 1003, 1, 2, 1004, 71, 1, 2, 520, 626, 3, 7, 70, 1, 67, 105, 521, 2, 11, 10, 2, 796, 26, 1, 1443, 268], [34, 263, 16, 1, 978, 58, 1444], [2390, 55, 143], [1445, 6, 1, 2391, 4, 1446, 30, 413, 1, 2392, 2393, 878, 2, 621, 596], [70, 1, 413, 81], [84, 46, 1, 939, 1, 627, 1005, 342, 984, 1, 1447, 2, 1399, 786, 98], [6, 1, 42, 713], [22, 23, 344, 1006, 1007, 797, 2, 798, 1, 1008, 1009, 5, 229], [4, 355, 1, 257, 22, 16, 1, 3, 215, 21, 157, 1, 59, 2, 628], [16, 1, 1010, 1, 2, 9, 431, 115, 5, 2, 108, 100, 14, 1, 66, 357, 26, 1, 85, 34, 113, 235], [2394, 1011, 1, 1185, 1004, 489, 33, 22, 299, 81, 2395], [497], [2396, 2397, 2, 2398, 1, 4, 629, 522, 799, 2399, 53, 1, 1012, 1, 800, 1448, 801, 4, 1449, 1, 512, 472, 264, 1450, 1013], [84, 25, 370, 1, 2, 9, 2400, 1, 442, 299, 54, 2401, 259], [1263, 58, 235, 1, 7, 2402, 1, 4, 148, 1, 1014, 7], [31, 17, 4, 459, 41, 52, 434, 1015], [6, 1, 41, 1, 2, 233, 253, 1, 56, 15, 1016, 1, 25, 1017], [32, 46, 1, 48, 2403, 1, 2, 1, 4, 2404, 2405, 268], [518, 5, 130, 339, 16, 1, 252, 85], [109, 3], [523, 523, 558, 4, 475, 1018, 78, 1019, 1020, 8, 284, 630, 714, 64, 158], [6, 1, 326, 42, 524, 1021, 970], [1451, 90, 1452, 802], [182, 8, 11, 10, 32, 9, 17, 483, 1, 141, 61, 1022, 1023, 96, 278, 386, 1, 387, 447, 210, 447], [4, 369, 3, 9, 2, 6, 2406, 294, 15], [497], [2407, 314], [1024, 1025, 1, 388, 1026, 14, 1, 4, 1027, 2, 803, 1028, 1029], [6, 1, 42, 713, 2, 2408, 525, 472, 2409, 70, 2, 124, 192, 2410, 631, 281, 2411, 751, 2, 278, 37, 51], [20, 42, 39, 1453, 4, 593, 201, 57, 118, 25, 4, 234, 1, 2412, 2413], [6, 44, 42, 39], [2, 11, 10, 1454, 1, 16, 1, 1455, 1, 1456, 482, 1, 15, 9, 71, 174, 238, 4, 101, 1, 1030], [3, 17, 700, 2414, 54], [431, 16, 1, 1457, 44], [2, 11, 10, 16, 1, 42, 39, 23, 286, 779, 177, 41, 52, 2415, 1, 617, 159, 1, 596, 238, 50, 20], [2416, 46, 1, 3, 50, 48, 422], [84, 83, 46, 1, 48, 44, 1031, 5, 121, 1, 2, 76, 35, 5, 2417, 1, 8, 83, 170, 2, 526, 426], [6, 157, 1, 52, 4, 469, 1, 77, 1, 2, 62, 161, 1, 1032, 116, 1, 49, 1, 299, 1, 52, 2418, 1, 4, 202, 1, 2419, 58], [2, 11, 10, 6, 1, 105, 70, 1, 26, 1, 358, 1, 15], [2, 11, 10, 128, 133, 1, 67, 36, 2420, 4, 623, 93], [2421, 56], [1033, 527, 196, 253, 1, 56, 774], [1034, 3, 158, 125, 804], [6, 3, 162, 1, 52, 133, 1, 192, 85, 1, 8, 973, 1, 747, 14, 1, 5, 343, 2422, 2423, 972, 6, 1035], [50, 51, 67, 41, 41, 8, 1036, 940], [144, 16, 1, 1458, 2, 2424, 254, 526, 1459, 2, 254, 1037, 4, 691, 315, 2425], [1038, 1, 13, 57, 242, 28, 1, 4, 2426, 2, 2427, 127, 28, 1, 297, 2, 1460, 304, 1, 2428, 422, 57, 322, 45, 1, 31, 13, 1, 805, 127, 1, 38, 1461], [144, 33, 44, 32, 1462], [14, 24, 6, 1, 41, 1, 52, 2, 9, 1, 73, 77, 1, 2, 62, 21, 4, 107, 285, 1, 806, 267, 40, 2429, 1, 180], [632, 46, 1, 48, 327, 4, 11, 10, 105, 525, 472, 4, 1013, 2430, 4, 243, 245, 54, 15], [214, 30, 2431, 7, 14, 1, 5, 73, 2432, 2433], [2, 11, 10, 6, 1, 1039, 402, 1, 54, 2, 94, 2434, 1389, 1, 2, 1038, 1, 691, 1, 4, 2435, 528, 1, 2436, 2437], [1256, 50, 20], [2, 2438, 24, 55, 415, 24, 376, 1463, 22, 2439, 567, 20, 1464], [577, 157, 256, 2440, 2441, 9, 63], [63, 17, 77, 1, 54, 54], [1465, 193, 1, 166, 1, 584], [193, 1, 17, 2442, 2443, 141, 613, 64], [95, 345, 26, 1, 2, 13, 282, 1, 248, 158, 125, 804], [16, 1, 162, 1, 2, 63, 77, 1, 54, 2, 150, 1350, 1, 115, 5, 2, 108, 100, 807], [345, 69, 121], [17, 77, 198, 52], [2, 11, 10, 13, 1, 83, 46, 1, 2444, 2, 11, 10, 633, 799, 1466], [345, 929, 125, 177], [2, 25, 77, 1, 634, 1, 1284], [6, 1, 41, 1, 8, 778, 54, 54, 2, 25, 85, 37, 1040], [50, 6, 1, 2], [3, 178, 6, 31], [75, 25, 1, 2445, 2, 209, 2446, 2447, 8, 62, 1339, 44], [144, 46, 1, 48, 1281], [20, 3, 1034, 1337, 766, 515, 1, 25, 436, 1, 2, 2448, 471], [6, 1467, 169, 243, 7, 6, 2449], [6, 1, 373, 985, 484, 635, 86, 2450, 383, 1467], [632, 6, 913], [3, 144, 46, 1, 48, 44], [1468, 214, 63, 33, 77, 1, 54, 2], [16, 1, 402, 1, 54, 54, 529, 636, 9, 63, 33], [8, 629, 522, 154, 757, 8, 16, 1, 529, 1393, 95, 1, 286, 50, 3], [2451, 530], [214, 30, 61, 215, 15], [460, 200, 7], [2452, 1, 2453, 6, 1, 373, 2454], [200, 7, 9, 63, 67], [9, 63, 1030], [2, 11, 10, 2455, 637], [6, 136, 41, 1, 52], [597, 2456, 1, 1469, 29], [2457, 1, 2458], [31, 2, 11, 10, 28, 1, 160, 73, 77, 1, 2459, 30, 142], [142, 2460, 2461], [303, 1, 2462, 2463], [33, 39, 808, 2, 11, 10, 163, 2464, 1, 4, 2465, 53, 1, 20, 483, 1, 2, 4, 229, 2466, 2467, 979, 1, 37, 111, 448, 74, 3, 2, 55, 415, 22, 278, 2468, 8, 168, 16], [3, 559], [2469, 19, 3, 2, 62, 15, 4, 107, 9, 17], [3, 106, 72], [8, 778, 135, 77, 28, 152], [25, 210, 322], [6, 351, 254], [6, 162], [6, 1, 721, 93], [72], [214, 30, 9, 63], [1470, 2470, 202, 290], [1041, 345], [69, 121, 3], [588, 12, 490, 201, 1, 43], [69, 121, 43], [3], [3], [1471, 809, 869], [1472], [117, 638, 2, 346, 531, 314], [18, 71], [5, 128], [3], [532, 4, 11, 10, 114], [2471, 53, 1, 2, 2472, 17, 53, 1, 2473, 1, 2, 300, 1, 1037, 1473, 8, 270], [3], [2474, 699, 2, 2475, 14, 1, 1474], [18, 43], [639, 5, 314, 1475, 5], [205, 261, 1042], [1043, 5, 128, 2, 810, 461], [495, 125, 2, 583, 43], [209, 1476, 1477, 2, 209, 1478, 337, 1, 2476, 1, 2477], [5], [18, 194], [3], [2, 11, 10, 25, 1, 225, 1, 2, 37, 111, 2478, 405, 16, 1, 33, 250, 811, 30, 207, 8, 156, 1, 7, 2], [110, 3], [4, 47, 597, 63], [2479, 49, 1, 9, 38, 4, 2480, 2481, 2, 969, 20, 4, 306, 1479, 1, 2482, 389, 2, 1044, 28, 1, 4, 306, 1, 789, 118, 2, 629, 522, 4, 2483, 636, 576, 1, 801, 2, 2484, 57, 13, 1, 57, 212, 28, 1, 270, 2485, 2486, 1, 2, 2487, 1, 2488], [3, 640, 592], [2489, 315, 193, 1, 63, 2490, 1045], [328, 338, 106, 68, 533, 2491, 2492, 2493, 26, 1, 2494, 2495], [154, 2496, 2497], [633, 532, 1466], [370, 1, 2498, 114, 8, 2499, 1046, 1480, 1, 5, 2500, 1, 2, 2501, 1, 79, 2, 2502, 1, 2503], [2504, 1047, 2505, 14, 1288, 1048, 641], [4, 812, 5, 1481, 289, 1482, 43, 205, 261, 34, 774], [3, 15, 7, 1483, 1, 371, 52], [18, 43, 106], [1484, 6, 1, 39, 1, 7, 196, 1, 212], [727, 137, 17, 4, 459, 22, 97, 1, 2506], [134, 813, 4, 220, 2507, 513, 4, 1485, 1, 2508, 7, 129, 547, 101, 129, 618, 619, 1049, 15, 66, 1225, 2, 4, 2509, 2510, 1049, 2511, 1486, 490, 136], [3, 54, 4], [337], [18], [1487], [18, 925, 273], [18, 43], [3], [25, 1, 41, 1, 2, 11, 10, 389, 2, 2512, 2513, 52], [126], [7, 642, 814], [1488, 5, 324, 5, 69, 2514], [269, 10, 18, 3], [220, 2515, 98, 236, 106, 2516, 2, 13, 35, 5, 158, 125], [212, 499], [2517, 13, 35, 5, 43], [15, 358, 1, 116, 200], [534, 5, 815, 1217, 2518, 2519, 1489, 1, 643, 2520, 2521, 101, 3, 2522, 2, 1, 8, 11, 10, 2, 1, 199, 1, 1050, 69, 1490, 57, 2523, 190, 917, 2, 815, 2, 2524, 1491, 2, 190, 2525], [3, 692], [1051, 42, 2526], [126], [1492], [88, 2527, 816, 3, 187, 1, 85, 328, 19, 326, 1052, 2528], [23, 761, 627, 1493, 891, 2, 2529, 2530, 2531, 14, 1457, 44], [2532, 1, 70, 94, 1, 702], [3], [105, 6, 1494, 2533, 162, 1, 52], [485], [3, 110, 3], [18], [485], [3, 18], [2534, 1495, 4, 25, 33, 166, 13, 1, 584, 1, 8, 1496, 127, 2535], [3], [4, 47, 8, 62, 176], [2, 6, 4, 328, 1, 284], [69, 121], [18, 2536, 1, 2, 2537, 557, 1, 2538, 2539], [18, 43], [6, 688, 1, 2540, 2, 2541, 44], [214, 17, 5, 789, 216], [72], [23, 3], [5, 2542], [158, 125, 804], [25, 1, 144, 28, 1, 492, 201, 1, 389, 817, 4, 644, 14, 800, 22, 85, 1497, 1, 31, 25, 1, 8, 118, 4, 1498, 15, 1192, 818, 2, 2543, 14, 48, 563, 389, 212, 1], [3], [256, 4, 1498, 563], [126, 325], [47, 3], [597, 17, 2544], [375, 2545], [4, 439, 26, 2546, 2547, 627, 26, 1, 20], [18], [3, 106], [55], [3], [375, 19, 2548, 2, 155, 2549, 23, 102, 212], [158, 125], [23, 3], [2550, 142, 4, 1053, 1, 819], [2551, 2, 11, 10, 111, 2552, 54], [158, 125, 804], [3], [17, 77, 54], [4, 47, 2, 114, 76, 269, 10], [205, 261, 34, 4, 11, 10, 14, 128], [76, 199, 273], [188, 2553, 389, 212, 2, 1484, 6], [3, 25, 4, 414, 413], [1474, 1, 2, 18, 1, 145], [124, 2, 1499, 1, 2554, 619, 8, 569, 1335, 565], [32, 588, 12, 3, 508], [4, 47, 615, 9, 142], [1497, 1, 23, 4, 188, 2555, 55, 22, 24, 13, 1, 66, 1500, 74, 28, 1, 436, 1, 2, 2556, 576, 1, 36, 2557, 142, 2558, 301, 3], [3, 3], [68, 2559, 270, 2560], [421, 2561, 389, 4, 279, 8, 212, 20, 4, 328, 263, 281, 2562, 2563], [72], [389, 2564, 2565, 2566], [1492, 32], [716, 19, 3, 4, 580, 2567, 1051, 5], [552, 230, 618, 619, 2568, 23, 230, 2569, 1483, 52, 4, 132, 1464, 123, 134, 716, 4, 1446, 1054, 618, 619, 57, 1054, 1055, 1056, 2570, 230, 2, 1499, 1, 36, 2571, 2572, 2573, 1, 2574, 4, 2575, 787, 1054, 99], [380, 617, 30, 2576], [3, 110, 3], [4, 47, 204, 76, 2577], [3, 25, 2578], [3, 25, 499], [3, 25, 918], [3, 6, 228], [3, 2579, 2580], [3, 6], [51, 2581, 2582, 13, 57, 1501, 3], [126, 244], [175, 14, 1, 74, 91, 67, 1502, 279, 44, 784, 91, 1503], [6, 1, 33, 41, 512, 472, 1504], [9, 731, 1505], [711, 1, 3, 55, 64, 164], [1057, 19, 3, 6, 1, 41, 1, 37, 51, 190, 1, 40, 119, 437, 8, 820, 87, 7], [64, 535, 267], [1, 82, 1506, 2, 247, 809, 2583, 1, 2, 121, 1, 2584, 1, 821, 194, 822], [1, 645, 1058, 1, 2, 646, 1, 401, 82, 2, 1059, 1, 377, 76, 583, 2, 247, 2, 377, 76, 158, 125], [187, 1, 119, 13, 3, 290, 50, 8, 62, 12, 277, 1507, 262, 1, 1060, 2, 1508, 261, 33], [209, 3, 325], [248, 634, 64, 14, 12, 164], [114, 2585, 306], [18, 265], [2, 13, 282, 1, 145, 114, 823], [3, 6, 365, 1509, 248, 2586, 114], [6, 276, 41, 1, 8, 2587, 1061, 2, 2588, 2, 4, 578, 165, 15, 4, 1354, 6, 52, 59, 1510, 8, 300, 165, 140, 2, 1511, 2589, 8, 2590, 2, 2591, 51, 250, 2592, 6, 2, 62, 1, 196, 1, 91, 15, 140, 2, 1511, 222, 6, 38, 365], [2593, 2, 188, 2594, 2595, 2596, 43, 190], [2597, 4, 64, 33, 2598, 196], [18, 43], [2, 13, 35, 5, 145, 114, 823], [247, 2, 1512, 2599, 1, 2, 456, 2, 646, 2600], [8, 629, 522, 184, 50, 2, 2601, 4, 532, 2, 8, 1062, 362, 2602, 2603], [2, 1513, 5, 2604, 273, 3], [18, 3, 6, 50], [633, 532, 4, 1063, 1, 1, 50, 2, 1064, 18], [4, 47, 1065, 194, 75, 3], [3, 50, 170, 3], [18, 2, 495, 125, 114, 1066], [3, 6, 365, 2, 1509, 1, 248, 47], [425, 182], [117, 785, 747, 79, 2605, 43, 2606, 207, 438, 43], [4, 47, 13, 35, 5], [170, 526, 1067], [548, 14, 9, 206], [375, 63, 942, 44], [1514, 5, 335], [824, 63, 87, 7, 1515, 159, 146, 27], [2607, 145, 633, 532, 4, 1063, 1, 1, 50, 2, 1064, 18], [2608, 230, 142, 1, 73, 99, 1516, 1, 3, 2609], [1517, 76, 14, 2610, 262, 5, 2611, 79, 2612], [44, 178, 3, 170, 26, 1, 2, 11, 10, 18, 58, 189, 5], [18], [13, 35, 5, 76, 705], [9, 527, 24, 256, 42, 19, 1518], [16, 1, 535, 1, 4, 62, 364, 644, 16, 390, 7, 370, 64], [536, 19, 1519, 1, 334, 3, 178, 12, 1, 1520, 1068], [4, 1069, 1521, 1522, 864], [2, 738, 2613, 12, 1, 87, 215, 141, 61, 7, 113, 1], [26, 1, 1523, 28, 1, 8, 62, 15, 404, 1, 1524, 1, 196, 1, 463, 1, 13, 35, 5, 511, 1, 15, 2, 289, 1, 379, 1, 27, 92, 1070], [18, 194], [3, 290, 50], [410, 38, 647, 1, 6, 1525, 1, 264, 951], [18, 194], [3, 290, 50], [68, 205, 12, 3, 136, 1071, 153, 68, 595, 1072], [1526, 589, 1527, 16, 1, 3, 1528, 1529], [137, 30, 6, 157, 36, 561, 2614], [68, 205, 12, 3, 136, 1071, 153, 68, 595, 1072], [153, 1530, 648, 264, 817, 28, 1, 2, 27, 92, 64], [4, 47, 13, 35, 5], [2, 11, 10, 3, 187, 1, 228, 16, 69, 121], [1531, 64, 12, 1, 557, 149, 293, 136], [18, 2, 953, 4, 1532, 6, 1, 825, 6, 152, 1, 52], [18, 145, 72], [2, 11, 10, 3, 187, 1, 228, 16, 69, 121], [403, 290, 2, 403, 148, 1, 155, 86, 91, 34, 38, 70, 1533, 15], [68, 533, 12, 1, 4, 788, 165, 2, 387, 1, 161, 1, 27, 1, 2, 1, 826], [2, 11, 10, 603, 1, 649, 7, 73, 533, 1073, 1534, 68, 1535, 1, 749, 1, 1536, 58], [391, 45, 827, 34, 650], [1537, 1538, 1, 4, 397, 1, 512, 239, 1539, 1, 2, 1540, 6, 1, 55, 4, 612, 551, 1012, 1, 1541], [228, 16, 1, 44, 2, 50, 25, 2615, 118, 18, 76, 2, 69, 564, 44], [75, 26, 1, 76, 1542, 2, 247, 18], [18, 145, 9, 12, 1, 2, 9, 63, 268], [18, 13, 282, 1, 18, 13, 269, 10], [158, 125, 2, 114, 564, 1, 5, 87, 828, 291, 1543], [12, 581, 3, 87, 3, 177, 45], [387, 28, 1, 7, 2616, 1544, 56, 4, 2617, 159, 57, 56, 57, 2618, 8, 704, 2619, 3, 3, 166, 1, 478], [141, 928, 7, 229, 557, 93, 2620], [31, 32, 97, 1, 2621, 2, 694, 9, 236, 712, 462, 1, 30], [6, 41, 1, 24, 138, 7, 315, 185, 96], [19, 3, 2622, 23, 679, 304, 1, 53, 1, 4, 80, 171, 279, 6, 2623, 55, 22, 206, 2, 2624, 132], [74, 1, 1545, 12, 8, 136, 68], [4, 47, 3, 6, 1, 326, 162, 1, 8, 2625, 1074, 276, 1053, 1, 648, 2626], [283, 829, 304, 1, 23, 171, 279, 6, 1074, 1546, 40, 15, 1547, 2627], [187, 1, 610, 611, 2628, 4, 57, 2629, 123], [283, 829, 304, 1, 23, 171, 279, 6, 1074, 1546, 40, 15, 1547, 8, 25, 337, 2630, 2631], [2632, 642, 1, 186, 1, 2, 2633, 186, 2634, 8, 389, 25, 1, 75, 14, 2635, 634, 1, 2636], [3, 1548, 514], [23, 2637, 2, 13, 282, 1, 13, 282, 1, 2638, 1075, 3, 1548, 514, 8, 2639, 2640, 514], [2641, 1, 351, 2642, 280], [43, 1549, 2643, 43, 106, 785, 2644, 4, 650, 57, 587, 2645, 117, 1550, 2646], [117, 1257, 1551, 2647, 2648, 2649, 129, 2650, 259, 14, 1, 2, 2651, 2652, 2653, 79, 79], [110, 3, 38, 3, 1552, 57, 2, 364, 57, 2654, 2655, 97, 1, 42, 2656, 1553, 2657], [3, 946, 295, 1076, 1, 706, 1, 193, 1, 2, 2658, 2, 986, 2, 481, 1076, 1, 47, 2, 114, 3, 3], [18, 375, 19], [18, 2, 495, 125, 2, 114, 1066], [134, 1394, 30, 192, 1554, 281, 203, 819, 166, 1, 36, 319], [163, 12, 1, 3, 1300, 131, 2659, 1, 2, 86, 2660, 1, 4, 155, 1, 1237, 1, 2661, 1, 86, 2662, 1555], [296, 23, 279, 44], [337, 1556, 1557, 244], [1558, 706, 1388], [2663, 4, 47, 76, 3], [18, 13, 35, 5], [98, 19, 2664, 90, 7, 341], [72, 2665], [3, 2, 6, 1, 3], [23, 3], [224, 9, 135, 278, 171, 2666], [1, 645, 1058, 1, 2, 646, 1, 401, 82, 2, 1059, 1, 377, 76, 583, 2, 247, 2, 377, 76, 158, 125], [633, 532, 4, 1063, 1, 1, 50, 2, 1064, 18], [4, 47, 2, 13, 35, 5, 114, 2667], [2, 11, 10, 2, 127, 2668, 2669, 25, 907, 2670, 2671, 2672, 2, 2673, 1, 1559, 152, 1, 2, 2674, 277, 3, 62, 1, 101, 1560, 3], [2, 10, 1276, 2675, 8, 675, 1, 247, 1, 1035, 20], [209, 8, 79, 3, 2, 2676, 1, 14, 1561], [9, 77, 2677], [1562, 2678, 1, 1562, 14, 1, 78, 23, 15, 116, 9, 17, 2, 2679, 481, 2, 1, 35, 5, 2680, 2681, 42, 2682, 505, 231, 95, 321, 4, 379, 1, 1041, 321], [55, 22, 254, 2683, 34], [149, 203, 28, 1, 37, 51], [1077, 537, 8, 20, 48, 2684, 193, 1, 336, 1, 141, 38, 263, 96, 222, 359, 2685], [4, 54, 1563, 1564, 49, 1, 9, 2, 16, 1, 42, 39, 15, 14, 144], [84, 3, 26, 1, 15, 485, 13, 1, 455, 2686, 1, 586, 1, 830, 65, 83, 1565], [166, 591, 347, 9, 1566, 1040], [84, 17, 424, 2687, 1, 152, 54, 2688, 1289, 2689, 111, 68, 998, 756, 624, 1567, 2690, 61, 21, 69, 1568], [2, 1038, 1, 19, 136, 1282, 122, 15, 21, 467, 1, 2, 396, 2691, 2692, 101, 1569, 174, 34, 1570, 21], [1078, 3], [84, 49, 1, 9, 1571, 25, 22, 439, 2693, 2694, 56, 236, 2695, 2696, 631], [84, 15, 116, 30, 9, 144, 16, 1, 85, 138, 28, 1, 4, 2697, 93, 203, 1079, 308, 1, 132, 6, 85, 59, 198, 1, 4, 2698, 148, 1, 549], [775, 190, 1080, 57, 4, 11, 10, 166, 13, 2699, 190, 1080, 13, 2700, 2701], [9, 1, 77, 2, 11, 10, 23, 70, 66, 600, 59, 91], [170, 8, 25, 3], [610, 611], [4, 47, 76, 265], [1081, 2702, 1572, 2, 2703, 2, 362, 75, 209, 2, 432, 25, 1, 2, 209, 20, 280, 76], [3, 110, 3], [86, 255, 46, 1, 3, 7, 651, 1573, 3, 1574, 3], [571, 1262, 59, 3], [2704, 71, 1, 456, 2, 1512, 2705, 2706, 1575, 1481, 79], [1575, 5, 79, 706, 1, 18, 43], [2, 11, 10, 38, 28, 1, 935, 2], [15, 5, 2707, 138, 918], [5, 2708, 1, 227, 962, 4, 319, 21, 122, 474, 60, 1, 198, 1, 4, 561, 14, 1], [1082, 67, 69, 121], [679, 304, 1, 215, 13, 2, 8, 528, 1, 331, 1, 234, 49, 1, 831], [18, 265, 495, 125, 2, 114, 1066], [107, 104, 32, 133, 1, 534, 1, 240, 1, 22], [28, 1, 141, 220, 202, 30, 193, 1, 68, 31], [251, 138, 84, 1], [449, 91, 1, 40, 283, 1291, 1, 95], [23, 418, 217, 2709, 4, 95, 399], [821, 194, 822], [69, 121, 1, 64, 1, 62, 1, 85, 83], [6, 3, 1077], [70, 1, 530, 105], [187, 1, 438, 2710, 1576, 143], [2711, 2712, 1577, 16], [2713, 861, 143, 14, 2714], [2715], [57, 2716, 900, 41, 1, 52, 4, 243, 599, 783], [538, 12, 1, 1578, 1, 143, 1579], [65, 228, 372], [3, 16, 1, 1580, 54, 149, 28, 1, 193, 1, 33, 105, 2717, 57, 2718, 322, 1, 184, 2719, 12], [2720, 1, 23, 316, 830, 866, 2, 123, 40, 138, 1581], [65, 239, 13, 37, 136, 27, 477, 33, 20, 2721], [84, 6, 73, 57, 2722, 1, 42, 227], [32, 496, 1, 46, 1, 1578, 1, 143, 81, 2723, 96, 257, 2724, 29, 383], [84, 1563, 1564, 908], [2725, 1, 365, 8, 2726, 735, 2727], [2728, 2729, 551, 497, 2, 341, 2730, 119, 354, 2731, 1, 2732, 2733], [7, 156, 1, 23, 49, 1, 9, 2, 33, 39, 450, 354, 141, 500, 2734, 1036, 223, 2, 1, 2735, 1, 765, 2736], [90, 37, 51, 73, 41, 1, 2, 20, 48, 4, 911, 94, 1, 2737, 686, 642, 180, 74, 745, 344], [55, 2738, 2739], [4, 514, 1, 6, 41, 1, 52, 340, 1, 2740, 216, 151], [2, 11, 10, 2741, 2742, 16, 73, 41, 1, 52, 1560, 264], [208, 466, 21, 49, 1, 2, 6, 632], [143, 257, 448, 2, 309, 400, 1, 187, 1, 288, 2, 290, 316, 103, 1, 20, 101, 2743, 38, 1582, 782], [31, 16, 1, 7, 73, 164, 1583, 1, 7, 16, 1, 111], [84, 2, 11, 10, 952, 148, 832, 6, 220, 119], [38, 332, 1, 889, 26, 1, 2744, 1, 336, 21, 2, 142, 41, 1, 52], [250, 129, 1, 51, 7, 367, 2, 37, 537, 2745, 2746, 717, 1, 7, 2747, 2748, 1, 2749, 180, 22], [23, 70, 1, 4, 3, 70, 1, 308, 1, 2, 70, 1, 382, 2750, 52], [502, 586, 1, 477, 144], [65, 1083, 2751, 2, 378, 9, 2, 3, 82, 252, 105], [2752, 2753], [3, 402, 1, 54, 2754, 1084, 15, 7], [31, 1085, 2755, 231, 3, 621, 596, 4, 1583, 1, 134, 505, 2756, 1584, 144, 304, 1, 2757, 93, 99], [2, 150, 2758, 1585, 2759], [3, 373, 41, 1, 2760, 500, 176, 1, 136, 2, 2761, 500, 4, 2762, 380, 380, 2763, 2764, 878, 4], [1586, 2, 11, 10, 1086, 23, 2765, 14, 67, 3, 179, 4, 2766, 25, 2767], [78, 86, 26, 1, 1087, 2768, 2769], [5, 1299, 1, 28, 1, 17, 162, 1, 1255, 2, 9, 356], [84, 51, 7, 2, 2770, 1, 54, 3, 179, 174, 25, 4, 367, 144, 115, 5, 2, 108, 100, 807], [2771, 494, 981, 1, 40, 2, 2772, 1, 634, 1, 613], [1587, 1, 767, 9, 149, 293], [122, 1588, 1, 2, 49, 1, 14, 1, 1084, 25], [187, 1, 6, 152, 1, 52, 2, 9, 356, 53, 1, 333], [85, 1088, 1, 2, 20, 2773, 1, 288, 2, 2774, 1, 2775, 62, 1, 1589, 1, 2, 2776, 737], [38, 263, 16, 1, 8, 778, 84, 813, 91, 61, 1039, 2777, 38, 376, 70, 109, 14, 466, 263, 1320, 1, 1039, 2778, 1, 2779, 652, 1, 7, 2780, 25, 1, 7], [2, 11, 10, 23, 198, 2781, 3, 15, 203, 132, 4, 179, 15, 198, 70, 1089, 2782], [84, 3, 26, 1, 140, 73, 2783, 1, 54], [74, 30, 46, 1, 48, 71, 1, 2, 11, 10, 1590, 2784, 1, 338, 1, 7, 529, 1591], [3, 73, 2785, 1, 329, 323, 29, 653], [49, 1, 9, 1592, 25], [65, 316, 530, 372], [343, 489], [2, 11, 10, 6, 15, 7, 41, 1, 54, 54, 2, 62, 29, 4, 2786, 808, 1090], [68, 142, 49, 1, 9, 1571, 25], [7, 187, 1, 2, 11, 10, 506, 9, 63, 6, 1, 73, 713], [65, 316, 530, 372], [769, 311, 409, 811, 1593, 39], [2, 123, 2787, 169], [1587, 1, 65, 7, 1594, 236, 1286, 719], [84, 13, 1, 91, 2788, 16, 1, 3, 1595, 1, 21, 287, 2789, 61, 342], [1091, 179, 9, 1092, 487, 97, 1, 2790, 833, 2791, 2, 1596, 1], [1597], [95, 1597, 66, 138, 155], [5, 2792, 392], [65, 2793, 53, 1, 424, 77, 1, 54, 54], [3, 617, 800, 16, 1, 164, 2794], [410, 612, 30, 16, 834, 4, 441, 2795, 159, 33], [23, 768, 1598, 8, 51, 7], [3, 26, 1, 140, 41, 1, 52, 2, 139, 22, 217, 759, 9, 2796, 2797], [3, 7, 26, 1, 98, 140, 42, 39, 2, 11, 10, 34, 4, 654, 17, 1599, 42, 1287], [1600, 1, 2, 11, 10, 240, 239, 156, 1, 2, 1, 715, 21, 2798, 444, 2799, 425, 4, 226, 2800, 297], [2, 241, 6, 794], [3, 87, 61, 365, 52, 835, 9, 608, 2801, 138, 155], [496, 1, 2802, 1, 429, 336, 84, 6], [2803, 2804, 89, 45], [16, 73, 25, 1, 2805, 1, 54], [286, 3, 50, 1565], [55, 22, 2806, 14, 149, 297], [402, 1, 54, 2807], [57, 2808, 1, 52, 769], [37, 28, 1, 7, 2809, 141, 263, 141], [3, 73, 55, 415], [130, 496, 1, 83, 67, 1584, 6], [1601, 88, 78, 2], [756, 502, 2810, 6, 1, 39], [84, 3, 15, 7, 41], [12, 1, 141, 87, 530, 54], [4, 644, 2, 11, 10, 228, 6, 286], [2811, 502, 317, 159, 39], [70, 1, 530, 105], [6, 316], [193, 1, 1602, 869, 1603], [6, 3, 1077], [1602, 772, 2812], [55, 781], [31, 2813, 24, 2814, 24, 15, 116, 9, 2, 6, 1, 42, 39], [31, 213, 836, 29, 4, 122, 62, 15, 7, 2, 2815, 103, 2816], [49, 1, 33, 4, 788, 772, 49, 1, 193, 1, 33, 1604, 2817, 2, 786, 1093, 9, 772, 28, 1, 71, 1, 101, 1604, 1005, 1094, 1, 20, 101, 2818, 1, 14, 1605, 2819], [2, 2820, 9, 33, 14, 320, 1, 88, 600, 78, 5, 574, 53, 1, 31], [134, 683, 184, 1606, 4, 2821, 1095, 309, 2, 8, 2822, 1, 364, 763, 1, 278, 1095, 8, 1096, 296, 2823, 1097, 1, 2824], [224, 59, 243, 1, 148, 1, 215, 17, 959, 1, 7, 59, 24], [3, 38, 178, 16, 1, 1082, 16, 1, 228, 16, 1, 418, 162, 22, 2825, 3, 13, 49, 1, 33, 1084, 16, 1, 4, 423, 99, 2826, 2827, 65], [19, 3, 1098, 178, 27], [1531, 95, 2828, 1, 78, 70, 2829, 421, 70, 1607, 1608, 655, 2830, 1450], [28, 1, 444, 86, 1, 1493, 480], [281, 406, 881, 3, 27, 4, 963, 957, 1, 4, 957, 216, 2831], [96, 1332, 1609, 1500], [302, 31, 1610, 9, 33, 81, 31], [59, 36, 74, 191, 2832, 107, 285, 1, 36, 2833, 221, 14, 1, 1245], [3, 97, 2834, 212, 1, 2835, 42, 29, 40, 80, 539, 80, 130, 680, 555, 22, 23, 2836, 204, 2837, 42, 39, 2, 317, 2838], [14, 1, 5, 202, 9, 17, 27, 231, 835, 1611], [4, 1612, 146, 240, 1, 146], [1613, 71, 2839, 5], [2, 11, 10, 1223, 1224], [83, 2840], [61, 6, 431, 38], [1614, 2841, 189, 5], [908, 2, 11, 10, 22, 338], [84], [31, 3, 1603, 2842], [6, 584, 1, 2, 77, 1, 52], [17, 90, 7, 39], [23, 604, 56, 4, 1615, 318, 26, 1, 59, 2843, 2844, 56, 1555], [1366, 17, 2845, 1, 51, 2846, 17, 700, 22, 4, 773, 1, 104, 1292, 1099], [327, 4, 11, 10, 181, 14, 1, 31, 161, 1, 49, 1, 13, 35, 5, 2847], [302, 119, 366, 831, 385, 249, 2848, 216], [232, 433, 1616, 400, 74, 127, 600, 78], [351, 29, 73, 2849, 8, 1473, 2850], [540, 1, 13, 282, 1, 14, 1, 4, 1617, 2851], [2852, 746, 1, 31, 134, 115, 5, 2, 108, 100, 2, 16, 1, 2853], [2854, 1, 2855, 2, 694, 2856, 1, 81, 36, 2857, 94, 1, 19, 3], [2858, 4, 11, 10, 53, 1, 566, 5, 99, 37, 1588, 107, 9, 17], [1083, 348, 1, 28, 1, 2, 33, 2, 62, 391, 88, 602, 1, 44, 88, 105, 1100, 348], [2, 11, 10, 128, 444, 3, 1618, 1, 215, 17], [9, 366, 2859, 631, 98, 21, 116, 9, 26, 1, 2, 2860, 397, 347, 1, 2861, 419, 13, 269, 10], [520, 55, 1, 901, 909, 5, 8, 2862, 1, 122, 7, 13, 282, 1, 20, 656, 43], [368, 90, 7, 4, 536, 2, 2863, 8, 2864, 836, 734, 2865, 2, 393, 7, 4, 350, 81, 5, 1086, 2, 139, 22, 80, 317, 94, 1, 79], [49, 1, 9, 203, 647, 1, 25, 119, 141, 2866, 2867, 1553, 39], [2868, 48, 249, 341, 53, 1, 827, 73, 2869], [2870, 2871], [23, 830, 336, 2872, 425, 61, 95], [14, 1, 5, 1619, 1, 1620], [2, 196, 1, 312, 2873, 589], [490, 2874, 1, 4, 812, 5], [1101, 5, 31, 80, 539, 80, 124, 118, 84, 89, 2875, 68, 2876, 14, 2877, 4, 656, 146, 747, 680, 555, 22, 2878, 22, 217, 31, 22, 2879, 2880, 1, 2, 1102, 5, 218, 1, 24, 4, 2881, 21, 445, 1621], [393, 7, 831, 2882, 2883, 757, 1, 56, 1622, 2884], [2885, 206, 837, 358, 1, 15, 107, 838, 1, 17, 96, 521, 1, 657, 15, 38, 839, 590, 1, 19, 3, 577, 6, 935, 4, 963, 2, 2886, 52, 2, 2887, 702, 927, 133, 1, 257, 292, 1, 7, 4, 97, 1, 2888, 2889], [2890, 2891, 386, 1, 638, 2892, 5], [2893, 344, 1, 81, 36, 91, 21, 2894, 2895, 2, 123, 201, 1, 463, 2896, 1252], [566, 5, 94, 1, 2897, 53, 1, 2, 2898, 1, 1047], [1623, 138, 831, 13, 282, 1, 2899, 30, 960, 2900], [112, 24], [17, 232, 737], [752, 498, 99, 37, 1592, 1103], [2901, 56], [7, 316, 436, 2902], [5, 2903, 1, 42, 2904, 31], [4, 439, 8, 9, 33, 156, 1, 141, 61, 598, 15, 2905, 2906, 502, 322], [32, 4, 2907, 594], [317, 1624, 816, 226, 2, 1334, 1, 1021, 783], [28, 1, 444, 1625, 2908, 1625, 2909, 1626, 2, 37, 2910, 182, 2911], [138, 116, 25, 33, 541, 3, 24], [2, 2912, 2913, 2914, 7, 43, 29, 764, 17, 120, 1, 808, 1627], [97, 2915], [315, 30, 9, 17, 8, 53, 944, 4, 1104, 767, 2916, 186], [2917], [2, 1105, 2918, 12, 1, 109, 350, 113, 1, 130], [391, 1487, 421, 38, 2919], [32, 15, 49, 1, 25, 6, 41, 37, 51, 66, 8, 53, 179, 438, 8, 1395, 1568, 118, 4, 6, 332, 1, 96, 2920, 404, 1, 98, 2921, 1, 2922, 1, 2923, 2, 531, 2924], [32, 903, 94, 1, 2925, 658, 1613, 1601], [597, 164, 177, 236, 19, 65, 60, 49, 1, 2, 7, 1628, 1, 1469, 118, 98, 1, 46, 1, 2, 289, 1, 2, 7, 1628, 2926], [115, 5, 2, 108, 1, 100, 2927, 148, 1, 6, 1, 42, 39, 2928, 285, 1, 29, 62, 1, 350, 182], [1629, 734, 2929], [954, 12, 380, 1630], [2930, 590, 1, 435], [2, 2931, 5, 2, 108, 100, 216], [836, 24, 31, 5, 311, 2932, 102], [315, 30, 9, 17, 151, 31], [2, 6, 39, 39], [107, 838, 1, 8, 61, 837, 180], [1631, 1632], [820, 341, 120, 1, 2, 1096, 81], [539, 763, 2, 150, 763, 234, 1, 338, 24], [4, 107, 838, 1, 17, 2933, 270, 151], [23, 12, 659, 1, 657, 660], [552, 4, 330, 2934, 2935], [836, 120, 1, 1629, 734, 85], [2, 11, 10, 29, 764, 20, 3], [837, 24], [153, 840, 6, 1, 735, 1, 7, 40, 111], [841, 1633], [99, 1, 1, 51, 1096, 451, 17, 267], [67, 15, 42, 39, 5, 1634], [167, 19, 3, 924, 388, 392, 244], [1308, 14, 1, 4, 1617, 803, 841, 2936], [167, 1, 107, 9, 63, 17, 8, 689, 7], [2937], [729, 152, 1, 613], [264, 842, 779, 2938, 2939, 2940], [75, 1635, 14, 49, 1, 17], [67, 15, 42, 39, 5, 1634], [2, 315, 9, 33, 2941, 15], [2942, 55, 22, 24, 2943, 3], [175, 14, 1, 2, 534, 1, 5, 2, 843, 1], [129, 1, 135, 225], [14, 1, 5, 137, 30, 6, 7, 31, 17, 42, 39], [163, 156, 1, 135, 33, 4, 287, 91, 208, 81], [123, 116, 9, 17, 14, 24, 340], [337, 2, 426, 2, 1106, 1, 1636, 1, 216, 268], [9, 2, 25, 1, 1010, 1, 16, 1, 243, 169, 7, 2944, 34, 44], [2945, 1, 225, 1, 301, 3], [58, 137, 30, 6, 40, 111], [13, 35, 5, 2946, 637], [1637, 6, 315, 9, 2, 196, 2947, 415, 1, 7], [841, 539, 4, 414, 1638, 137, 6, 1, 39, 7, 2, 139, 343, 2948], [17, 22, 26, 1, 4, 2949, 2950, 58, 188, 2951, 4, 229, 2, 77, 419, 81, 481, 81, 193, 1, 81, 17], [2952, 13, 1095, 84, 2953, 1, 2, 2954, 85, 2955, 816], [393, 7, 15, 2956, 1, 4, 437, 2957, 1, 1491], [2958, 1, 202, 9, 245, 23, 163, 2959, 310, 2960, 59, 36, 58, 2961, 1, 382], [2962, 53, 1, 600, 5, 1514, 335], [153, 40, 190, 6, 1, 42, 2963, 49, 1, 203, 481], [2, 241, 341, 85, 37, 391], [50, 6], [4, 47, 3], [209, 1476, 1477, 2, 209, 1478, 337, 1, 815, 1, 1107, 248, 47], [1639, 1, 2964, 14, 820, 539], [403, 234, 1, 17], [302, 19, 3], [122, 33, 7, 31], [19, 3, 468], [740, 1, 6, 2965, 162], [69, 121, 1, 8, 60, 79], [3, 2, 1640, 3], [701, 3, 2966, 652], [175, 14, 1, 2, 534, 1, 5, 301, 3, 2, 2967, 304, 1, 53, 1, 4, 189, 320, 514, 2968, 4, 359, 14, 226, 388, 539, 451, 1, 101, 451, 28, 1, 444, 2, 8, 1062, 337], [1641, 2969], [4, 47, 13, 35, 5, 3], [76, 517, 60, 79], [3, 692], [462, 1108, 2, 11, 10, 73, 378, 2970, 16, 1, 133, 1, 67, 45, 2, 504, 466, 111, 2, 2971, 229, 26, 1, 66, 176, 28, 1, 374, 1, 424, 479, 659, 12, 83, 19, 239, 13, 1642, 529, 49, 1, 9, 133, 1, 2972, 1109, 45, 596, 123], [49, 1, 9, 2, 16, 1, 42, 39, 2973], [2974, 2975, 32, 222, 38, 1082, 19, 2976, 14, 1, 222, 1643, 218, 53, 1, 8, 13, 1, 8, 2977, 8, 428, 1644, 2978], [153, 840, 29, 2979, 146, 618, 40, 51], [2980, 9, 7, 1110, 6, 5, 1111, 1, 931, 1645], [4, 930, 14, 621, 651, 2981, 2982], [49, 1, 9, 2983, 1, 92, 49, 1, 8, 193, 1, 6], [103, 1, 20, 3], [1646, 2984], [5, 2985, 19, 3], [6, 1, 41, 52], [443, 2986, 2987, 2988], [32, 1243, 2, 16, 1, 2989], [2, 11, 10, 144, 46, 1, 106, 2990, 2991, 1, 98, 735, 50, 207, 2992, 3], [26, 1, 107, 9, 17, 4, 129, 1, 7], [116, 30, 25, 1, 33, 2, 11, 10, 1647, 14, 1, 922], [1648, 30, 132, 122, 9, 25, 33], [681, 2993, 9, 2994, 6, 1, 41, 7], [270, 2995, 22, 133, 1, 1112, 642, 1113], [25, 33, 179, 4, 405, 1114], [190, 6, 31], [83, 16, 1, 2, 11, 10, 275, 5], [103, 1, 3, 2996, 2997], [302, 2998, 1349], [5, 107, 30, 17, 22], [107, 838, 1, 8, 61, 837, 180], [1631, 1632], [315, 30, 9, 17, 151, 31], [2, 6, 39, 39], [2999, 1, 8, 53, 243, 169, 31, 1649, 225, 1, 73, 243, 169, 2, 124, 67, 1650, 5, 275, 5, 431, 39, 3000], [23, 70, 1, 4, 3, 357, 2, 6, 1, 73, 41, 1, 138], [1651, 3001, 185, 142, 20, 989], [50, 25, 24, 1439, 383], [105, 192, 384, 1, 42, 4, 1440, 1000, 1001, 99, 37, 6], [2, 11, 10, 416, 1109, 3002], [23, 738, 1441, 1, 384, 1, 1002, 1442, 1003, 1, 2, 1004, 71, 1, 2, 520, 626, 3, 7, 70, 1, 67, 105, 521, 2, 11, 10, 2, 796, 26, 1, 1443, 268], [34, 263, 16, 1, 978, 58, 1444], [446, 20, 44], [4, 285, 3003, 428], [4, 285, 180, 1115, 20], [83, 53, 1, 529, 46, 1, 3004, 25, 276, 83, 53, 1, 501, 926, 31, 222, 3005, 180, 2, 1652, 553, 1, 550, 2, 3006, 46, 1, 25, 1, 162], [3007, 16, 1, 3008, 661, 81], [2, 11, 10, 711, 1, 2, 4, 788, 1415, 1416, 41, 1, 2, 990, 1, 1417, 1, 119, 33, 789, 300, 1, 446, 46, 1, 48, 106, 912, 59, 14, 29, 1418, 2, 70, 1, 88, 4, 1419, 20, 32], [473, 1, 936, 1, 2, 11, 10, 1438], [80, 263, 67, 80], [994, 90, 24, 408, 90, 1, 6, 201, 1, 352, 221, 17], [40, 253, 1, 56], [143, 223, 357, 120, 1, 2, 3009, 151, 36, 3010, 1116, 3011], [153, 343, 30, 779, 384, 3012, 1117, 1551, 3013, 2, 343, 489, 1606, 6, 36, 3014, 93, 31, 80, 193, 1, 48, 80, 2, 11, 10, 41, 710], [5], [3, 26, 1, 98, 21, 519, 791, 132, 169, 765, 744, 1432, 164, 57, 34, 312, 1433, 13, 1, 21, 1434, 6, 312, 36, 511, 159, 1, 132, 138, 7, 169], [1653, 26, 1, 8, 53, 2, 1654, 8, 235, 1, 78, 392, 1118], [2, 224, 519, 614, 1, 30, 4, 355, 1, 1427, 1428], [263, 33, 708, 52, 123, 6, 225, 1, 995, 310, 1, 34, 311, 1429, 36, 1430, 1431, 996], [1594, 481, 2, 193, 1, 48, 24, 3015, 3016, 1420, 945, 6, 3], [23, 449, 40], [1655, 38, 1112, 66, 947, 245, 4, 311, 40], [66, 1554, 120, 1, 3017, 1119, 1120, 336, 458, 3018], [397, 1, 993, 608, 1, 1425, 409, 218, 1, 2, 1426, 790, 92, 30, 192, 755], [130, 70, 3, 2, 306, 1, 7, 102, 742, 229, 382], [144, 16, 1, 33, 2, 159, 2, 25, 42, 39, 1435, 14, 1, 23, 211, 1, 70, 792, 624, 1436, 793, 997, 24, 794, 1, 22, 1437, 998, 235, 1, 446, 20, 48], [66, 357, 26, 1, 99, 795, 625, 385, 1, 25, 1, 39, 2, 77, 1, 2, 62, 15, 112], [566, 5, 450, 3019, 3020, 70, 1, 55, 5], [212, 630, 291, 1, 1656, 1121], [2, 11, 10, 206, 31, 83, 1068], [623, 745, 1, 1421, 17, 260, 1, 169, 243, 2, 260, 1, 312], [262, 1, 1422, 183, 2, 1423, 4, 423, 4, 132, 313, 7, 268], [1333, 181, 1657, 3021, 4, 355, 1, 130, 14, 1, 5, 6, 1, 2, 9, 1, 7, 215, 66, 3022, 5], [212, 630, 291, 1, 1656, 1121], [5, 16, 1, 1401, 1, 2, 80, 204, 50, 20], [989, 787], [609, 1409, 58, 36, 359, 14, 58, 56, 45, 3, 8, 62, 3, 1410, 7, 2, 289, 1, 144, 2, 1411, 896, 1412, 1413, 206, 1414], [1122, 5, 2, 108, 100, 3023, 661, 3024], [4, 986, 1, 46, 1, 3, 50, 20, 517, 494, 1, 48, 2, 33], [286, 13, 1404, 3, 342, 159, 1405, 442, 50, 4, 987, 168, 20, 248, 23, 1406, 171, 9, 2, 1407, 622, 1, 2, 988, 1, 1408], [3, 3025, 21, 44, 1651, 12, 66, 27, 5, 8, 434, 4], [445, 516, 326, 1402, 381, 16, 1, 65, 236, 3, 1403, 105, 162], [6, 1, 373, 985, 484], [47], [2, 69, 287, 1, 1400, 288, 3], [357, 223, 2, 11, 10, 3026, 1, 2, 3027, 14, 1, 796, 707], [80, 3028], [736, 20, 13, 568, 4, 3029, 118, 673, 1097, 1, 119, 521, 1, 537, 2, 629, 522, 3030, 1, 8, 3031, 1, 3032, 20, 267, 40], [1024, 1025, 1, 388, 1026, 14, 1, 4, 1027, 2, 803, 1028, 1029], [518, 5, 130, 339, 16, 1, 252, 85], [109, 3], [523, 523, 558, 4, 475, 1018, 78, 1019, 1020, 8, 284, 630, 714], [22, 55, 22], [368, 130, 1658, 237, 246, 1659, 339, 291, 1, 15, 7, 176, 1, 313], [6, 1, 41, 1, 2, 233, 253, 1, 56, 15, 1016, 1, 25, 1017], [95, 95, 345, 2, 806, 79], [1660, 1123, 1661, 1, 22, 70, 24], [31, 17, 4, 459, 41, 52, 434, 1015], [258, 20, 1662], [22, 23, 344, 1006, 1007, 797, 2, 798, 1, 1008, 1009, 5, 229], [182, 8, 11, 10, 32, 9, 17, 483, 1, 141, 61, 1022, 1023, 96, 278, 386, 1, 387, 447, 210, 447], [1663, 1664, 2, 1665, 1666], [144, 46, 1, 48, 106, 3033, 3034], [2, 11, 10, 1034, 16, 1, 699, 83, 16, 1, 2, 562, 3035, 1, 86, 1, 604, 3036, 3037, 4, 84, 567, 299, 1, 4, 183, 1, 245, 2, 16, 1, 500], [176, 42, 1667, 1, 14, 90, 3038, 684, 1, 2, 997, 625, 80, 13, 1, 449, 40, 157, 1055, 1056, 1668, 3039, 1669], [1124, 1, 5], [516, 503, 3040], [1621, 625, 16, 1, 39, 2, 25, 1, 162, 1, 492, 29], [1083, 6], [632, 6, 913], [4, 355, 1, 257, 22, 16, 1, 3, 215, 21, 157, 1, 59, 2, 628], [235, 1, 7, 38, 1582, 1, 1125, 24], [144, 46, 1, 48, 105, 819, 6, 21, 1646, 2, 154, 743, 542, 691, 2, 119, 3041, 154, 3042, 819, 120, 1, 254, 1037, 264, 3043, 326, 3044], [31, 167, 1, 3045, 546, 1, 3046], [3047, 632, 3048], [363, 264, 186, 1, 3049, 1, 2, 433, 3050], [433, 3051, 525, 1126, 3052, 1002, 525, 1126, 879], [1653, 26, 1, 78, 34, 3053, 3054], [235, 1, 446, 46, 1, 68, 50, 46, 1, 7, 775], [16, 1, 1010, 1, 2, 9, 431, 115, 5, 2, 108, 100, 14, 1, 66, 357, 26, 1, 85, 34, 113, 235], [1024, 1025, 1, 388, 1026, 14, 1, 4, 1027, 2, 803, 1028, 1029], [509, 553, 1089], [6, 1, 41, 1, 2, 233, 253, 1, 56, 15, 1016, 1, 25, 1017], [95, 95, 345, 2, 806, 79], [518, 5, 130, 339, 16, 1, 252, 85], [109, 3], [523, 523, 558, 4, 475, 1018, 78, 1019, 1020, 8, 284, 630, 714], [22, 55, 22], [368, 130, 1658, 237, 246, 1659, 339, 291, 1, 15, 7, 176, 1, 313], [95, 95, 345, 2, 806, 79], [31, 17, 4, 459, 41, 52, 434, 1015], [1660, 1123, 1661, 1, 22, 70, 24], [258, 20, 1662], [22, 23, 344, 1006, 1007, 797, 2, 798, 1, 1008, 1009, 5, 229], [182, 8, 11, 10, 32, 9, 17, 483, 1, 141, 61, 1022, 1023, 96, 278, 386, 1, 387, 447, 210, 447, 3055, 1, 38, 3056, 9, 36, 3057, 3058, 166, 2, 1127, 8], [1663, 1664, 2, 1665, 1666], [235, 1, 7, 795, 176, 20, 206], [3, 7, 133, 1, 3059, 3060, 552, 844, 1, 24, 4, 1670, 58], [1462, 2, 6, 1, 4, 243, 169, 124, 67, 82, 343, 982, 3061], [1451, 90, 1452, 802], [1119, 1120, 146, 120, 1, 441, 1, 3062, 330, 26, 1, 8, 3063, 1, 4, 462, 30, 25, 385, 1, 2, 420, 56, 1, 8, 24, 140, 116, 285, 1, 1671, 94, 1, 793, 6, 1, 176, 1, 42, 3064, 3065, 3066, 322, 1, 3067, 21], [6, 1, 326, 42, 524, 1021, 970], [146, 306, 22, 3068, 3069, 223], [393, 3070, 53, 1, 36, 58, 1672], [193, 1, 3071, 3072, 1556, 3073], [20, 1327, 1, 3074, 3075, 8, 3076, 1128, 29, 2, 916, 48, 2, 8, 3077, 119, 1479, 1510, 149, 398, 188, 541, 8, 46, 1, 251, 3078, 3079], [648, 1088, 1, 95, 3080, 811, 230, 8, 53, 3081, 200, 77, 1, 52, 2], [184, 4, 1673, 4, 1232, 24, 31, 16, 1, 42, 39, 442, 431, 39, 123, 3082, 1, 5, 4, 776, 916, 1, 169, 3083, 1, 70, 4, 16, 1, 3084], [368, 115, 5, 2, 108, 100], [2, 1674, 1675], [21, 116, 234, 1, 159, 1, 177, 21, 167, 1, 31], [2, 1674, 1675], [21, 116, 234, 1, 159, 1, 177, 21, 167, 1, 31], [1129, 710, 3085, 3086, 3087, 3088, 36, 612], [156, 1, 1093, 285, 1, 8, 3089, 137, 6, 142, 2, 253, 1, 56, 7, 123, 731, 941], [35, 5, 324, 5, 2, 1676, 7, 845, 46, 1, 3, 396, 799, 24, 1626, 2, 83, 33, 81], [31, 32, 3090, 385, 1, 44, 22, 723, 1669, 4, 414, 1633], [5], [40, 138, 1309, 3091], [16, 1, 995, 1, 8, 390, 70, 1, 3092, 56, 593, 1, 99, 486, 83], [1639, 38, 1121, 176, 2, 212, 42, 235, 38, 4, 1652, 14, 118, 3093, 212], [32, 1677, 652, 62, 1, 80, 795, 26, 1, 1677, 3094, 4, 1130], [2, 241, 6, 1, 36, 1673, 5], [380, 1672, 59, 2, 50, 46, 1, 59, 130, 23, 260, 1, 662, 1, 36, 6, 229, 36, 1581, 3095, 7, 4, 11, 10, 216, 587], [3096, 1, 22, 223], [3097, 1, 151, 4, 6, 1, 7], [224, 2, 513, 120, 1, 1119, 1120], [2, 11, 10, 128, 13, 1, 455, 392, 1, 26, 1, 238, 3098, 727, 761, 67, 3099, 761, 2, 62, 21, 116, 3100, 1, 24, 707, 212, 1559, 3101, 59, 13, 1, 707, 392, 1, 388, 2, 276, 4, 561, 172, 17, 236, 22, 51, 316, 3102, 3103, 3104, 44, 22], [733, 427, 2, 3105, 244, 3106], [2, 11, 10, 1454, 1, 16, 1, 1455, 1, 1456, 482, 1, 15, 9, 71, 174, 238, 4, 101, 1, 1030], [4, 355, 1, 257, 22, 16, 1, 3, 215, 21, 157, 1, 59, 2, 628], [6, 44, 42, 39], [3107, 643, 3108, 3109], [32, 625, 3110, 97, 88], [23, 449, 40], [1655, 38, 1112, 66, 947, 245, 4, 311, 40], [139, 1, 1424, 34, 923, 518, 5, 150, 150, 150, 2, 38, 991, 992, 93, 6, 776], [117, 13, 187, 1, 1678, 1, 815, 1, 360, 1, 262, 1, 148, 1, 3111, 1, 4, 739, 906, 127, 7], [18, 189, 34, 1131, 173, 1, 7, 3112, 3113], [72], [2, 1607, 1679, 46, 1, 3, 2, 620, 1, 525, 464], [3114, 351, 60], [711, 1, 20, 48, 3115, 3116, 1, 3117, 1, 236, 634, 25, 1113, 25, 1113, 570, 13, 38, 520, 2, 3118, 3119, 8, 1680, 3120, 1132, 34, 192, 48, 1105, 38, 364, 280, 4, 25, 3121, 1447, 342], [368, 83, 739, 1, 109, 2, 1642, 1681, 18], [3, 76, 3122], [69, 121, 1682, 2, 452, 846], [4, 47, 194, 1133, 5], [4, 47, 194, 1133, 5], [60, 186, 69, 121, 1, 8, 158, 1190, 8, 20, 3123, 3124, 1683, 20, 64, 1684, 1, 627, 28, 1, 277, 2, 13, 3125, 25, 2, 816, 1, 14, 44, 2, 13, 3126, 3127, 1, 4, 1044, 554, 235, 404, 1, 3128, 2, 3129, 3130, 277, 3131, 827, 2, 3132, 3133, 3134, 3135, 1, 20, 8, 1361, 1, 118, 3136, 3137], [163, 26, 1, 1685, 173, 309, 182, 1686], [97, 1, 1134, 1110, 9, 7, 157], [69, 121], [3, 361, 412], [75, 847, 14, 15, 848, 8, 60, 173], [3, 361, 3138, 69, 121, 1, 189, 5], [4, 47, 43], [1687, 190, 1, 13, 35, 5], [1688, 401, 543, 13, 3139, 3140, 259, 2, 3141, 356], [163, 26, 1, 1685, 1579], [1679, 3, 91, 1, 1689, 1135, 40, 283, 654, 12, 1, 1690, 166, 37, 813, 334, 3142, 422, 57, 56, 3143, 3144, 1, 15, 1136], [4, 47, 13, 35, 5], [3145, 1684, 69, 1490, 53, 1, 1097, 60], [18, 13, 35, 5], [69, 137, 498, 90, 3146], [69, 121, 1, 13, 35, 461], [13, 35, 5, 1691, 20, 1278, 38, 133, 1, 2, 3147, 1, 2, 60, 890, 44, 3148], [18, 43], [3149, 9, 17, 317, 3150, 60, 173, 2, 1692, 258, 3151, 1, 277, 2, 1692, 3152, 315, 3153, 29, 748, 2, 515, 60, 1693, 128, 2, 3154, 371, 3155, 3156, 186, 74, 3157, 419, 19, 65], [1472], [175], [72], [18, 145, 13, 35, 5], [147], [60, 72], [1694], [18, 43], [18, 250, 3158, 4, 29, 1115], [3159], [126], [18, 13, 35, 5], [3160], [3161], [18, 13, 35, 5], [222, 15, 42, 22, 191, 67, 45, 15, 466, 36, 3162], [69, 121, 1, 60, 79], [4, 47, 76, 13, 35, 3163], [4, 47, 13, 35, 5], [69, 3164, 3165], [1695, 1696, 53, 1, 8, 3166, 3167, 3168, 1697, 8, 3169, 1, 3170, 4, 3171, 1, 1496, 1698, 8, 1696, 987, 1573, 3172, 2, 1053, 1, 3173, 2, 10, 3174], [1687, 3175], [4, 1285, 148, 29, 2, 4, 191, 60, 1699], [18, 3176, 5, 324, 3177, 543], [2, 11, 10, 767, 24, 3178, 271, 3179], [518, 3180, 186], [98, 46, 1, 48, 2, 3181, 1, 2, 70, 1, 329, 127, 29, 653], [69, 121, 3182, 3183, 121, 1, 3184, 13, 35], [8, 3185, 3186, 988, 1, 301, 3, 695, 95], [97, 3187, 37, 66, 601, 4, 1104, 120, 1, 258, 60, 173, 3188], [2, 1, 14, 1061], [337, 1067], [3189, 1, 76], [40, 51, 980, 129, 1, 60, 1, 262, 1, 329, 323, 29, 653], [242, 4, 101, 1, 67, 1449, 1128, 3190, 174, 2, 312, 682, 57, 1615, 367, 174, 4, 3191, 1, 13, 1700, 2, 3192, 13, 1, 149, 127, 1, 297, 22, 181, 1657, 85, 51, 218, 1, 188, 3193, 349, 1, 273, 5, 148, 1, 1701, 1, 2, 3194, 14, 1, 4, 1700, 2, 161, 1, 4, 13, 57, 3195, 28, 1, 3196], [4, 1702, 492, 2, 262, 3197, 1, 3198, 4, 3199, 5, 69, 106, 4, 62, 111, 312, 80, 22, 1137, 2, 1703, 797, 2, 798, 57, 22, 1703, 3200, 236, 13, 1, 3201, 2, 236, 184, 348, 1, 225, 204, 2, 3202, 204, 28, 1, 20, 390, 2, 289, 1, 1704, 3203, 1, 349, 5, 849, 30, 427, 182], [170], [3, 16, 1, 874, 1705], [1574], [3204, 5, 3205, 3206, 1, 14, 84, 79], [1706, 1, 777, 32, 19, 1706, 2, 3207, 1], [1207, 965, 582, 7, 83, 28, 1, 8, 180, 171, 164, 2, 3208], [642, 814, 754, 568, 20, 277], [307, 3209, 1, 382, 3210, 21], [20, 54, 2], [3, 3211], [487, 615, 9, 63, 36, 487, 1, 3212, 3213, 1033], [81], [1635], [2, 11, 10, 124, 37, 60, 173, 107, 25, 17, 2, 164, 14, 57, 976, 2, 3214, 254, 1088, 1, 2, 1138, 348], [341, 18], [3, 79], [6, 41], [436], [410, 723, 14, 1, 3215, 1667], [158, 125, 13, 35, 5], [18], [18, 43], [4, 47, 43, 106], [3, 3, 110, 3], [126], [576, 1, 17, 471, 480, 54], [75], [3, 38, 6, 581, 1501, 62, 1, 656, 1, 452, 3216], [16, 1, 39, 1707, 1, 3217, 222, 1, 20, 1100], [386, 1, 336, 1, 833, 3218, 2, 1708, 273, 20, 276, 3219, 421, 133, 1, 766, 1, 277, 1, 3220, 3221, 4, 60, 3222, 1, 8, 609, 7], [2, 241, 3223, 814, 85, 717, 1, 82], [3224, 121, 1, 2, 3225, 3226], [3227, 8, 60, 79, 2, 69, 1139, 146, 938, 3228, 3229, 2, 1709, 30, 15, 349, 651, 3230, 3231], [69, 1227, 335], [14, 466, 724, 3232, 127, 1115], [2, 241, 307, 2, 726, 417, 77], [214, 30, 9, 7, 1125, 1699], [134, 598, 72, 1, 2, 475, 30, 16, 41, 7], [3233, 444, 23, 2, 11, 10, 287, 205, 56, 1231, 1710], [3234, 323, 59], [18, 43], [432, 640, 3235, 640], [18], [307], [178, 19, 175, 3], [1488, 5, 324, 5], [23, 163, 156, 1, 29], [134, 110, 173, 2, 3236, 67, 42, 29], [69, 121, 1, 13, 35, 5], [31, 155, 86, 92, 28, 1, 21, 22, 85, 148, 3237, 38, 60, 111, 8, 3238, 44, 22, 107, 26, 1, 9], [214, 285, 48, 2, 34, 3239, 22, 258, 60, 173], [18], [3240], [214, 30, 9, 36, 376, 29, 73, 3241, 3, 8, 20, 27, 1, 3242, 3243, 1, 3244, 3245], [432, 3246, 428, 3], [3247, 1128], [250, 154, 14, 3248, 3249, 1117, 3250, 14, 1, 2, 534, 1, 5, 2, 843, 1], [3251, 5, 4, 1134, 2, 392, 1, 43, 106], [69, 121], [23, 3252, 14, 1489, 1, 560, 703, 520, 1, 3253, 3254], [1711, 156, 1, 6, 3], [248, 47, 177], [125, 192], [473], [178, 6, 929], [137, 3255, 40], [106, 72], [2, 11, 10, 66, 1035, 1712, 307, 3256, 85], [4, 11, 10, 14, 1, 92, 94, 1, 79, 420, 56, 1, 36, 3257, 14, 1, 1713, 984], [3, 38, 3258, 8, 3259, 1, 3260, 3261, 37, 28, 1, 8, 3262, 3263, 2, 3264, 547, 648, 2, 136, 3265, 3266], [525, 464, 3267], [92, 79, 94, 1, 88, 3268, 1140, 30, 9, 165, 120, 1, 80, 173, 1, 32, 133, 1, 173, 1, 2, 1654, 9, 165, 689, 7], [60, 3269, 120, 1, 1714, 3270, 2, 179, 63], [153, 840, 29, 1141, 663, 2, 11, 10, 283, 1698, 3271], [3272, 316, 3273, 148, 3274, 20, 3], [367, 555, 1274], [3275, 1715, 2, 1688, 3276, 20, 7, 23, 3277], [3278, 1716], [3279, 3280, 1055, 1056, 23, 1717, 113, 1142, 3281, 741, 259, 3282, 1, 1718, 940, 1, 280, 4, 201, 9], [130, 286, 259, 1718, 846], [3283, 23, 749, 1, 1716, 3284, 1, 13, 3285, 1142, 688, 1, 3286], [2, 11, 10, 128, 3287], [23, 20, 70, 1, 348, 279, 1106, 1, 1636, 1, 194, 1719, 1, 4, 3288, 814, 4, 60, 186, 1, 75, 847, 3, 2, 209, 4], [15, 848, 8, 60, 173], [3], [60, 1143], [23, 3], [3289], [754, 790, 1144, 19, 663, 2, 1720, 78, 445, 2], [3290], [760, 3291], [82, 682], [13, 282, 1, 191, 787, 527, 1, 8, 487, 1, 12, 4, 3292, 1, 1145], [248, 3293, 30, 4, 3294, 1, 627, 1275, 3295], [1721, 792, 58, 938, 3296], [4, 47, 26, 1, 23, 1722, 1, 53, 1, 191, 58, 2, 367, 173, 1, 84, 4, 3297, 924, 148, 29], [345, 2], [75, 3], [1043, 5, 128, 2, 810, 461], [489, 19, 663, 78, 4, 11, 10, 124, 590, 1686, 84], [60, 1143], [3298], [18], [18, 145, 19, 3], [3, 110, 3], [3299, 5], [3300, 128, 2, 810, 461], [18, 925, 273, 3], [280, 76, 60, 1693], [18, 145], [3], [1719, 60, 173], [3, 16, 1, 874, 1705], [18, 2, 145, 147], [286, 3301, 2, 3302, 90, 2, 498, 981, 8, 180, 3, 3303, 3304, 2, 222, 20, 2, 3305, 1681, 2, 717, 1, 3306, 341, 1141, 663], [3307, 3308, 1, 3309, 37, 438, 34, 252, 1, 187], [74, 173, 1, 214, 30, 9, 33, 8, 528, 1, 331], [1117, 3310, 3311, 543, 3312, 1, 542, 695, 1, 95, 1723, 1, 85, 1, 16, 3, 110, 1134, 3313], [4, 47, 265], [2, 241, 307, 5, 2, 88, 4, 3314, 119, 321, 2, 88, 294, 90, 81, 307], [3315, 387, 13, 8, 3316, 3317, 505, 204, 1033, 983, 135, 119, 260, 1, 751, 1, 624, 165, 25, 81, 307], [18], [60, 1143, 22, 3318, 60, 79, 1724, 3319], [3320, 60, 173, 1146, 214, 9, 135], [18, 43], [18, 3321, 53, 1, 3322, 3323, 3324], [18, 3325, 20, 450], [23, 3], [157, 2], [238, 4, 3326, 335, 93], [32, 26, 1, 20, 60, 190, 1, 309, 4, 38, 257, 1296, 1, 15, 1725], [1319, 111, 3327], [32, 92, 79, 2, 214, 9, 63, 877, 155, 15, 149, 177, 3328], [7, 3329, 335], [217, 427], [207, 30, 156, 1, 25, 48, 7, 40, 510, 790, 8, 208, 390], [32, 393, 1701, 1, 29, 7, 3330, 90, 62, 1, 445, 453, 4, 1726, 29], [2, 11, 10, 23, 862, 53, 1, 12, 3, 964, 424, 449, 311, 334, 639, 1727, 1728, 1729, 1727, 1728, 22, 23, 750, 2, 311, 284], [307], [26, 1, 3331, 1, 191, 37, 51], [20, 3332, 491, 501, 926], [75], [14, 1, 5, 37, 66, 1730, 1463, 22, 3333, 69, 1480, 4, 3334, 3335, 2, 3336, 3337, 3338, 15, 289], [3, 705], [209, 2, 432, 1297, 592], [840], [3, 640, 592], [75], [475, 4, 24, 1731, 29, 3339, 262, 1, 144, 323, 3340], [1, 50], [60, 173, 24, 543, 3341], [24, 1599, 42, 6, 1, 702], [75, 847], [40, 111, 1110, 193, 1, 6, 8, 29, 7], [153, 196, 253, 56, 27, 3342, 307], [134, 32, 623, 124, 173, 1, 2, 977, 1315], [173], [637], [19, 3, 16, 1, 519, 2, 26, 1, 53, 1, 259, 1147, 3343, 4, 1468, 3344, 1065], [3345, 967, 1732], [3346, 3347, 147], [21, 305, 664, 12, 2, 113, 155, 71], [3348], [13, 1733, 1, 38, 9, 1, 1734], [69, 121, 1682, 2, 452, 846], [18], [68, 421, 674, 174, 21, 849, 3349, 127, 21, 71], [74, 113, 5, 229, 30, 2, 26, 1, 13, 35, 5], [59, 34, 12, 71], [21, 305, 664, 12], [18, 13, 269, 10], [2, 118, 131, 52, 99, 1118, 64], [3], [29, 147, 78, 92, 30, 64, 280, 2, 292, 1, 7, 1735], [5, 2, 4, 219, 1, 5, 128], [2, 21, 305, 974, 14, 240, 57, 2, 3350, 658, 3351, 2, 139, 3352, 8, 3353, 3354, 2, 3355, 234, 13, 1, 21, 1736, 965, 4, 3356, 712, 3357, 2, 3358, 8, 704, 312, 3359], [59, 96, 96, 230, 1, 7, 1570, 1, 3360], [3361], [8, 53, 125, 614, 1, 515, 554, 1040], [2, 123, 176, 26, 1, 1114, 1, 2, 1737, 1, 3362, 61, 828, 601, 1, 399], [7, 2, 11, 10, 3363, 245, 1737, 382, 15, 157], [2, 11, 10, 23, 3364, 23, 25, 1, 83, 28, 1, 44, 37, 3365, 3366, 14, 44, 7, 236, 99, 3367, 1, 4, 348, 251], [2, 11, 10, 4, 369, 9, 2, 122, 38, 480, 1, 52, 2, 94, 528, 1, 1738, 1, 52, 59, 23, 657, 660, 406, 881, 601, 1, 21, 95, 2, 51, 657, 7, 60, 95, 435, 2, 11, 10, 1739, 1739, 52, 155, 4, 423, 3368, 151, 160], [1101, 5, 94, 1, 435], [86, 33, 331, 51, 236, 1722, 1, 53, 1, 3369, 9, 7], [3370, 1740, 12, 1, 71, 1, 834, 1, 21, 3371, 3372, 1, 1740, 12, 1, 71, 1, 161, 1, 251, 4, 201, 3373, 8, 591, 3374, 64, 4, 132, 3375, 195, 270, 101, 3376, 8, 1005, 64, 3377, 1, 14, 320, 381, 131], [29, 3378, 4, 13, 1, 1741, 14, 3379, 1, 4, 3380, 134, 1, 1643, 34, 79, 3381, 34, 4, 363, 53, 1, 34, 79, 119, 3382, 1, 363, 13, 1, 569, 3383, 1742, 2, 1743, 1, 2, 79, 2, 3384, 218, 1, 422, 57, 4, 730, 3385, 1, 57, 13, 1, 641, 4, 218, 350, 14, 259, 1003, 1, 3386, 2, 3387, 69, 3388, 1, 3389, 305, 3390], [126, 325], [4, 47, 43], [586, 21, 40, 7, 3391, 1, 2, 3392, 2, 3393, 1465, 168, 21, 1744, 1, 3394, 96], [3395, 29, 4, 3396, 2, 492, 1, 3397, 3398], [9, 12, 87], [117, 638, 2, 346, 14, 531, 314], [3, 72, 3399, 131, 300, 71], [75, 2, 3400, 5, 3401, 30, 760, 317, 12, 7, 3402, 1735], [250, 850, 64, 2, 467, 7, 2, 3403, 2, 3404, 3405, 1141, 663, 2, 1720, 401, 543, 89, 1, 3406, 309, 341, 2, 3407, 1, 62, 2, 726, 3408, 1, 186, 1, 2, 939, 1, 3409, 309, 3410, 26, 1, 89], [5, 195, 195, 38, 2, 195, 313, 1745], [2, 381, 131, 1, 1746, 1, 24, 59, 758, 1], [85, 1, 51, 1747, 741, 12, 1, 71, 1, 38, 553, 1, 8, 201, 12, 131, 3411, 131], [2, 21, 305, 42, 658, 479, 127, 586, 21, 206], [1131, 9, 943, 139, 3412, 1140, 9], [392, 244, 427], [546, 3413], [9], [3414], [206, 23, 113, 12, 1, 71, 1, 239, 3415, 75], [23, 565], [95, 3416, 1, 61, 61, 399], [147], [3417], [3], [2, 1, 3418, 695, 1, 281, 64, 1, 30, 24], [3419, 1316], [12, 2, 3420, 81], [75, 3], [2, 21, 305, 3421], [72], [2, 21, 305, 3422, 753, 1, 206, 2, 437, 127, 45, 1273], [300, 1, 16, 1, 291, 1, 2, 3423, 3424, 478], [21, 40, 45, 2, 1, 82, 1748, 12, 59, 805, 127, 28, 1, 2, 21, 27, 95, 2, 21, 665, 1146, 9, 85, 111, 45, 13, 1, 82, 805, 388], [18, 43], [1370], [809, 1648, 3425, 3426, 3427], [117, 1148, 43, 106], [188, 3428, 117, 2, 4, 219, 57, 917, 13, 639, 34, 184, 1043, 57, 2, 810, 3429], [18], [117, 1148], [3430, 949, 1461, 58], [340, 1, 652, 22, 690, 223, 4, 1069, 69, 1198, 3431, 2, 1697, 3432, 2, 3433, 3434, 2, 3435, 3436, 57, 2, 3437, 3438, 2, 3439, 3440], [1749], [205, 261, 34, 4, 11, 10, 14, 128], [349, 5, 1471, 1, 2, 605, 13, 3441, 1, 2, 1359, 3442], [126], [18, 189], [3443], [18, 194, 13, 35, 5], [9, 12], [18, 1133, 5], [9], [69, 3444], [211, 336, 12, 1, 71], [275, 5, 324, 5], [1057, 2, 11, 10, 32, 4, 369, 2, 11, 10, 68, 61, 73, 181, 2, 11, 10, 88, 19, 1561, 3445, 1, 59, 321, 24, 227, 406, 4, 91, 61, 15, 130, 140, 140, 36, 784, 1105, 3446, 14, 1, 435], [2, 3447, 5, 573, 9, 27, 91], [79, 13, 35, 5], [18, 13, 35, 5], [1750, 145, 72], [126, 177], [12], [76, 18, 43], [1751, 2], [3], [], [141, 1689, 1135, 1752, 352, 81], [1326, 5, 3448, 1, 4, 79, 2, 386], [95, 75], [3449], [3450, 6, 1149, 3451, 118, 98, 2, 585, 235, 657, 660], [4, 47, 13, 35, 5], [1623, 2, 139, 849, 834, 21, 468, 23, 92, 37, 1, 92, 883], [2, 11, 10, 25, 1, 225, 1, 138, 599, 1, 4, 38, 105, 28, 1, 2, 4, 3452, 3453, 3454, 3455, 24, 340], [71, 196, 1637, 30, 131], [381, 131, 602, 1, 24], [92, 30, 63, 554, 3456], [1123], [114, 114], [949, 7, 61], [21, 40, 168, 21, 1753, 943, 221], [771, 104, 1754, 24], [681, 154, 353, 21, 613, 919, 429, 154, 353], [687, 26, 1, 9, 12, 1622], [2, 92, 30, 64, 22, 12, 131], [21, 40, 197, 59, 2, 21, 27, 665], [74, 1, 859, 63, 17, 1067], [224, 9, 12], [21, 27], [2, 665], [3457, 457], [12, 134], [2, 29, 131], [7, 12, 1, 3458, 74, 3459], [12], [64, 436], [2, 88, 147, 317, 30, 127, 146, 64, 7, 13, 3460, 5, 904, 1755], [1756, 3461, 211, 71], [2, 139, 3462, 1, 245], [3463, 1283, 55], [110, 3], [411, 698, 256, 77, 2, 3464, 1, 39, 343, 982, 292, 1, 7, 93], [32, 4, 3465, 29, 36, 3466, 134, 3467, 29, 124, 40], [2, 241, 64, 381, 131, 3468, 1075], [1150, 3], [2, 139, 1576, 24], [9, 12], [211, 370, 124], [780, 119, 1757, 219, 628], [9, 3469], [23, 74], [1758], [3470, 3471], [2, 64, 7, 3472, 317], [147], [59, 876, 12, 131, 36, 1517, 14, 554, 2, 1151, 62, 71], [110, 3], [126], [3, 106, 72], [9, 12, 1, 87], [69, 1759, 189, 5], [47, 177], [851, 2, 308, 1649], [1338, 3473, 12, 1, 136, 3], [232, 332, 3474, 3475], [72], [3], [12], [3, 37, 364], [61, 294, 21, 7, 511, 1, 15, 224, 168, 21], [21, 305, 664, 1, 134], [118, 3476, 133, 1, 553], [5, 3477], [3478, 499], [43], [117, 13, 79, 3479, 2, 13, 38, 79, 1678, 79, 3480], [13, 83, 3481, 5, 184, 1086, 411, 166, 1550, 8, 3482, 240, 5, 128], [516, 516], [43, 1392, 146, 3483, 3484], [2, 4, 439, 3485, 758, 1, 2, 8, 1, 606, 771, 1070], [3486, 280, 2, 351, 117, 3487, 3488, 3489, 3490, 1092, 266, 8, 13, 57, 76, 3491, 542, 1248], [4, 47, 13, 35, 3492, 265, 885, 1549, 72, 287, 395], [491, 3493, 27, 2, 665, 468, 4, 148, 24, 3494, 22, 467], [6, 1, 41, 1, 160, 58, 605, 40, 51, 1760, 1, 157, 2, 27, 51, 88, 1152, 319, 130, 85, 129], [2, 620, 1, 3495, 520, 1, 239, 3496, 1, 1306, 1, 3497, 4, 47, 76, 13, 35, 5], [3498, 3499, 605, 3500, 1, 7, 1092, 1, 8, 1761, 1, 12], [50, 3501], [147], [206, 1748, 12, 1, 71], [1, 3502, 284, 184, 36, 437, 2, 3503, 1, 3504, 3505], [55], [2, 21, 305], [9, 12, 71], [21, 27, 2, 665, 317, 1147], [189, 5, 38, 4, 54, 3506, 3507, 12, 3], [12, 71], [683, 3508, 258, 4, 101, 1, 1640, 33, 8, 16, 1, 3, 576, 1, 174], [3509], [21, 40, 429, 24], [350, 213, 12, 1, 3], [23, 147, 59, 163, 51], [134, 60, 3510, 3511], [9, 12, 87], [871, 6, 1, 15, 7, 41, 1, 1313], [23, 3], [22, 64, 603, 3512], [2, 1046, 68, 3513, 164, 4], [334, 21, 40, 3514, 157], [3, 640, 592], [9, 12], [2, 11, 10, 23, 872, 21, 40, 2, 27, 719, 3515, 34, 636, 9], [12], [802, 71, 1116], [3516], [9, 12, 3517, 1, 715, 1, 1762, 1, 3518, 3519], [802, 71, 1116], [43], [3], [170], [1150], [3520], [3, 170], [3521, 238, 64, 118, 147], [145, 18], [666], [87], [1, 50], [72], [23, 1756, 3522], [79, 3523, 3524], [145, 1750, 72, 3525], [3], [9, 12], [43], [322, 45, 1763, 6, 1763, 3526, 6], [1764, 1765], [3527], [12], [126], [1153], [3528, 221, 3529, 22, 21, 27], [154], [12], [126], [1197], [2, 241, 1608, 655], [9, 12], [126], [69, 3530, 427], [88, 6, 1, 8, 3531, 1279, 408, 33, 2, 94, 1011, 1, 364, 1683, 825, 278, 16, 1, 3532, 278], [120, 1, 127, 181, 2, 3533, 120, 1, 2, 3534, 3535, 1, 223, 127, 19, 1742, 3536, 2, 3537, 643, 3538, 8, 20, 2, 3539, 94, 1, 2, 3540, 1, 5, 2, 1618, 26, 1, 2, 133, 5, 3541, 3542], [5, 195, 195, 38, 2, 195, 313, 1745], [18, 1153], [1766, 371, 3543, 458, 3544], [18], [3545, 3546], [1154, 133, 3547, 1, 4, 3548, 631, 15, 3549, 3550, 2, 696, 360, 1710, 1, 361, 310, 2, 176, 26, 1, 609, 385, 1, 4, 491, 26, 1, 3551, 833, 3552, 1730, 360, 80, 1650, 5, 3553, 3554, 967, 1154, 3555, 1264, 8, 3556, 3557, 1, 3558, 3559, 400, 147, 3560, 3561, 465, 360, 3562, 1638, 80, 8, 1154, 1, 432, 3563, 1, 169, 1767, 509, 3564, 361, 143], [18, 43], [3565, 1768], [180, 384, 464, 1769, 14, 405, 25, 46, 1, 3, 8, 48], [1770, 3566, 3567], [1769, 195, 186, 180, 4, 384, 1, 3568, 1609, 4, 842, 464, 405, 25, 297, 46, 1, 3, 8, 48, 4, 709, 1771, 3569, 467, 934, 1, 1045, 8, 211, 2, 3570, 4, 799, 46, 1, 3, 8, 48, 4, 235, 1, 50, 46, 1, 48, 8, 537, 3571, 8, 796, 1676, 1045], [2, 3572, 1155, 166, 354, 3573, 1138, 28, 1, 4, 709, 3574, 482, 281, 2, 62, 3575, 801, 2, 3576, 2, 192, 6, 517, 1, 119, 13, 60], [1052, 463, 3577, 652, 1, 4, 13, 1, 422, 1, 1566, 25, 844, 20, 3], [3578, 3579, 14, 3580, 192, 16, 1, 4, 3581, 3582, 3583, 1, 199, 3584, 2, 254, 801, 192, 119, 1772, 29, 264], [199], [3585, 1155, 873, 3586, 3587, 1, 1155, 4, 3588, 1, 3589, 13, 1, 220, 451, 48, 1773, 1, 2, 3590, 1, 1094, 1, 20, 4, 409, 3591, 71, 1103, 119, 13, 3592, 4, 13, 1, 119, 494, 1, 728, 13, 1011, 186, 1, 2, 195, 1, 344, 1, 3593, 8, 1612, 1, 195, 3594, 498, 1774, 1094, 1, 20, 60, 192, 195, 270, 870], [2, 1775, 344, 384, 1, 1770, 3595, 354, 2, 818, 494, 1, 6, 48, 363, 192, 8, 46, 1, 109, 8, 48, 60, 4, 306, 1, 1156, 1, 46, 1, 65, 880, 25, 1, 264, 626, 1, 2, 192, 3, 3596, 344, 1, 119, 13, 281], [4, 1052, 1, 8, 1138, 1577, 8, 1776, 95, 3597, 1, 2, 620, 1, 842, 464, 2, 3598, 3599, 2, 1776, 251, 529, 3600, 709, 186, 2, 3601, 1091, 1, 2, 195, 344, 1, 186, 8, 3602, 1, 3603, 3604, 1, 1775, 712, 3605, 48], [666], [5, 2, 4, 219, 1, 195, 1741, 1, 2, 1777, 201, 1, 3606, 1, 3607, 1, 2, 3608, 3609], [1778, 3610, 1712, 3611, 8, 11, 10, 3612, 3613, 3614, 3615], [491, 6, 40, 139, 617, 3616], [43, 785, 3617, 309], [154], [117, 638, 2, 346, 14, 1779, 314], [1780, 7, 3618, 308, 1, 2, 88, 852, 7, 155, 390], [2, 13, 43, 2, 3619, 57, 85, 411], [117, 1781, 14, 1779, 314, 3620, 639, 2, 1782, 1, 2, 346, 1783], [8, 544, 261, 34, 4, 11, 10, 14, 128], [2, 135, 13, 3621, 374], [4, 47, 13, 35, 5], [4, 47, 43], [495, 328], [18], [25, 372], [1724, 8, 3622, 3623, 181, 349, 5, 667, 2], [3624, 3625], [5], [43, 3626, 3627, 2, 3628, 3629, 1, 3630, 43, 3631, 4, 287, 83, 1080, 117, 287, 72, 2, 79, 845, 1, 1777, 43, 106, 117, 649, 1784, 1, 2, 3632, 1, 3633, 2, 3634, 1589, 1, 2, 3635, 2, 259, 1218, 117, 1148, 117, 1781, 2, 346, 14, 531, 314, 2, 14, 141, 1, 2, 1782, 1, 1785, 2, 346, 1783, 199, 15, 1786, 3636, 57, 1614, 265, 3637, 3638, 2, 175, 14, 3639, 2, 266, 1, 265, 106], [18, 886], [4, 47, 76, 13, 35, 5], [72], [126], [117, 1787, 450, 190, 1, 2, 94, 575, 190, 1, 1788, 898, 1789, 1, 1787, 450, 190, 1, 2, 94, 575, 190, 1, 1788, 898, 1789, 1, 3640, 14, 1103, 57, 3641, 3642, 3643], [4, 47, 13, 35, 5], [1157, 240], [117, 3644, 2, 3645, 2, 8, 53, 654, 3646, 1158, 2, 8, 1158, 2, 3647, 853, 53, 1, 2, 503, 13, 57, 3648, 608, 3649, 1713, 43, 106], [18, 194, 13, 35, 5], [117, 587, 3650, 2, 3651, 1158, 1785], [266, 119, 1757, 219, 628], [117, 8, 3652, 3653, 543], [5, 141, 1, 34, 853, 1001, 3654, 1, 281, 3655, 1790, 259, 852, 133, 1, 34, 4, 812, 1, 296, 1695, 1, 3656, 1, 3657, 1644, 296, 1, 34, 35, 3658, 3659, 1, 1790, 2, 259, 3660, 1, 564, 1, 14, 128, 349, 5, 3661], [332], [3], [3662, 31, 3663, 3664, 272], [2, 175, 14, 161, 3665, 1, 3666, 14, 1475, 5, 3667, 190, 1, 2, 3668, 3669], [3], [3670, 1, 72, 2, 1557, 1, 3671, 3672, 1, 1734], [], [33, 331, 44], [3673], [8, 544, 2, 1791, 1, 1042, 14, 128], [205, 261, 34, 774], [3674], [3675, 3676, 4, 650, 57, 1792, 1793, 1794, 62, 1, 2, 8, 3677, 199, 455, 1795], [240, 480, 1766, 104], [295], [178, 16, 1, 3678, 44], [1157, 3], [258, 934, 1, 3679, 842, 3680], [23, 919, 3], [3, 1295, 412, 732], [1259], [97, 1, 1796, 1127, 56, 3681], [25, 332], [209, 1065], [18, 1758], [110, 3], [3682, 3683, 3684, 23, 342, 377, 210, 111], [3, 7, 55, 303, 550], [126], [18], [18], [3, 328], [86, 37, 3685, 615, 9, 17], [4, 47, 13, 35, 5], [1797, 3], [666], [3, 170], [66, 933], [9, 67, 331], [851], [3686, 3687], [72], [110, 3], [37, 2, 11, 10, 104, 3688, 272], [19, 3, 97, 1, 1796, 142], [3], [3689, 14, 5, 3690, 6, 1, 7], [50, 1798, 2], [124, 3691], [1797, 3], [3, 110, 3], [1, 50], [76, 40], [1780], [853, 3692, 1114, 4, 650, 57, 1792, 117, 1793, 1794, 62, 1, 3693, 199, 455, 1795], [3694], [175], [13, 8, 29, 34, 3695], [18, 194], [1157, 240], [55, 3696], [124, 1799, 1061], [178, 19, 3], [1533, 515, 3697], [737, 889], [3698], [18, 13, 269, 10], [3], [3, 170], [645, 3699, 1620], [3700, 14, 1798], [3701, 3702], [3703, 1, 1768], [139, 3704, 2], [3705, 3706, 5, 1800, 166, 62, 391, 5, 3707, 79, 3708, 34, 79], [232, 124, 156], [157], [3709], [225], [3710, 5, 14, 287, 3711, 14, 287, 3712], [275, 5, 247], [275, 5, 324, 5], [19, 3, 59, 3713, 3714, 408, 4, 3715, 3716, 24, 104, 176, 46, 1801, 3717, 828, 3718, 3719, 66, 25, 2, 3720, 420, 56, 188, 1382, 25, 1, 7, 92, 1, 3721, 829, 1, 621, 741, 20, 1801, 7], [158, 328, 3722, 395], [1, 50], [75], [1, 228], [23, 4, 3723, 4, 536, 3724], [4, 47, 19, 3], [3, 110, 3], [50, 6, 44], [425, 182], [43], [3725], [191, 37, 60, 173, 251], [220, 623, 329, 323, 29, 653], [2, 313, 607], [3726, 3727], [219, 2, 75, 19, 781, 2], [1348, 1, 13, 35, 5], [843, 89, 45, 662], [298, 569, 1, 103], [2, 11, 10, 1590, 109, 77, 1, 2, 16, 1, 39, 3728, 231, 1032, 113, 3, 219, 8, 11, 10, 3729, 3730], [1630, 1715, 1362, 33], [416, 365], [20, 48, 454, 44, 348, 626, 102, 1122, 5, 100], [2, 1, 3731, 3732, 205, 3], [3733, 3734], [1802, 1803, 285, 1, 1156, 2, 75, 14], [3735, 303, 1, 88, 19, 3736], [421, 38, 112, 845, 1, 647, 1, 28, 1, 8, 3737, 329, 323, 653], [140, 221, 971], [3738, 14, 37, 111], [3739, 29, 850, 17], [43, 1804, 44, 22, 231, 854], [3740, 1, 855, 1805], [115, 5, 2, 108, 100], [34, 394, 8, 237, 246, 791, 1806], [8, 544, 261, 34, 4, 11, 10, 14, 128], [115, 5, 2, 108, 100], [3741, 5], [83, 51, 155, 60, 1, 97, 44, 362], [202, 3742, 362], [103], [29, 1807, 15, 3743], [3744, 2], [3745, 142], [379, 1, 91, 215, 21], [89, 45, 22, 189, 5, 347, 1, 231, 854], [154, 668, 12, 1, 3, 1808], [3746, 3747, 3748], [31, 1159, 401, 1, 5, 3749], [115, 5, 2, 108, 100], [219, 8, 11, 10, 1809, 231], [545, 1160, 3750, 329, 1161, 2], [1802, 1803, 285, 1, 1156], [3751, 488, 2, 1810, 1162, 38, 4, 3752, 1747, 3753, 9, 142, 1495, 4, 647, 1, 800, 3754], [541, 3755, 1305], [197], [82, 4, 533, 26, 1, 538, 225], [116, 1811, 13, 35, 5], [117, 3756], [172, 17, 22, 233, 2, 241, 393, 90, 1099, 31], [116, 1, 855, 452, 452], [103, 1558], [541, 3757], [2, 11, 10, 234, 51, 218, 1, 185, 38, 3758, 332], [394, 237, 246, 2, 1753, 3759, 2, 791, 1806, 3760], [3761, 1, 966, 3762], [1812, 1163, 4, 320, 27, 36, 1164, 571, 1, 1165, 510, 1813, 37, 1814], [23, 441, 58, 4, 274, 8, 237, 246, 4, 129, 1, 7], [3763, 1, 104], [3764, 453, 3765], [36, 3766, 113, 12, 1, 3, 396], [55, 654, 3767, 160, 1390, 19, 3], [202, 93, 589, 19, 3768], [221, 12, 1, 7, 440, 244], [29, 690, 1815], [86, 321, 102], [839, 590, 1, 70, 661, 430], [12, 1, 4, 668, 1, 58], [754, 51, 105, 263, 260, 1, 3769, 1, 30, 123], [115, 5, 2, 108, 100], [3770, 562, 1, 172, 1, 12], [115, 5, 2, 108, 100, 335], [160, 1, 1160, 1572, 12, 3771], [103], [115, 5, 100], [488, 1810, 3772, 48, 3773, 329, 2, 1161, 895], [3774, 197], [856, 211, 1, 3775, 138, 112], [197], [116, 1, 855, 386, 1, 5], [116, 1, 855, 452, 452], [66, 3776, 23, 1486], [55, 22], [27, 1079, 669, 1771, 424, 3777], [185, 3778, 124, 382, 51, 27], [32, 1166, 116, 1167, 165, 2, 241, 393, 349, 5, 667, 2], [221, 38, 133, 1, 6, 82], [4, 298, 103, 1, 8, 33, 19, 65, 74, 165, 55, 303, 1254, 1, 3779], [83, 430, 856, 3780, 82, 21, 3781, 67], [103], [3782, 14], [55, 72], [103], [17, 22, 1816, 244], [103], [334, 171, 90, 3783], [835, 1, 15, 540], [227, 3784, 622], [1817, 2, 2, 3785, 81], [154, 668, 12, 1, 3, 1808], [454, 392, 2, 770, 12, 2, 44, 102], [19, 45, 383], [303, 1, 371, 82], [1816, 2, 11, 10, 17, 143], [441, 1, 58, 86, 26, 1, 1168, 140, 332], [3786, 265], [103], [3787, 202, 3788, 3789, 26, 1, 3790, 1050], [233, 435, 68, 2], [59, 86, 1818], [635, 5, 574, 182, 2], [1819, 80, 204, 670, 1014, 58, 1014, 3791, 5, 1709, 3792], [96, 34, 1163, 3793, 19, 678, 2, 585, 3794, 1, 1627, 143, 91, 204, 102], [8, 544, 2, 1791, 1, 1042, 14, 128, 94, 1, 90, 73, 3795, 1, 62, 1, 150, 615, 404, 1, 44, 2, 90, 210, 27, 24, 107, 27, 90, 210, 362], [3796, 160, 177, 120, 1, 4, 172, 160, 96], [49, 1, 3797, 397], [2, 11, 10, 4, 369, 160, 27, 34, 172, 165, 857, 1820, 245], [3798, 140, 1140, 3799, 338, 24, 3800, 16, 1, 739, 1, 252, 24], [541, 199, 20, 390], [172, 17, 102], [5, 3801], [5, 1821], [1124, 333], [167, 1822], [103], [55, 3802], [29, 60, 103], [5, 839, 1823], [2, 33, 527, 3803], [103, 1, 104], [794, 98, 153], [340, 1817, 81, 102], [454, 291], [3804], [98, 96], [40, 51, 137, 25, 1, 1824, 54], [3805, 102], [2, 11, 10, 104, 172, 2, 3806, 102, 148, 165, 143], [975, 1, 44, 143, 338, 3807, 1, 24, 317, 3808, 175, 1085], [5, 1821], [2, 11, 10, 23, 82, 230, 528, 1, 4, 89, 197, 5, 920, 1, 2, 1, 964, 2, 123, 172, 1, 6, 102], [29, 811, 20, 390], [43, 38, 3809], [29, 60, 103], [1101, 5, 288, 3], [1825], [86, 3810, 81, 19, 3], [3811, 25], [2, 327, 4, 11, 10, 78, 19, 91, 661, 27], [3812, 17], [1641], [3813], [2, 11, 10, 430, 416, 41, 52], [156, 1, 197], [3814, 185, 3815], [3816, 84, 1, 20, 48], [59, 844, 1, 9, 214, 1, 3817, 1, 2, 86, 347, 1, 27, 66, 3818], [143, 55, 968, 400, 14, 1, 90], [507, 1118], [3819, 521, 2, 37, 1826], [82, 70, 1, 45, 972, 531], [34, 3820, 185, 1, 453, 2, 3821, 1691, 57, 1827, 80, 26, 1, 1301, 2, 1150, 14, 3822, 1, 499, 3823], [443, 1169, 3824, 3825], [3826, 46, 1, 65, 1357, 1, 2, 1369, 237, 246, 1828, 3827, 268], [3828], [2, 11, 10, 66, 91, 51, 1170, 1, 94, 1, 66, 465, 3829, 453, 3830], [7, 3831, 1, 93, 2], [90, 7, 133, 1, 66, 875, 562, 1, 3832, 81, 96, 348, 217, 350, 147, 2, 328, 2, 1, 3833, 1, 1312, 391, 97, 1, 3834, 30, 16, 1, 164, 40, 2, 139, 3835, 8, 122, 7, 2, 11, 10, 143, 786], [503, 74, 1, 3836, 1569, 20, 721, 7, 780, 1, 234, 1, 381, 411, 3837, 3838], [89, 45], [2, 11, 10, 128, 233], [570, 229, 129, 8, 20, 3839, 8, 48], [117, 274, 8, 1829, 3840], [3841, 1, 140], [98, 58], [6, 39], [202, 93, 4, 234, 3842, 17, 4, 230, 21], [670, 501, 3843], [3, 440], [103, 1, 50, 51, 85, 66, 205, 56, 36, 60, 28, 1, 101, 159, 1, 97, 12, 1, 78, 3844, 2, 1596, 3845, 2, 1, 1152, 8, 103, 1, 2, 1152, 894, 12, 102], [2, 11, 10, 46, 1, 46, 1, 3, 7, 751, 1, 26, 1, 103, 1, 21, 1586, 2, 3846, 3847, 3848], [257, 198, 245, 54], [184, 3849, 759, 3850], [962, 65, 2, 308, 132, 1355, 3, 2, 3851, 770, 17], [153, 3852, 6, 1, 40, 27, 347], [394, 3853, 185, 3854, 2, 1151, 301], [44, 22, 3855, 81], [1830, 74, 1, 113, 12, 1, 3], [4, 955, 2, 11, 10, 213, 753, 1, 3856], [2, 11, 10, 1831], [266, 662, 1, 163, 1832, 1, 93], [4, 38, 667, 1384], [316], [14, 24, 4, 11, 10, 1743, 1, 1171, 2, 3857, 474], [541, 109], [435, 167, 1, 140, 49, 1, 27, 347, 1, 36, 49, 1, 195, 118], [443, 3858], [83, 3859, 550], [330, 26, 1, 3860, 1668], [74, 832, 81, 80], [2, 3861, 5, 181], [283, 3862, 160, 636, 200], [130, 198, 360, 2, 37, 1826, 1833, 1833], [86, 1, 1834, 3, 1109, 45], [3863, 93, 82, 105, 252, 1108], [3864, 179, 752, 143, 44], [1078], [1352, 109], [2, 139, 120, 1, 217, 6, 1, 41, 52], [181, 14, 1, 1729, 1835, 1364], [3865, 96, 1, 78, 3866, 3867], [4, 298, 28, 1, 130, 1595, 1, 21, 2, 27, 210, 4, 3868, 12], [394, 2, 298, 1168, 3869, 103, 20, 48, 565], [5, 258, 216], [17, 440], [178, 51, 141, 3870, 45], [1078], [2, 11, 10, 2, 11, 10, 233, 891, 824], [83, 764, 20, 7, 36, 656, 2, 234, 5], [545, 1470, 430], [641, 641, 719, 78, 283, 3871, 3872], [671, 1165, 3873], [818, 3874], [545, 33], [58, 394, 8, 237, 246], [3875, 1, 34, 497, 102], [36, 671, 86, 1, 470, 239, 13, 87, 2, 91, 3], [3876, 3877], [1149, 113, 1, 24], [78, 1172, 56, 4, 129, 1, 781, 1, 1591, 7, 62, 1, 3878, 1, 1172, 56, 2, 60, 204, 123, 25, 3879, 53, 1, 1172, 1398], [219, 8, 11, 10, 1809, 231], [45], [2, 37, 5], [6, 276, 365, 59, 116, 24], [349, 5, 667], [283, 116], [97, 80, 17, 102, 97], [669], [507], [27], [59, 180, 143, 3880, 8, 284, 19, 32, 3881, 8, 3882, 1, 15, 1136], [97, 1, 4, 240, 703, 123], [3883, 3884], [231, 3885], [486, 2, 1836, 1, 2, 3886, 1, 14, 746, 1, 3887, 1, 26, 1, 289, 270, 23, 862, 1, 53, 1, 2, 4, 315, 3888, 335], [140, 112, 1755], [116, 1811, 835, 136, 140, 476], [1837, 21, 49, 1, 71, 1, 42, 488], [31, 167], [15, 49, 1, 24, 3889], [109], [3890, 15, 577, 3891, 24, 3892, 1, 540, 1, 33, 331, 80], [3893, 213, 1290, 1, 1838, 1838, 42, 3894, 42, 449], [303], [2, 1, 671, 113, 1, 884], [2, 3895, 12, 1, 3, 28, 1, 432, 537], [230, 1, 672, 1173], [679, 622, 298, 883], [219, 8, 11, 10, 231, 84], [1567, 92, 136], [153, 832, 6, 40], [21, 49, 1, 224, 58, 4, 3896, 1, 2, 3897, 3898], [82, 7, 313, 19, 3], [15, 49, 1, 180, 22, 213, 3899], [3900, 1, 65, 239, 13, 3901], [224, 27, 111], [3902], [931, 3903, 24], [36, 3904, 482, 1, 322, 952, 756, 98, 294, 567], [23, 1098, 1839, 185], [1839, 1840, 2, 237, 246], [251, 15, 146], [857], [1174, 485], [20, 3905, 1329, 1091], [23, 368, 4, 3906, 19, 3, 78, 68, 635, 15, 3907, 30, 4, 9, 71, 1, 3908, 1, 17, 635, 1145, 1, 1132, 1], [27, 85, 66, 80, 1, 3, 110, 3], [3, 2, 15, 71], [232, 856, 122, 5, 3909, 408, 1089], [27, 89, 45], [172, 104], [3910, 104], [89, 45, 3911], [172], [3912, 109, 104], [45], [67, 477, 102], [197], [3913, 96, 27, 112], [3914, 93], [22, 3915, 278, 49], [233, 102, 33], [74, 1, 255, 28, 1, 21, 55, 429, 3916], [13, 570, 103, 1, 20, 3], [202, 93, 58, 58, 6, 1, 41], [2, 132, 971, 24], [508], [488, 183, 1610, 9, 63, 1, 508, 123], [272, 15, 3917], [22, 498, 27, 112], [23, 232, 27, 86, 1, 51, 218, 1, 185, 2, 22, 12, 232], [780, 234, 185, 163, 956, 1, 6, 3], [6, 151, 15, 67, 48], [122, 1714, 30, 63, 149, 293, 104, 858], [524, 1732, 204, 127], [266], [351, 155, 3918, 67, 143, 55, 549, 2], [105, 3919, 65, 266], [3920, 168, 1187], [8, 544, 1, 98, 96, 172, 1, 59, 1175, 24, 12, 7], [132, 112], [292, 1, 27, 3921, 3922], [3923, 68], [88, 3924, 4, 1164, 37, 51, 3925, 359, 49, 1, 51, 4, 3926, 26, 1, 104, 3927, 36, 96, 13, 1733, 1, 17, 354, 95], [658], [59, 311, 12, 503, 7, 232], [1106, 88, 172, 44, 217, 232], [1174, 769, 3928, 1, 2, 11, 10, 730, 1, 154, 746, 1, 34, 3929, 3930, 996, 3931], [78, 257, 1725], [51, 183], [90, 183], [2, 37, 160], [1124, 1, 5, 3932, 36, 92, 28, 1, 287, 604, 56, 86, 191, 3933, 36, 3934], [616, 3935, 203, 1841], [32, 1842], [545, 3936], [1807, 81], [394, 8, 237, 246, 2, 1843, 79, 386, 1, 2, 1843, 730, 1, 8, 3937, 852, 678, 1, 3938, 1, 1840, 1, 8, 53, 3939], [149, 34, 3940, 112], [443, 1169], [82, 1, 90, 1050, 1, 2, 3941, 8, 1829, 131, 1, 4, 193, 1, 1844, 3942, 1828, 237, 246, 367, 433, 1616, 2, 3943, 1, 1363, 2, 437, 3944, 8, 237, 477, 1, 37, 46, 1, 20, 48, 8, 1845, 33, 217, 3945], [29, 1176, 3946, 15, 3947, 8, 1845, 2, 11, 10, 505, 3948], [1298, 905, 4, 320, 27, 36, 3949, 14, 3950], [376, 252], [3951, 503, 506, 9, 17, 80, 86, 1, 2, 185, 97, 3952, 2, 14, 1, 175, 667], [3953, 38, 103, 3954], [20, 48, 151, 3955, 60, 166, 591, 150, 31, 3956, 3957, 120, 1, 161, 1, 49, 1, 9, 1841, 1160, 1177, 48, 102, 36, 3958, 182, 102], [1846, 1, 2, 509, 1, 1087], [1073], [3959, 31], [380, 385, 185, 385, 55, 3960, 4, 414, 67, 3961, 1, 104, 13, 443, 3962, 29, 1176, 3963, 37, 111, 4, 9, 407, 1, 3964, 1178, 433, 1162, 433, 140, 1178, 1611, 4, 3965, 1049, 3966], [68, 504, 112], [3967, 265], [21, 116], [14, 4, 3968, 90, 7, 3969, 1, 223, 3970], [223, 70], [1177, 2, 3971, 3972, 27, 91, 308, 1, 3973, 1, 17, 2, 233, 12, 1, 31, 68, 2, 11, 10, 128, 161, 1, 116, 1, 606, 81, 27, 103, 1, 2, 1847, 12, 1, 99, 37, 129, 1, 58], [78, 3974], [2, 11, 10, 143, 160], [122, 832, 6, 1, 40], [4, 369, 160, 1246, 153, 3975, 959, 17, 161, 1, 4, 11, 10, 216], [249, 1179, 24, 191, 313, 488, 202, 138, 155], [45, 22, 616, 3976, 430, 165, 98, 3977, 3978, 30, 438], [70, 1, 3, 7, 82, 3979, 3980, 1, 95, 1, 6], [3981, 188, 656, 542], [266, 37, 413, 3982, 14, 3983], [858], [1200, 118, 188, 154, 1383, 9, 63, 3, 1199, 3984, 3985, 3986, 1848, 974, 8, 135, 3987, 63, 3988], [3989], [3990, 67, 563], [1516, 3991], [51, 218, 1, 669], [83, 505, 34, 135, 160, 3992, 58], [258, 46, 1, 3993, 4, 3994, 524], [1849, 1079, 4, 89, 45], [545, 22, 808, 768, 870, 17, 22, 51, 2, 148, 17, 7, 768, 23, 309, 151, 3995], [839, 1823], [96, 67, 980], [232, 23, 86, 1098, 26, 1, 12, 3996], [58, 58, 82, 3997], [3998], [3999, 4000, 500, 15, 4001, 15, 4002, 80, 379, 1, 112], [7, 4003, 1, 1738, 1, 4004, 4005], [4, 54, 1372, 1, 1850, 2, 4006, 29], [4007, 1144, 4008, 4009, 685], [540], [59, 27, 394, 8, 1815, 2, 237, 246], [82, 3, 662, 1, 4010, 96, 4011, 710], [1851], [4012, 86, 321, 102, 1494, 22], [59, 29, 62, 1, 720, 136], [104, 770, 33], [4013], [1173, 303], [3, 98, 16, 1, 4014, 1, 17], [4015, 4016, 3, 1852, 3], [59, 130, 4017], [24, 252], [32, 4018, 4019], [3, 4020, 1, 27, 159, 1853], [1380, 20, 48], [24, 59, 36, 4021, 292, 1, 854, 1130], [693, 37, 49, 1, 669], [29, 78, 4022, 24], [44, 22, 217, 4023, 538, 122, 37, 111], [2, 11, 10, 27, 34, 4024, 661, 4025], [132, 24], [24, 4026, 90, 7], [4027, 165, 24], [97, 506, 93, 2, 1854, 1855], [59, 400, 14, 1, 4028, 4029, 1, 1856], [1131, 556], [23, 655, 12, 7, 66, 4030], [378, 96], [948], [15, 91, 3, 340, 1, 4, 580, 308, 1, 6, 39], [34], [92, 1857, 117, 1180, 1858], [1090], [15, 91, 3, 340, 1, 4, 580, 308, 1, 6, 39], [34], [92, 1857, 117, 1180, 1858], [1090], [4031, 89, 45, 22], [67, 82, 85, 1, 506, 1175, 4032, 538, 79], [671, 829, 204], [119, 23], [1181, 30, 89, 45, 22], [7, 24, 4033, 1, 7, 130, 528, 1, 4034, 1, 252], [89, 45], [67, 82, 162, 4035, 4036, 104, 1371, 1336, 513, 78, 1310], [23, 15, 97, 3, 1856], [27, 89, 45], [82, 1311, 4, 3, 92, 37, 51, 2, 1, 82, 6, 162], [97, 1, 1762, 19, 89, 45], [1854, 1855], [7, 744, 1, 4037, 1130], [65, 7, 4038, 89, 45, 22, 4039, 4040, 237, 246], [74, 1179, 508], [120, 1, 123, 6, 39], [86, 91, 223], [80, 1851, 59], [22, 27, 34, 4041, 185, 36, 387], [105, 538, 1, 4042, 59, 670, 4043, 1, 2, 4044, 1619, 1, 17, 793, 2, 4045, 2, 4046, 1761], [3, 110, 65], [179, 1784, 82, 27, 4047, 792], [27, 715, 67], [2, 339, 4048], [272, 46, 1, 3, 262, 1, 1624, 4049, 4, 180, 2, 4050, 1, 4051, 1, 14, 122, 1859, 1, 374, 272, 37, 46, 1, 4052, 4, 180, 4, 122, 374], [314, 1800, 314, 65, 406, 86, 113, 155, 493, 1], [4053, 4054, 58, 58, 303], [153, 137, 156, 1, 6, 40, 1166, 16, 1, 99, 116, 14, 144, 24], [224, 895], [975, 1, 457, 109, 87, 2, 9, 1, 4055, 4056], [4057, 4058], [2, 11, 10, 1251, 17, 198, 42, 329, 2, 1161, 4059, 8, 288, 4060, 22, 301], [540, 1, 82, 1178, 848, 37, 111, 2, 1162, 4061, 9, 537, 1, 20, 4, 4062, 214, 4063, 179, 51, 4064, 286], [4065, 1, 66, 1, 4066, 19, 3], [4067, 4, 11, 10, 4068, 19, 685, 1, 22, 932], [12, 1, 4069, 1, 3, 7], [4070, 4071, 4072, 1340, 22], [666], [127, 91, 21, 168, 15, 22], [4073, 4074], [1848, 4075], [1860, 1860, 4076, 1861, 4077, 4078, 57, 80, 150, 80], [4079, 1182], [4080, 168, 950, 22], [605, 4081, 201], [102, 668, 1239, 1107], [1107, 4082, 134, 4083, 4084], [221, 17, 22, 97, 1, 26, 1, 1837, 30, 4085], [478, 1, 227, 4086, 12], [3, 7, 16, 1, 168, 16], [266, 91, 1, 813], [4087, 4, 1721, 777, 496, 1, 84, 4, 4088, 83, 15, 4089, 4, 4090, 1041, 4091, 155], [4092, 14], [4093, 4094], [27], [27, 150], [4095, 227], [202, 383, 45, 517], [298, 46, 1, 4096, 19], [622, 354], [1842, 32], [175, 2, 346, 1, 1129, 1129, 346, 175, 1, 4097], [1830, 74, 1, 3, 478], [4098, 1862, 1862, 1752, 15, 4099, 1, 662, 1, 1746], [23, 40, 66, 74, 12], [86, 4100], [4101, 4102, 29, 4103], [97, 3, 39, 93], [1125, 96, 372], [154, 4104, 330, 19, 3], [1253, 74, 4105, 13, 1, 4106, 408, 17, 24], [20, 48, 454, 44, 348, 626, 102, 1122, 5, 100], [82, 4, 533, 26, 1, 538, 225], [43, 1804, 44, 22, 231, 854], [233, 17, 2, 1396, 1, 90, 7, 5, 258, 216], [115, 5, 2, 108, 100, 19, 3], [2, 1593, 65, 115, 5, 2, 108, 100], [440], [70, 45], [4107, 98, 96], [23, 441, 58, 4, 274, 8, 237, 246, 4, 129, 1, 7], [1812, 1163, 4, 320, 27, 36, 1164, 571, 1, 1165, 510, 1813, 37, 1814], [4108], [58, 58, 70, 4, 89, 45], [379, 1, 4109, 418], [115, 5, 2, 108, 100, 807], [3, 50, 12, 1, 2, 4, 1, 25, 2, 64, 1031, 2, 16, 1, 782, 1, 442, 4110, 8, 655, 2, 4111, 4112, 4113, 4114, 8, 655, 66, 4115], [3, 7, 198, 643, 524, 24], [207, 208, 4116, 4117], [1844, 4118, 4119, 1247, 20, 48, 565, 4, 4120, 20, 3], [32, 46, 1, 3, 7, 643, 1, 524, 2, 1151, 217, 4121, 1, 49, 1, 2, 88, 736, 4, 4122, 1863, 1, 990, 3, 2, 736, 4, 1863, 1, 4123, 4124, 166, 218, 3, 4125, 288, 3, 62, 1, 2, 4126, 1, 20, 8, 1249, 1], [4127, 418, 2, 12, 37, 66, 4128, 4129, 4130, 451, 4131, 131, 1, 13, 4132, 4133, 549], [84, 1381, 28, 210, 4134, 183, 148, 25, 71, 215, 21, 8, 53, 449, 92, 1, 80, 56, 57, 979, 8, 135, 2, 8, 53, 1711, 211, 135, 226, 116, 49, 1, 226, 1, 301, 338, 24], [5, 4135], [607, 98], [5, 4136], [65, 4137, 1, 32, 123, 4138], [222, 191, 1137, 281, 107, 9, 4139, 4140, 1, 32, 1864, 1, 88, 236, 4141, 1137], [], [376, 15, 4142, 1, 22, 213, 4, 132, 19, 1324, 1, 22, 857], [6, 276, 41, 1, 4143, 123], [7, 4144], [858], [443, 1169], [852, 254, 1726, 34, 451, 122, 166, 1, 1183, 184, 1093, 118, 451, 4145, 9, 22, 166, 1, 3, 857, 1820, 2, 85, 4146, 5, 4147, 1731, 29], [5, 1085, 4], [16, 1, 271, 2, 393, 637, 4148, 110], [4149, 244, 2, 11, 10, 44, 210, 132, 4150], [1181, 45, 22, 31], [302, 90, 1099, 4151], [507, 507], [213, 1159, 865, 892, 102], [5, 1343], [2, 11, 10, 775, 4152], [4153], [29, 78, 501, 232, 441, 1, 302, 4154], [454, 17, 5, 574, 53, 1, 635, 1831], [1051, 1749, 1, 8, 1485, 4155, 4156], [4157, 3, 13, 35, 5, 1365], [82], [197, 4158], [298, 569, 1, 2, 773, 1, 4159, 4160, 1, 43, 106], [16, 1, 42, 39], [496, 1, 29, 78, 1864, 555, 74, 1850, 1, 142, 58, 19, 3], [2, 139, 146, 19, 3], [388, 4161, 4162, 4163, 1, 109, 516], [4164], [245], [669, 2, 94, 4165, 2, 4166, 2, 94, 4167, 4168], [5, 4169, 1645], [29, 690, 670], [220, 602, 12], [88, 1167, 1230, 4170], [545, 17], [103, 1, 20, 3], [103, 1, 20, 3], [103, 1, 1773, 1, 8, 46, 1, 3, 159, 442, 4171, 56], [5, 434, 4172, 848, 1736, 4173, 1694, 4174], [153, 40, 97, 38, 16, 1, 510, 202], [19, 3, 4175, 4176], [154, 4177, 12, 1, 3, 2, 1, 109, 4178, 4179], [103], [1144, 66, 4180, 12, 7, 4181, 873, 1000, 4182], [330, 19, 3, 4183], [2, 333, 2, 4184, 1, 454, 824], [4185, 335], [2, 4186, 58, 58, 1647], [3, 1852, 3], [32, 74, 4187], [2, 11, 10, 15, 1168, 2, 1136, 1, 568], [3, 722, 1, 4188, 109, 202, 383], [213, 1159, 288, 58, 4189, 4190, 32, 302], [4191, 777, 32, 124, 6, 123], [4192, 1822, 2, 4193, 1], [1191, 172, 1, 281, 1859], [4194, 1, 4195, 92, 4196], [233, 44, 291, 1, 168, 34, 238, 30, 1177, 2, 579, 1182, 90, 27], [2, 921, 1147], [4197, 65, 4198, 4199, 4, 414, 3, 841, 4200], [1846, 1, 2, 509, 1, 1087], [189, 5, 20, 4201, 2, 176, 4202], [2, 11, 10, 574, 53, 1, 1805, 607, 4203], [379, 1, 445, 381, 4204, 4205, 1, 1865, 4206, 1865, 4207, 4208, 155, 4209, 185, 2, 453, 1853, 4210], [74, 298, 46, 1, 1391, 1767], [218, 46, 1, 288, 8, 48], [4211, 1142, 8, 62, 288], [144, 6, 39, 49, 1, 9, 4212, 24], [14, 1445, 88, 144, 845, 45], [4213, 1, 833, 419, 13, 35, 5, 17, 7, 51, 4214, 14, 90, 7], [109, 4215], [31, 5, 1866, 1, 2, 1866, 6, 1, 2, 20, 1, 4216, 1867], [82, 283, 16, 1, 3, 99], [1360], [90, 1032, 644], [32, 20, 48, 4217, 1, 4218, 24], [4219, 1100, 345, 8, 288, 3], [256, 21, 70, 30, 4220], [73, 4221, 181, 1307], [1170, 1, 94, 1, 502], [127, 1, 179], [1818, 104], [1170, 1, 323, 1867, 4222, 428, 4223, 428, 2, 180, 199, 4224, 4225, 161, 1, 636, 4226, 161, 1, 1680, 2, 169, 161, 1, 867, 1132, 161, 1, 4227, 14, 1, 4228, 4229, 1240], [5, 258], [2, 333, 948, 109, 104], [1181, 197, 22, 616, 4230, 8, 4231, 4232, 320, 8, 4233, 306, 1, 4234, 1, 4, 536, 55, 415, 4, 4235, 651, 4236], [4237, 127, 4238, 38, 4239, 1378, 22, 849, 2, 4, 659, 1, 104], [4240, 53, 1, 1868, 112], [51, 316, 817, 1448, 382, 450, 7, 12, 1, 3, 7], [67, 80, 6, 1, 291, 1, 272, 1, 260, 1, 115, 5, 2, 108, 100], [219, 333], [4241, 383], [83, 51, 1849, 2, 4242, 29, 4243, 1, 34, 165, 48], [406, 4244, 1, 113, 12, 1, 3], [4245, 31, 23, 830, 1, 29, 4246, 203, 33], [2, 11, 10, 19, 141, 34, 191, 30, 1799, 4, 1774, 1869, 4247, 4248, 84, 4249], [15, 358, 116, 9, 27, 4, 758, 12, 1, 2, 394, 8, 65, 50], [4250, 218, 3, 65], [115, 5, 2, 108, 100, 807], [740, 89, 45, 143], [4, 4251, 1, 22, 127, 670, 38, 4252], [1176], [2, 272, 1, 21, 1764], [1127, 8, 1786, 127], [7, 12, 1, 4253, 53, 1, 310, 21, 112], [440], [762, 5], [966, 150, 1, 7, 413, 1, 81, 454, 2], [89, 45, 336, 109, 4254, 146, 24], [4, 11, 10, 133, 1, 67, 59, 19, 3, 78], [202, 93, 197], [266, 659, 12, 15], [15, 347, 1, 104, 1870, 4255], [52], [2, 11, 10, 7, 73, 1205, 407, 1, 29, 7, 4256], [2, 4257, 1, 1871], [38, 4258, 94, 1, 4259], [172, 1, 27], [7, 12, 1, 1872, 140, 476, 672], [115, 5], [1102, 1102, 922], [639, 34, 5], [1167, 17], [856], [89, 45], [245, 54, 31, 1356, 93], [347, 1, 4260], [115, 5, 2, 108, 100], [718, 507], [89, 45], [89, 45, 22, 60, 24], [219, 8, 11, 10, 659, 1, 140], [104, 4261, 26, 1, 82, 4262, 950, 2, 686, 371], [540, 219, 333], [15], [83, 30, 45, 22], [19, 3, 4263, 2, 4264, 1], [330, 26, 1, 75, 26, 1, 8, 13, 1, 588, 12, 3], [2, 13, 35, 5, 96, 19, 65, 4265, 339], [233, 1873, 471, 42, 4266, 310, 888, 1, 4267, 2, 51, 4268, 4269], [45, 1318, 4270], [166, 725, 4271, 4272, 89, 197, 1869], [664, 12, 3, 104, 2, 544, 825, 197], [98, 58, 2, 11, 10, 128, 1075, 308, 1, 27], [4273, 960], [230, 1, 140, 476, 183, 150, 71], [4274], [651, 4275, 3, 109], [38, 4276, 53, 1, 310], [21, 347, 9], [66, 933], [493, 1, 1367, 342], [42, 310, 1872, 217, 21, 112], [2, 11, 10, 96, 4277, 160, 376, 521, 1, 21, 476, 672], [104, 1870], [172, 1, 104], [24, 21, 150], [112, 186, 29, 78, 4278, 2, 4279, 66, 4, 14, 1, 884, 1, 20, 23, 696, 142, 38, 165, 17, 98, 9, 1873, 2, 29, 578, 1, 4280, 1, 1765, 4281, 4, 468, 99, 2, 289, 1, 91, 15, 1182, 1330, 1, 20, 2, 153, 1834], [104, 4, 97, 1, 453, 15, 112], [722, 1, 2, 213, 12, 291, 1, 185], [3, 4282, 41, 1, 440, 4283], [31, 616, 4, 179, 920, 1, 1146, 4284, 1135], [15], [15, 19, 3, 2, 1847, 292, 1, 7], [4285, 231, 4286], [230, 1, 21, 4, 4287, 19, 3, 78], [1174, 932], [19, 3, 86, 1179, 371, 8, 24, 4, 1760, 172, 17], [266, 88, 19, 87, 4288, 61, 4289], [231, 5], [58, 599], [140, 476, 672], [140, 660, 672], [7, 12, 1, 4290, 4291, 1, 15, 112], [45, 65, 4292, 1, 91, 27], [4293, 65, 104], [45, 4294], [36, 4295, 1, 249, 1, 1545, 3], [17, 143, 34, 850, 139], [28, 1, 4296, 42, 4297], [4298, 244, 2], [4299], [65, 27], [221, 179, 15, 27, 4300], [86, 4301, 81], [54, 55, 22], [70, 1108, 102, 223], [92, 4302, 664, 12], [23, 37, 12, 1, 897, 1, 973, 1, 150], [4303, 1, 7, 99, 51, 4, 850, 1, 4304, 1358], [213, 12], [78, 23, 868, 4305, 198, 453, 63, 33, 2, 164, 1704, 313, 1, 7, 4306], [4, 1353, 19, 3], [658, 4307, 1874, 141], [2, 11, 10, 1171, 1875, 120, 1, 222, 4308], [22, 493, 1], [380, 65, 4309, 536, 55, 22], [4310, 53, 1, 1868, 112], [115, 5, 2, 108, 100, 94, 1, 19, 3], [3, 7, 5, 8, 4311, 2, 8, 4312, 4313, 24, 15, 112], [5, 4314, 1, 31], [4315, 104, 1171, 1875, 102], [5, 4316, 1, 450, 575], [22, 752, 4317, 631, 4318, 1, 39, 7, 88, 556], [7, 49, 1, 1825, 2], [858], [762, 5], [479, 28, 2, 894, 12, 1, 2, 4319, 1, 1036, 1600, 1, 1827], [330, 26, 1, 137, 416, 40, 139, 57, 4320, 88, 65, 1331, 356], [4321, 5, 1111, 1, 4322, 4323, 4324, 4325, 1744, 1, 4326], [4327, 4328, 31], [45, 65, 5, 4329], [4330, 66, 897, 19, 3, 78], [5, 759, 98, 49, 1, 4331, 4332], [97, 448, 19, 65, 4333], [5, 1111, 1, 20, 4334], [20, 3, 32, 1183, 1, 1183], [1707, 3, 542, 4335, 4336], [1175, 391, 19, 3, 34, 818, 513, 2, 4337, 445, 4338, 46, 1, 2, 4339, 4340, 28, 1, 4341], [519, 129, 1, 620, 1832, 86, 4342, 637], [4343, 4344, 4345, 78, 2, 527, 1, 28, 1, 983, 610, 611, 1876, 7, 1708, 31], [1835, 136, 4346, 4, 57, 48, 14, 33, 2, 708, 1, 4, 95, 21, 4347], [2, 55, 143, 4348], [82, 19, 4349, 4350, 78, 181], [4351, 25, 184, 4, 242, 201], [680], [4, 1670, 96, 2, 25, 517, 2], [85, 290, 4352, 82, 1877, 4353], [19, 4354, 20, 7, 4355, 1, 24], [4356, 1598, 4, 4357, 4358, 4359, 1, 2, 131, 1, 218, 4360, 2, 4361, 1, 4, 624, 685, 8, 53, 161, 1, 205, 86, 1323, 28, 1, 654, 304, 1, 2, 4362, 56, 104, 572, 19, 3, 4, 4363, 1, 4364, 13, 1, 7, 28, 1, 927, 4, 4365, 34, 53, 1, 4366, 4367], [37, 28, 1, 191, 138, 101, 834, 1, 138, 1139, 1876, 552, 42, 28, 1, 164, 504, 3, 478, 1, 718, 232], [4368, 56, 203, 28, 1, 1139, 28, 1, 93, 58, 203, 242], [4369], [59, 1544, 28, 1, 221, 4370, 151], [1460, 304, 1, 1819, 185, 59, 4, 306, 1, 101, 251, 1772, 28, 1, 206, 184, 1166, 245, 96, 2, 4371, 4, 1778, 15, 4, 1878, 1877], [82, 78, 4, 4372, 93, 23, 668, 12, 4373], [31, 13, 1, 19, 3, 4374, 604, 56, 4375, 260, 1, 210, 217, 448, 15, 183, 260, 1, 60, 104, 486, 26, 1, 2, 1836, 1, 334, 184, 118, 25, 1180, 28, 1, 118, 448, 671, 26, 1, 378, 37, 111, 36, 27, 4, 1878, 318, 448], [20, 3, 607, 1, 2, 1580, 1453, 363, 201, 57, 118, 28, 1, 203, 4376], [4, 4377, 1, 15, 2, 4, 274, 27, 37, 66, 693, 3, 4, 1104, 133, 242, 28, 1, 101, 28, 203, 296], [187, 1, 119, 13, 3, 290, 50, 8, 62, 12, 277, 1507, 262, 1, 1060, 2, 1508, 261, 33], [209, 3, 325], [18, 265], [2, 13, 282, 1, 145, 114, 823], [69, 1759, 189, 5], [1, 645, 1058, 1, 2, 646, 1, 401, 82, 2, 1059, 1, 377, 76, 583, 2, 247, 2, 377, 76, 158, 125], [591, 4378, 261, 1723, 4379, 880, 289, 1, 1874, 1, 4380, 1, 240, 1, 8, 4381, 4382, 129, 4, 62, 4383, 1081, 4384, 1, 645, 4385], [1, 82, 1506, 247], [809, 4386, 4387], [4388], [821, 194, 822], [170], [170, 526, 426], [68, 191, 12, 87, 8, 487, 1, 171, 4389, 1, 4390, 1145, 1, 4391, 1552], [84, 3, 4, 1754, 1, 603, 50, 4392, 4393, 2, 1, 1060, 325, 262, 1, 1076, 1, 782, 1, 2, 4, 201, 4394, 9, 355, 1, 8, 62, 2, 1513, 5, 194, 2, 13, 35, 5, 1702, 191, 1605, 8, 62, 994, 44, 4, 4395, 993], [75, 26, 1, 76, 1542, 2, 247, 18], [2, 8, 1062, 4396, 8, 1044, 72], [6, 1, 33, 41, 512, 472, 1504], [18, 145, 9, 12, 1, 2, 9, 63, 268], [175, 216], [74, 91, 67, 1502, 279, 44, 784, 91, 1503], [9, 731, 1505], [535, 1, 267], [826], [4397], [4398, 64, 1, 72, 64, 535, 4, 325, 267, 783], [61], [2, 4399, 64, 1048], [6, 3, 105, 310, 4400, 1, 159, 1, 4401, 342, 681], [12, 1, 87], [536, 19, 1519, 1, 334, 3, 178, 12, 1, 1520, 1068], [4, 1069, 1521, 1522, 864], [200, 157, 1, 1173, 351, 122, 73, 4, 129, 1, 4402], [21, 358, 1, 4, 107, 9], [18, 2, 953, 4, 1532, 6, 1, 825, 6, 152, 1, 52], [113, 4403, 1, 2, 425, 266, 18, 4, 812, 5], [9, 3], [36, 29, 4404], [1057, 19, 3, 6, 1, 41, 1, 37, 51, 190, 1, 40, 119, 437, 8, 820, 87, 7], [4, 47, 13, 269, 10, 43], [4, 47, 13, 35, 5], [83, 20], [2, 11, 10, 3, 187, 1, 228, 16, 69, 121], [153, 1530, 648, 264, 817, 28, 1, 2, 27, 92, 64], [105, 6, 3], [43, 4405, 4406], [1526, 589, 1527, 16, 1, 3, 1528, 1529], [72], [4407, 5, 79], [27, 188, 4408, 1, 318], [1153], [18, 194], [3, 290, 50], [68, 205, 12, 3, 136, 1071, 153, 68, 595, 1072], [134, 132, 112, 374, 7, 24, 227, 38, 51, 42, 58], [1717, 1, 457, 9, 63], [9], [9, 63], [64, 7, 12, 1, 87, 149, 297, 239, 293], [410, 38, 647, 1, 6, 1525, 1, 264, 951], [26, 1, 1523, 28, 1, 8, 62, 15, 404, 1, 1524, 1, 196, 1, 463, 1, 13, 35, 5, 511, 1, 15, 2, 289, 1, 379, 1, 27, 92, 1070], [3, 325], [126], [175, 14, 1, 2, 534, 1, 5, 2, 843, 1, 3, 68, 12, 1, 245, 1, 757, 1, 199, 12, 1, 4409], [158, 125], [16, 1, 535, 1, 4, 62, 364, 644, 16, 390, 7, 370, 64], [826], [35, 5], [9, 87, 286, 4410, 113, 675, 1, 262, 1, 50, 37, 4, 101, 1, 44, 2, 8, 62, 12], [1537, 1538, 1, 4, 397, 1, 512, 239, 1539, 1, 2, 1540, 6, 1, 55, 4, 612, 551, 1012, 1, 1541], [1861, 189, 192, 4, 264, 8, 108, 4, 4411, 25], [154, 1013, 542, 4412, 1, 4413, 38, 497, 154, 4414, 1], [4, 47, 2, 114, 189, 5], [61, 7, 4415, 1, 24], [18, 145, 72], [9, 527, 24, 256, 42, 19, 1518], [853, 1235, 123], [4416, 1, 728, 1824], [4, 47, 13, 35, 5], [68, 683, 24, 535, 1, 4417, 326], [178, 6], [9, 36, 606, 771], [1, 50, 46, 1, 14, 1458], [23, 3, 23, 23], [68, 255, 9], [18, 13, 35, 5, 8, 28, 1, 428, 4418], [44, 178, 3, 170, 26, 1, 2, 11, 10, 18, 58, 189, 5], [69, 1671, 1, 4419, 4420], [18, 13, 35, 5, 194], [18], [13, 35, 5, 76, 705], [4, 47, 2, 114, 189, 5], [175, 14, 1, 32, 19, 3, 31], [18, 43, 125, 426], [69, 121], [18, 2, 248, 4421, 9], [275, 5, 324, 5], [12, 581, 2, 211, 1, 370], [1206, 145, 3, 4422, 4423], [824, 63, 87, 7, 1515, 159, 146, 27], [107, 111, 110, 4424], [23, 21, 447, 34, 885, 354], [375, 63, 942, 44], [18], [114, 823], [548, 14, 9, 206], [266, 134], [92, 64, 4425, 2, 11, 10, 501], [2, 13, 35, 5, 126], [69, 4426], [3, 4, 47, 265], [570, 4427, 9], [9, 4428, 4429, 8, 62, 87], [1751], [29, 72, 54, 8, 273, 515], [4430, 419, 200, 4431], [4432, 64], [649, 9, 1, 844, 1, 15, 9, 71], [72], [3, 295], [4, 47, 13, 35, 5], [349, 5, 47, 177], [2, 522, 1081, 362, 526, 426], [18], [75, 26, 1, 75, 244], [126, 177], [18], [158, 125, 2, 114, 564, 1, 5, 87, 828, 291, 1543], [821, 194, 822], [18, 13, 269, 10], [275, 5, 324, 5], [4433, 81], [275, 5], [4, 47, 114], [18], [18, 76], [1233], [846, 88, 72], [55, 448, 6], [3, 82, 682, 76, 1031], [1585, 325, 4434], [6, 1, 73, 152, 1, 5, 42, 227], [12, 581, 3, 87, 3, 177, 45], [75, 847, 3], [3, 559, 882, 360, 560], [914, 480, 4435, 77, 2, 641, 4436, 4437], [4438, 4439, 114, 2, 4, 234, 4440, 900], [170], [63, 87, 649, 290], [207, 55], [12, 71, 826], [375, 19], [147], [2, 9, 134], [9], [18], [9, 68], [126], [295, 170, 3], [189, 5, 4441, 1482, 265, 106], [4, 47, 13, 269, 10, 43], [3, 50, 4442], [170, 526, 426], [20, 4443], [391, 45, 827, 34, 650], [456, 2], [4, 47, 20, 3], [3], [9], [228, 6, 44], [2, 50, 25], [2, 646, 118, 18, 76], [3, 110, 3], [3, 4444, 40, 50], [72], [2, 11, 10, 603, 1, 649, 7, 73, 533, 1073, 1534, 68, 1535, 1, 749, 1, 1536, 58], [219, 333], [3], [75, 14], [207, 52], [851], [9, 174, 4445, 1, 12, 87, 71], [4446, 4447, 112, 290, 2, 94, 9, 123], [3], [18], [3, 170], [188, 1351, 183, 9, 63], [9], [9], [117, 4448], [133, 3, 113, 3], [75, 3], [178, 20], [7, 4449, 24], [3, 106, 499], [3, 4450, 40], [851], [4451, 4452], [489, 1459], [4453, 204, 4454], [110, 3], [230, 436], [295], [13, 269, 10], [18, 43], [3, 79], [87], [31, 2, 11, 10, 55, 4, 54, 999, 188, 4455, 160, 999, 14, 1, 5, 214, 9, 7], [61, 9, 1149, 4456, 16, 575], [126], [126], [4457], [], [4458, 1126], [9, 12], [666], [68, 4459, 687, 166, 1203, 149, 293, 4460, 4461, 1, 8, 704, 13, 2, 274, 387, 40, 4462, 34, 4463, 867, 21, 660, 2, 1, 805, 398, 2, 1046, 37, 4464, 101, 4465], [126], [78, 4466, 1871], [2, 4467, 946, 4468], [4469, 1047], [126], [126], [47, 13, 35, 5], [3], [117, 638, 2, 346, 14, 531, 314], [87, 371], [729, 4470], [134, 1048], [18], [1690, 166, 37, 135, 4, 4471, 2, 370, 87], [3, 110, 3], [5, 2, 4, 219, 1, 5, 128], [205, 261, 34, 4, 11, 10, 14, 128], [3], [23, 3], [110, 3], [3], [3, 228, 4472], [110, 3], [3]]\n",
      "padded_docs:\n",
      " [[ 546    9  203 1879]\n",
      " [   1  135  174    7]\n",
      " [   1 1881   38  395]\n",
      " ...\n",
      " [   3  228 4472    0]\n",
      " [ 110    3    0    0]\n",
      " [   3    0    0    0]]\n"
     ]
    }
   ],
   "source": [
    "# prepare tokenizer\n",
    "\n",
    "t = Tokenizer()\n",
    "t.fit_on_texts(data['Text_Final'])\n",
    "vocab_size = len(t.word_index) + 1\n",
    "# integer encode the documents\n",
    "encoded_docs = t.texts_to_sequences(data['Text_Final'])\n",
    "print('encoded_docs:\\n',encoded_docs)\n",
    "# pad documents to a max length of 4 words\n",
    "max_length = 4\n",
    "padded_docs = pad_sequences(encoded_docs, maxlen=max_length, \n",
    "padding='post')\n",
    "print('padded_docs:\\n',padded_docs)"
   ]
  },
  {
   "cell_type": "code",
   "execution_count": 32,
   "id": "5ea0d7d7",
   "metadata": {},
   "outputs": [
    {
     "ename": "FileNotFoundError",
     "evalue": "[Errno 2] No such file or directory: '…./full_grams_sg_300_twitter/full_grams_sg_300_twitter.mdl'",
     "output_type": "error",
     "traceback": [
      "\u001b[1;31m---------------------------------------------------------------------------\u001b[0m",
      "\u001b[1;31mFileNotFoundError\u001b[0m                         Traceback (most recent call last)",
      "Input \u001b[1;32mIn [32]\u001b[0m, in \u001b[0;36m<cell line: 5>\u001b[1;34m()\u001b[0m\n\u001b[0;32m      3\u001b[0m TOTAL_EMBEDDING_DIM\u001b[38;5;241m=\u001b[39m\u001b[38;5;241m300\u001b[39m\n\u001b[0;32m      4\u001b[0m embeddings_file\u001b[38;5;241m=\u001b[39m\u001b[38;5;124m'\u001b[39m\u001b[38;5;124m…./full_grams_sg_300_twitter/full_grams_sg_300_twitter.mdl\u001b[39m\u001b[38;5;124m'\u001b[39m\n\u001b[1;32m----> 5\u001b[0m w2v_model \u001b[38;5;241m=\u001b[39m\u001b[43mKeyedVectors\u001b[49m\u001b[38;5;241;43m.\u001b[39;49m\u001b[43mload\u001b[49m\u001b[43m(\u001b[49m\u001b[43membeddings_file\u001b[49m\u001b[43m)\u001b[49m\n\u001b[0;32m      6\u001b[0m \u001b[38;5;28;01mfor\u001b[39;00m word \u001b[38;5;129;01min\u001b[39;00m w2v_model\u001b[38;5;241m.\u001b[39mwv\u001b[38;5;241m.\u001b[39mvocab:\n\u001b[0;32m      7\u001b[0m     w2v_embeddings_index[word] \u001b[38;5;241m=\u001b[39m w2v_model[word]\n",
      "File \u001b[1;32m~\\anaconda3\\lib\\site-packages\\gensim\\utils.py:485\u001b[0m, in \u001b[0;36mSaveLoad.load\u001b[1;34m(cls, fname, mmap)\u001b[0m\n\u001b[0;32m    481\u001b[0m logger\u001b[38;5;241m.\u001b[39minfo(\u001b[38;5;124m\"\u001b[39m\u001b[38;5;124mloading \u001b[39m\u001b[38;5;132;01m%s\u001b[39;00m\u001b[38;5;124m object from \u001b[39m\u001b[38;5;132;01m%s\u001b[39;00m\u001b[38;5;124m\"\u001b[39m, \u001b[38;5;28mcls\u001b[39m\u001b[38;5;241m.\u001b[39m\u001b[38;5;18m__name__\u001b[39m, fname)\n\u001b[0;32m    483\u001b[0m compress, subname \u001b[38;5;241m=\u001b[39m SaveLoad\u001b[38;5;241m.\u001b[39m_adapt_by_suffix(fname)\n\u001b[1;32m--> 485\u001b[0m obj \u001b[38;5;241m=\u001b[39m \u001b[43munpickle\u001b[49m\u001b[43m(\u001b[49m\u001b[43mfname\u001b[49m\u001b[43m)\u001b[49m\n\u001b[0;32m    486\u001b[0m obj\u001b[38;5;241m.\u001b[39m_load_specials(fname, mmap, compress, subname)\n\u001b[0;32m    487\u001b[0m obj\u001b[38;5;241m.\u001b[39madd_lifecycle_event(\u001b[38;5;124m\"\u001b[39m\u001b[38;5;124mloaded\u001b[39m\u001b[38;5;124m\"\u001b[39m, fname\u001b[38;5;241m=\u001b[39mfname)\n",
      "File \u001b[1;32m~\\anaconda3\\lib\\site-packages\\gensim\\utils.py:1459\u001b[0m, in \u001b[0;36munpickle\u001b[1;34m(fname)\u001b[0m\n\u001b[0;32m   1445\u001b[0m \u001b[38;5;28;01mdef\u001b[39;00m \u001b[38;5;21munpickle\u001b[39m(fname):\n\u001b[0;32m   1446\u001b[0m     \u001b[38;5;124;03m\"\"\"Load object from `fname`, using smart_open so that `fname` can be on S3, HDFS, compressed etc.\u001b[39;00m\n\u001b[0;32m   1447\u001b[0m \n\u001b[0;32m   1448\u001b[0m \u001b[38;5;124;03m    Parameters\u001b[39;00m\n\u001b[1;32m   (...)\u001b[0m\n\u001b[0;32m   1457\u001b[0m \n\u001b[0;32m   1458\u001b[0m \u001b[38;5;124;03m    \"\"\"\u001b[39;00m\n\u001b[1;32m-> 1459\u001b[0m     \u001b[38;5;28;01mwith\u001b[39;00m \u001b[38;5;28;43mopen\u001b[39;49m\u001b[43m(\u001b[49m\u001b[43mfname\u001b[49m\u001b[43m,\u001b[49m\u001b[43m \u001b[49m\u001b[38;5;124;43m'\u001b[39;49m\u001b[38;5;124;43mrb\u001b[39;49m\u001b[38;5;124;43m'\u001b[39;49m\u001b[43m)\u001b[49m \u001b[38;5;28;01mas\u001b[39;00m f:\n\u001b[0;32m   1460\u001b[0m         \u001b[38;5;28;01mreturn\u001b[39;00m _pickle\u001b[38;5;241m.\u001b[39mload(f, encoding\u001b[38;5;241m=\u001b[39m\u001b[38;5;124m'\u001b[39m\u001b[38;5;124mlatin1\u001b[39m\u001b[38;5;124m'\u001b[39m)\n",
      "File \u001b[1;32m~\\anaconda3\\lib\\site-packages\\smart_open\\smart_open_lib.py:188\u001b[0m, in \u001b[0;36mopen\u001b[1;34m(uri, mode, buffering, encoding, errors, newline, closefd, opener, ignore_ext, compression, transport_params)\u001b[0m\n\u001b[0;32m    185\u001b[0m \u001b[38;5;28;01mif\u001b[39;00m transport_params \u001b[38;5;129;01mis\u001b[39;00m \u001b[38;5;28;01mNone\u001b[39;00m:\n\u001b[0;32m    186\u001b[0m     transport_params \u001b[38;5;241m=\u001b[39m {}\n\u001b[1;32m--> 188\u001b[0m fobj \u001b[38;5;241m=\u001b[39m \u001b[43m_shortcut_open\u001b[49m\u001b[43m(\u001b[49m\n\u001b[0;32m    189\u001b[0m \u001b[43m    \u001b[49m\u001b[43muri\u001b[49m\u001b[43m,\u001b[49m\n\u001b[0;32m    190\u001b[0m \u001b[43m    \u001b[49m\u001b[43mmode\u001b[49m\u001b[43m,\u001b[49m\n\u001b[0;32m    191\u001b[0m \u001b[43m    \u001b[49m\u001b[43mcompression\u001b[49m\u001b[38;5;241;43m=\u001b[39;49m\u001b[43mcompression\u001b[49m\u001b[43m,\u001b[49m\n\u001b[0;32m    192\u001b[0m \u001b[43m    \u001b[49m\u001b[43mbuffering\u001b[49m\u001b[38;5;241;43m=\u001b[39;49m\u001b[43mbuffering\u001b[49m\u001b[43m,\u001b[49m\n\u001b[0;32m    193\u001b[0m \u001b[43m    \u001b[49m\u001b[43mencoding\u001b[49m\u001b[38;5;241;43m=\u001b[39;49m\u001b[43mencoding\u001b[49m\u001b[43m,\u001b[49m\n\u001b[0;32m    194\u001b[0m \u001b[43m    \u001b[49m\u001b[43merrors\u001b[49m\u001b[38;5;241;43m=\u001b[39;49m\u001b[43merrors\u001b[49m\u001b[43m,\u001b[49m\n\u001b[0;32m    195\u001b[0m \u001b[43m    \u001b[49m\u001b[43mnewline\u001b[49m\u001b[38;5;241;43m=\u001b[39;49m\u001b[43mnewline\u001b[49m\u001b[43m,\u001b[49m\n\u001b[0;32m    196\u001b[0m \u001b[43m\u001b[49m\u001b[43m)\u001b[49m\n\u001b[0;32m    197\u001b[0m \u001b[38;5;28;01mif\u001b[39;00m fobj \u001b[38;5;129;01mis\u001b[39;00m \u001b[38;5;129;01mnot\u001b[39;00m \u001b[38;5;28;01mNone\u001b[39;00m:\n\u001b[0;32m    198\u001b[0m     \u001b[38;5;28;01mreturn\u001b[39;00m fobj\n",
      "File \u001b[1;32m~\\anaconda3\\lib\\site-packages\\smart_open\\smart_open_lib.py:361\u001b[0m, in \u001b[0;36m_shortcut_open\u001b[1;34m(uri, mode, compression, buffering, encoding, errors, newline)\u001b[0m\n\u001b[0;32m    358\u001b[0m \u001b[38;5;28;01mif\u001b[39;00m errors \u001b[38;5;129;01mand\u001b[39;00m \u001b[38;5;124m'\u001b[39m\u001b[38;5;124mb\u001b[39m\u001b[38;5;124m'\u001b[39m \u001b[38;5;129;01mnot\u001b[39;00m \u001b[38;5;129;01min\u001b[39;00m mode:\n\u001b[0;32m    359\u001b[0m     open_kwargs[\u001b[38;5;124m'\u001b[39m\u001b[38;5;124merrors\u001b[39m\u001b[38;5;124m'\u001b[39m] \u001b[38;5;241m=\u001b[39m errors\n\u001b[1;32m--> 361\u001b[0m \u001b[38;5;28;01mreturn\u001b[39;00m _builtin_open(local_path, mode, buffering\u001b[38;5;241m=\u001b[39mbuffering, \u001b[38;5;241m*\u001b[39m\u001b[38;5;241m*\u001b[39mopen_kwargs)\n",
      "\u001b[1;31mFileNotFoundError\u001b[0m: [Errno 2] No such file or directory: '…./full_grams_sg_300_twitter/full_grams_sg_300_twitter.mdl'"
     ]
    }
   ],
   "source": [
    "# load the whole embedding into memory\n",
    "w2v_embeddings_index={}\n",
    "TOTAL_EMBEDDING_DIM=300\n",
    "embeddings_file='…./full_grams_sg_300_twitter/full_grams_sg_300_twitter.mdl'\n",
    "w2v_model =KeyedVectors.load(embeddings_file)\n",
    "for word in w2v_model.wv.vocab:\n",
    "    w2v_embeddings_index[word] = w2v_model[word]\n",
    "print('Loaded %s word vectors.'% len(w2v_embeddings_index))"
   ]
  },
  {
   "cell_type": "code",
   "execution_count": 33,
   "id": "fdaa0c93",
   "metadata": {},
   "outputs": [
    {
     "name": "stderr",
     "output_type": "stream",
     "text": [
      "'wget' is not recognized as an internal or external command,\n",
      "operable program or batch file.\n",
      "'unzip' is not recognized as an internal or external command,\n",
      "operable program or batch file.\n"
     ]
    }
   ],
   "source": [
    "!wget \"https://bakrianoo.sfo2.digitaloceanspaces.com/aravec/full_grams_cbow_100_twitter.zip\"\n",
    "!unzip \"full_grams_cbow_100_twitter.zip\""
   ]
  },
  {
   "cell_type": "code",
   "execution_count": null,
   "id": "9bd44e4c",
   "metadata": {},
   "outputs": [],
   "source": []
  }
 ],
 "metadata": {
  "kernelspec": {
   "display_name": "Python 3 (ipykernel)",
   "language": "python",
   "name": "python3"
  },
  "language_info": {
   "codemirror_mode": {
    "name": "ipython",
    "version": 3
   },
   "file_extension": ".py",
   "mimetype": "text/x-python",
   "name": "python",
   "nbconvert_exporter": "python",
   "pygments_lexer": "ipython3",
   "version": "3.9.12"
  }
 },
 "nbformat": 4,
 "nbformat_minor": 5
}
