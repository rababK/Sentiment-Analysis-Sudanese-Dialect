{
 "cells": [
  {
   "cell_type": "code",
   "execution_count": 2,
   "id": "7233289e",
   "metadata": {},
   "outputs": [],
   "source": [
    "import pandas as pd\n",
    "import numpy as np\n",
    "import json\n",
    "import re\n",
    "import string\n",
    "from sklearn.model_selection import train_test_split\n",
    "from sklearn.utils import resample\n",
    "from sklearn.feature_extraction.text import TfidfVectorizer, CountVectorizer\n",
    "from sklearn.metrics import accuracy_score, f1_score\n",
    "from sklearn.svm import SVC\n",
    "from sklearn.ensemble import RandomForestClassifier, AdaBoostClassifier, GradientBoostingClassifier\n",
    "from sklearn.neural_network import MLPClassifier\n",
    "from sklearn.ensemble import VotingClassifier\n",
    "from sklearn.linear_model import LogisticRegression\n",
    "from sklearn.naive_bayes import MultinomialNB, GaussianNB \n",
    "from sklearn.model_selection import GridSearchCV\n",
    "from sklearn.model_selection import StratifiedShuffleSplit\n",
    "from tqdm.notebook import tqdm\n",
    "import matplotlib.pyplot as plt\n",
    "import sys\n",
    "\n",
    "import pickle\n",
    "\n",
    "\n",
    "%matplotlib inline\n"
   ]
  },
  {
   "cell_type": "code",
   "execution_count": 3,
   "id": "9f36ac13",
   "metadata": {},
   "outputs": [],
   "source": [
    "\n",
    "rand_seed = 0  # random state for reproducibility\n",
    "np.random.seed(rand_seed)\n",
    "# reading our prepared data\n",
    "data = pd.read_excel('ALL_data.xlsx')\n",
    "data = data.dropna()\n",
    "data.head()\n",
    "\n",
    "clean_data = data\n",
    "\n",
    "clean_data.shape\n",
    "\n",
    "\n",
    "clean_data['clean']=clean_data['comment']"
   ]
  },
  {
   "cell_type": "code",
   "execution_count": 4,
   "id": "a2ea41ba",
   "metadata": {},
   "outputs": [],
   "source": [
    "def random_split(clean_data, features, output, fraction, seed=0):\n",
    "    X_train, X_test, y_train, y_test = train_test_split(data[features],\n",
    "                                                        data[output],\n",
    "                                                        stratify = data[output],\n",
    "                                                        random_state=seed,\n",
    "                                                        train_size=fraction\n",
    "                                                       )\n",
    "    train_data = pd.DataFrame(data=X_train, columns=features)\n",
    "    train_data[output] = y_train\n",
    "    test_data = pd.DataFrame(data=X_test, columns=features)\n",
    "    test_data[output] = y_test\n",
    "    \n",
    "    return train_data, test_data"
   ]
  },
  {
   "cell_type": "code",
   "execution_count": 5,
   "id": "83d3ee8c",
   "metadata": {},
   "outputs": [
    {
     "name": "stdout",
     "output_type": "stream",
     "text": [
      "output: label\n",
      "features: ['clean']\n",
      "train data = 2458\n",
      "val  data = 1536\n",
      "test  data = 1537\n",
      "all data = 3073\n"
     ]
    }
   ],
   "source": [
    "train_fraction = .80 # use this to split data into training (80%), and tmp (20%)\n",
    "val_fraction = .50   # use this to split the tmp data into validation (50%), and \n",
    "                     # testing (50%) which means that the validation will be 10% of the original data as well as the\n",
    "\n",
    "output = 'label' # output label column\n",
    "features = clean_data.columns.tolist() # the features columns\n",
    "features.remove(output)\n",
    "features.remove('comment')\n",
    "print('output:', output)\n",
    "print('features:', features)\n",
    "\n",
    "train_data, tmp = random_split(data, features, output, train_fraction, rand_seed)\n",
    "val_data, test_data = random_split(tmp, features, output, val_fraction, rand_seed)\n",
    "\n",
    "print(\"train data = \"+str(len(train_data)))\n",
    "print(\"val  data = \"+str(len(val_data)))\n",
    "print(\"test  data = \"+str(len(test_data)))\n",
    "\n",
    "print(\"all data = \"+str(len(data)))"
   ]
  },
  {
   "cell_type": "code",
   "execution_count": 7,
   "id": "c1ab60ac",
   "metadata": {},
   "outputs": [],
   "source": [
    "def train_n_test_classifier(clf, train_features, train_labels, test_features, test_labels,data):\n",
    "    clf.fit(train_features, train_labels) # please learn patterns from the data\n",
    "\n",
    "   \n",
    "    \n",
    "    print(\"accuracy_score Score on training data:\")\n",
    "    print(clf.score(train_features, train_labels))\n",
    "    \n",
    "    \n",
    "    print('_'*100)\n",
    "\n",
    "    print(\"score on testing data:\")\n",
    "    \n",
    "    pred_y = clf.predict(test_features)\n",
    "    \n",
    "    val_data['predict']=pred_y\n",
    " \n",
    "    count=0\n",
    "    \n",
    "    print(\"accuracy_score Score on test data:\")\n",
    "    print(accuracy_score(test_labels, pred_y))\n",
    "    \n",
    "    print(\"f1_score  on test data:\")\n",
    "    print(f1_score(test_labels, pred_y, average='macro'))\n",
    "    filename='result_'+str(clf)[0:15]+'.xlsx'\n",
    "    val_data.to_excel(filename)\n",
    "    \n",
    "\n",
    "\n"
   ]
  },
  {
   "cell_type": "code",
   "execution_count": 8,
   "id": "7d495d72",
   "metadata": {},
   "outputs": [
    {
     "name": "stdout",
     "output_type": "stream",
     "text": [
      "accuracy_score Score on training data:\n",
      "0.8730675345809601\n",
      "____________________________________________________________________________________________________\n",
      "score on testing data:\n",
      "accuracy_score Score on test data:\n",
      "0.8678385416666666\n",
      "f1_score  on test data:\n",
      "0.850989666103667\n",
      "accuracy_score Score on training data:\n",
      "0.9092758340113913\n",
      "____________________________________________________________________________________________________\n",
      "score on testing data:\n",
      "accuracy_score Score on test data:\n",
      "0.9127604166666666\n",
      "f1_score  on test data:\n",
      "0.9040499512815194\n"
     ]
    }
   ],
   "source": [
    "\n",
    "bow_lemma_vectorizer = CountVectorizer(max_df=0.90, min_df=2, max_features = 1000)\n",
    "train_data_features_bow_lemma = bow_lemma_vectorizer.fit_transform(train_data['clean'])\n",
    "val_data_features_bow_lemma= bow_lemma_vectorizer.transform(val_data['clean'])\n",
    "test_data_features_bow_lemma = bow_lemma_vectorizer.transform(test_data['clean'])\n",
    "# B O W \n",
    "\n",
    "logistic_reg = LogisticRegression(random_state=rand_seed)\n",
    "\n",
    "train_n_test_classifier(logistic_reg, train_data_features_bow_lemma, train_data[output],\n",
    "                        val_data_features_bow_lemma, val_data[output],val_data)\n",
    "\n",
    "# TF IDF \n",
    "\n",
    "tfidf_lemma_vectorizer = TfidfVectorizer(ngram_range=(1, 1), sublinear_tf=True, max_df=0.5,  use_idf=True)\n",
    "# vectorizer = CountVectorizer(ngram_range=(1, 2))\n",
    "\n",
    "train_data_features_tfidf_lemma = tfidf_lemma_vectorizer.fit_transform(train_data['clean'])\n",
    "val_data_features_tfidf_lemma= tfidf_lemma_vectorizer.transform(val_data['clean'])\n",
    "test_data_features_tfidf_lemma = tfidf_lemma_vectorizer.transform(test_data['clean'])\n",
    "\n",
    "logistic_reg = LogisticRegression(random_state=rand_seed)\n",
    "\n",
    "train_n_test_classifier(logistic_reg, train_data_features_tfidf_lemma, train_data[output],\n",
    "                        val_data_features_tfidf_lemma, val_data[output],val_data)"
   ]
  },
  {
   "cell_type": "code",
   "execution_count": null,
   "id": "443dc3b2",
   "metadata": {},
   "outputs": [],
   "source": []
  }
 ],
 "metadata": {
  "kernelspec": {
   "display_name": "Python 3 (ipykernel)",
   "language": "python",
   "name": "python3"
  },
  "language_info": {
   "codemirror_mode": {
    "name": "ipython",
    "version": 3
   },
   "file_extension": ".py",
   "mimetype": "text/x-python",
   "name": "python",
   "nbconvert_exporter": "python",
   "pygments_lexer": "ipython3",
   "version": "3.9.12"
  }
 },
 "nbformat": 4,
 "nbformat_minor": 5
}
