{
 "cells": [
  {
   "cell_type": "code",
   "execution_count": 10,
   "id": "d3e2af07",
   "metadata": {},
   "outputs": [],
   "source": [
    "import pandas as pd\n",
    "import numpy as np\n",
    "import json\n",
    "import re\n",
    "import string\n",
    "from sklearn.model_selection import train_test_split\n",
    "from sklearn.utils import resample\n",
    "from sklearn.feature_extraction.text import TfidfVectorizer, CountVectorizer\n",
    "from sklearn.metrics import accuracy_score, f1_score\n",
    "from sklearn.svm import SVC\n",
    "from sklearn.ensemble import RandomForestClassifier, AdaBoostClassifier, GradientBoostingClassifier\n",
    "from sklearn.neural_network import MLPClassifier\n",
    "from sklearn.ensemble import VotingClassifier\n",
    "from sklearn.linear_model import LogisticRegression\n",
    "from sklearn.naive_bayes import MultinomialNB, GaussianNB\n",
    "from sklearn.model_selection import GridSearchCV\n",
    "from sklearn.model_selection import StratifiedShuffleSplit\n",
    "from tqdm.notebook import tqdm\n",
    "import matplotlib.pyplot as plt\n",
    "import sys\n",
    "\n",
    "import pickle\n",
    "\n",
    "\n",
    "%matplotlib inline\n"
   ]
  },
  {
   "cell_type": "code",
   "execution_count": 11,
   "id": "511c36ba",
   "metadata": {},
   "outputs": [],
   "source": [
    "\n",
    "rand_seed = 0  # random state for reproducibility\n",
    "np.random.seed(rand_seed)\n",
    "# reading our prepared data\n",
    "data = pd.read_excel('ALL_data.xlsx')\n",
    "data = data.dropna()\n",
    "data.head()\n",
    "\n",
    "clean_data = data\n",
    "\n",
    "clean_data.shape\n",
    "\n",
    "\n",
    "clean_data['clean']=clean_data['comment']"
   ]
  },
  {
   "cell_type": "code",
   "execution_count": 12,
   "id": "e2fe8d69",
   "metadata": {},
   "outputs": [],
   "source": [
    "def random_split(clean_data, features, output, fraction, seed=0):\n",
    "    X_train, X_test, y_train, y_test = train_test_split(data[features],\n",
    "                                                        data[output],\n",
    "                                                        stratify = data[output],\n",
    "                                                        random_state=seed,\n",
    "                                                        train_size=fraction\n",
    "                                                       )\n",
    "    train_data = pd.DataFrame(data=X_train, columns=features)\n",
    "    train_data[output] = y_train\n",
    "    test_data = pd.DataFrame(data=X_test, columns=features)\n",
    "    test_data[output] = y_test\n",
    "    \n",
    "    return train_data, test_data"
   ]
  },
  {
   "cell_type": "code",
   "execution_count": 13,
   "id": "d6a09327",
   "metadata": {},
   "outputs": [
    {
     "name": "stdout",
     "output_type": "stream",
     "text": [
      "output: label\n",
      "features: ['clean']\n",
      "train data = 2458\n",
      "val  data = 1536\n",
      "test  data = 1537\n",
      "all data = 3073\n"
     ]
    }
   ],
   "source": [
    "train_fraction = .80 # use this to split data into training (80%), and tmp (20%)\n",
    "val_fraction = .50   # use this to split the tmp data into validation (50%), and \n",
    "                     # testing (50%) which means that the validation will be 10% of the original data as well as the\n",
    "\n",
    "output = 'label' # output label column\n",
    "features = clean_data.columns.tolist() # the features columns\n",
    "features.remove(output)\n",
    "features.remove('comment')\n",
    "print('output:', output)\n",
    "print('features:', features)\n",
    "\n",
    "train_data, tmp = random_split(data, features, output, train_fraction, rand_seed)\n",
    "val_data, test_data = random_split(tmp, features, output, val_fraction, rand_seed)\n",
    "\n",
    "print(\"train data = \"+str(len(train_data)))\n",
    "print(\"val  data = \"+str(len(val_data)))\n",
    "print(\"test  data = \"+str(len(test_data)))\n",
    "\n",
    "print(\"all data = \"+str(len(data)))"
   ]
  },
  {
   "cell_type": "code",
   "execution_count": 14,
   "id": "e0e4089a",
   "metadata": {},
   "outputs": [],
   "source": [
    "def train_n_test_classifier(clf, train_features, train_labels, test_features, test_labels,data):\n",
    "    clf.fit(train_features, train_labels) # please learn patterns from the data\n",
    "\n",
    "   \n",
    "    \n",
    "    print(\"accuracy_score Score on training data:\")\n",
    "    print(clf.score(train_features, train_labels))\n",
    "    \n",
    "    \n",
    "    print('_'*100)\n",
    "\n",
    "    print(\"score on testing data:\")\n",
    "    \n",
    "    pred_y = clf.predict(test_features)\n",
    "    \n",
    "    val_data['predict']=pred_y\n",
    " \n",
    "    count=0\n",
    "    \n",
    "    print(\"accuracy_score Score on test data:\")\n",
    "    print(accuracy_score(test_labels, pred_y))\n",
    "    \n",
    "    print(\"f1_score  on test data:\")\n",
    "    print(f1_score(test_labels, pred_y, average='macro'))\n",
    "    filename='result_'+str(clf)[0:15]+'.xlsx'\n",
    "    val_data.to_excel(filename)\n",
    "    \n",
    "\n",
    "\n"
   ]
  },
  {
   "cell_type": "code",
   "execution_count": 15,
   "id": "d0d06051",
   "metadata": {},
   "outputs": [
    {
     "name": "stdout",
     "output_type": "stream",
     "text": [
      "accuracy_score Score on training data:\n",
      "0.8730675345809601\n",
      "____________________________________________________________________________________________________\n",
      "score on testing data:\n",
      "accuracy_score Score on test data:\n",
      "0.8678385416666666\n",
      "f1_score  on test data:\n",
      "0.850989666103667\n",
      "___________TF IDF__________________________\n",
      "accuracy_score Score on training data:\n",
      "0.9092758340113913\n",
      "____________________________________________________________________________________________________\n",
      "score on testing data:\n",
      "accuracy_score Score on test data:\n",
      "0.9127604166666666\n",
      "f1_score  on test data:\n",
      "0.9040499512815194\n"
     ]
    }
   ],
   "source": [
    "\n",
    "bow_lemma_vectorizer = CountVectorizer(max_df=0.90, min_df=2, max_features = 1000)\n",
    "train_data_features_bow_lemma = bow_lemma_vectorizer.fit_transform(train_data['clean'])\n",
    "val_data_features_bow_lemma= bow_lemma_vectorizer.transform(val_data['clean'])\n",
    "test_data_features_bow_lemma = bow_lemma_vectorizer.transform(test_data['clean'])\n",
    "# B O W \n",
    "\n",
    "logistic_reg = LogisticRegression(random_state=rand_seed)\n",
    "\n",
    "train_n_test_classifier(logistic_reg, train_data_features_bow_lemma, train_data[output],\n",
    "                        val_data_features_bow_lemma, val_data[output],val_data)\n",
    "\n",
    "print(\"___________TF IDF__________________________\")\n",
    "# TF IDF \n",
    "\n",
    "tfidf_lemma_vectorizer = TfidfVectorizer(ngram_range=(1, 1), sublinear_tf=True, max_df=0.5,  use_idf=True)\n",
    "# vectorizer = CountVectorizer(ngram_range=(1, 2))\n",
    "\n",
    "train_data_features_tfidf_lemma = tfidf_lemma_vectorizer.fit_transform(train_data['clean'])\n",
    "val_data_features_tfidf_lemma= tfidf_lemma_vectorizer.transform(val_data['clean'])\n",
    "test_data_features_tfidf_lemma = tfidf_lemma_vectorizer.transform(test_data['clean'])\n",
    "\n",
    "logistic_reg = LogisticRegression(random_state=rand_seed)\n",
    "\n",
    "train_n_test_classifier(logistic_reg, train_data_features_tfidf_lemma, train_data[output],\n",
    "                        val_data_features_tfidf_lemma, val_data[output],val_data)"
   ]
  },
  {
   "cell_type": "code",
   "execution_count": 17,
   "id": "3e780ec4",
   "metadata": {},
   "outputs": [
    {
     "name": "stdout",
     "output_type": "stream",
     "text": [
      "accuracy_score Score on training data:\n",
      "0.8458096013018714\n",
      "____________________________________________________________________________________________________\n",
      "score on testing data:\n",
      "accuracy_score Score on test data:\n",
      "0.8483072916666666\n",
      "f1_score  on test data:\n",
      "0.8178568820714135\n"
     ]
    }
   ],
   "source": [
    "mnb = MultinomialNB()\n",
    "\n",
    "train_n_test_classifier(mnb,  train_data_features_tfidf_lemma, train_data[output],\n",
    "                        val_data_features_tfidf_lemma, val_data[output],val_data)"
   ]
  },
  {
   "cell_type": "code",
   "execution_count": 18,
   "id": "9e292d49",
   "metadata": {},
   "outputs": [
    {
     "name": "stdout",
     "output_type": "stream",
     "text": [
      "accuracy_score Score on training data:\n",
      "0.9491456468673718\n",
      "____________________________________________________________________________________________________\n",
      "score on testing data:\n",
      "accuracy_score Score on test data:\n",
      "0.951171875\n",
      "f1_score  on test data:\n",
      "0.9461593492427353\n"
     ]
    }
   ],
   "source": [
    "svm = SVC(kernel='linear', probability=True, random_state=rand_seed)\n",
    "\n",
    "train_n_test_classifier(svm, train_data_features_tfidf_lemma, train_data[output],\n",
    "                        val_data_features_tfidf_lemma, val_data[output],val_data)\n"
   ]
  },
  {
   "cell_type": "code",
   "execution_count": 19,
   "id": "c672b7ae",
   "metadata": {},
   "outputs": [
    {
     "name": "stdout",
     "output_type": "stream",
     "text": [
      "accuracy_score Score on training data:\n",
      "0.9926769731489016\n",
      "____________________________________________________________________________________________________\n",
      "score on testing data:\n",
      "accuracy_score Score on test data:\n",
      "0.9915364583333334\n",
      "f1_score  on test data:\n",
      "0.989551445671668\n"
     ]
    }
   ],
   "source": [
    "rf = RandomForestClassifier(n_estimators=100, random_state=rand_seed)\n",
    "\n",
    "train_n_test_classifier(rf, train_data_features_tfidf_lemma, train_data[output],\n",
    "                        val_data_features_tfidf_lemma, val_data[output],val_data)\n"
   ]
  },
  {
   "cell_type": "code",
   "execution_count": 20,
   "id": "791cb3ae",
   "metadata": {},
   "outputs": [
    {
     "name": "stdout",
     "output_type": "stream",
     "text": [
      "Iteration 1, loss = 1.13912862\n",
      "Iteration 2, loss = 1.07162256\n",
      "Iteration 3, loss = 1.02699174\n",
      "Iteration 4, loss = 0.98945775\n",
      "Iteration 5, loss = 0.94238955\n",
      "Iteration 6, loss = 0.87554460\n",
      "Iteration 7, loss = 0.79022567\n",
      "Iteration 8, loss = 0.69309823\n",
      "Iteration 9, loss = 0.59105065\n",
      "Iteration 10, loss = 0.48928158\n",
      "Iteration 11, loss = 0.38287697\n",
      "Iteration 12, loss = 0.27959372\n",
      "Iteration 13, loss = 0.18909617\n",
      "Iteration 14, loss = 0.12936217\n",
      "Iteration 15, loss = 0.09274885\n",
      "Iteration 16, loss = 0.07144575\n",
      "Iteration 17, loss = 0.05742231\n",
      "Iteration 18, loss = 0.04820794\n",
      "Iteration 19, loss = 0.04077758\n",
      "Iteration 20, loss = 0.03490856\n",
      "Iteration 21, loss = 0.03097020\n",
      "Iteration 22, loss = 0.02852007\n",
      "Iteration 23, loss = 0.02583235\n",
      "Iteration 24, loss = 0.02361841\n",
      "Iteration 25, loss = 0.02212099\n",
      "Iteration 26, loss = 0.02178174\n",
      "Iteration 27, loss = 0.02085331\n",
      "Iteration 28, loss = 0.01956635\n",
      "Iteration 29, loss = 0.01931783\n",
      "Iteration 30, loss = 0.01914585\n",
      "Iteration 31, loss = 0.01768688\n",
      "Iteration 32, loss = 0.01797145\n",
      "Iteration 33, loss = 0.01719325\n",
      "Iteration 34, loss = 0.01671967\n",
      "Iteration 35, loss = 0.01671328\n",
      "Iteration 36, loss = 0.01619512\n",
      "Iteration 37, loss = 0.01586682\n",
      "Iteration 38, loss = 0.01602342\n",
      "Iteration 39, loss = 0.01539664\n",
      "Iteration 40, loss = 0.01523876\n",
      "Iteration 41, loss = 0.01543960\n",
      "Iteration 42, loss = 0.01674439\n",
      "Training loss did not improve more than tol=0.001000 for 10 consecutive epochs. Stopping.\n",
      "accuracy_score Score on training data:\n",
      "0.9926769731489016\n",
      "____________________________________________________________________________________________________\n",
      "score on testing data:\n",
      "accuracy_score Score on test data:\n",
      "0.9915364583333334\n",
      "f1_score  on test data:\n",
      "0.9895211424214329\n"
     ]
    }
   ],
   "source": [
    "mlp = MLPClassifier(hidden_layer_sizes=(20,20,20,20), verbose=True, tol=0.001, random_state=rand_seed)\n",
    "train_n_test_classifier(mlp, train_data_features_tfidf_lemma, train_data[output],\n",
    "                        val_data_features_tfidf_lemma, val_data[output],val_data)"
   ]
  },
  {
   "cell_type": "code",
   "execution_count": null,
   "id": "2210172e",
   "metadata": {},
   "outputs": [],
   "source": []
  }
 ],
 "metadata": {
  "kernelspec": {
   "display_name": "Python 3 (ipykernel)",
   "language": "python",
   "name": "python3"
  },
  "language_info": {
   "codemirror_mode": {
    "name": "ipython",
    "version": 3
   },
   "file_extension": ".py",
   "mimetype": "text/x-python",
   "name": "python",
   "nbconvert_exporter": "python",
   "pygments_lexer": "ipython3",
   "version": "3.9.12"
  }
 },
 "nbformat": 4,
 "nbformat_minor": 5
}
